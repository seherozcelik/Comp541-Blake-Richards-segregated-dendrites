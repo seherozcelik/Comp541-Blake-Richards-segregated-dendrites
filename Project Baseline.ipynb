{
 "cells": [
  {
   "cell_type": "code",
   "execution_count": 1,
   "metadata": {},
   "outputs": [],
   "source": [
    "using Knet, Printf\n",
    "#import Pkg \n",
    "#Pkg.add(\"Printf\")"
   ]
  },
  {
   "cell_type": "code",
   "execution_count": 2,
   "metadata": {},
   "outputs": [
    {
     "name": "stderr",
     "output_type": "stream",
     "text": [
      "┌ Info: Loading MNIST...\n",
      "└ @ Main /kuacc/users/sozcelik19/.julia/packages/Knet/2xiR8/data/mnist.jl:33\n"
     ]
    }
   ],
   "source": [
    "include(Knet.dir(\"data\", \"mnist.jl\"))\n",
    "dtrn,dtst = mnistdata(xsize=(784,:)); # dtrn and dtst = [ (x1,y1), (x2,y2), ... ] where xi,yi are minibatches of 100"
   ]
  },
  {
   "cell_type": "code",
   "execution_count": 3,
   "metadata": {},
   "outputs": [
    {
     "data": {
      "text/plain": [
       "\"600-element Knet.Data{Tuple{KnetArray{Float32,2},Array{UInt8,1}}}\""
      ]
     },
     "execution_count": 3,
     "metadata": {},
     "output_type": "execute_result"
    }
   ],
   "source": [
    "summary(dtrn)"
   ]
  },
  {
   "cell_type": "code",
   "execution_count": 4,
   "metadata": {},
   "outputs": [],
   "source": [
    "mutable struct Hidden\n",
    "    w # weight\n",
    "    b # bias\n",
    "    fun # non-linear activation function\n",
    "end\n",
    "\n",
    "mutable struct Linear # softmax layer\n",
    "    w # weight\n",
    "    b # bias\n",
    "end"
   ]
  },
  {
   "cell_type": "code",
   "execution_count": 5,
   "metadata": {},
   "outputs": [
    {
     "data": {
      "text/plain": [
       "Linear"
      ]
     },
     "execution_count": 5,
     "metadata": {},
     "output_type": "execute_result"
    }
   ],
   "source": [
    "function Hidden(xsize::Int, ysize::Int, fun=relu)\n",
    "    w = Param(convert(KnetArray{Float32},randn(ysize, xsize)))\n",
    "    b = Param(convert(KnetArray{Float32},randn(ysize)))\n",
    "    return Hidden(w,b,fun)\n",
    "end\n",
    "\n",
    "function Linear(xsize::Int, ysize::Int) # softmax layer\n",
    "    w = Param(convert(KnetArray{Float32},randn(ysize, xsize)))\n",
    "    b = Param(convert(KnetArray{Float32},randn(ysize)))\n",
    "    return Linear(w,b)\n",
    "end"
   ]
  },
  {
   "cell_type": "code",
   "execution_count": 6,
   "metadata": {},
   "outputs": [],
   "source": [
    "function (l::Hidden)(x)\n",
    "    l.fun.(l.w * x .+ l.b)\n",
    "end\n",
    "\n",
    "function (l::Linear)(x) # softmax layer\n",
    "    l.w * x .+ l.b\n",
    "end"
   ]
  },
  {
   "cell_type": "code",
   "execution_count": 7,
   "metadata": {},
   "outputs": [],
   "source": [
    "mutable struct Network\n",
    "    hidden_layer::Hidden\n",
    "    softmax_layer::Linear\n",
    "end"
   ]
  },
  {
   "cell_type": "code",
   "execution_count": 8,
   "metadata": {},
   "outputs": [
    {
     "data": {
      "text/plain": [
       "Network"
      ]
     },
     "execution_count": 8,
     "metadata": {},
     "output_type": "execute_result"
    }
   ],
   "source": [
    "function Network(hiddenx, hiddeny, fun, softx, softy) \n",
    "    return Network(Hidden(hiddenx, hiddeny, fun), Linear(softx, softy))\n",
    "end"
   ]
  },
  {
   "cell_type": "code",
   "execution_count": 9,
   "metadata": {},
   "outputs": [],
   "source": [
    "function (n::Network)(x)\n",
    "    x = n.hidden_layer(x)\n",
    "    x = n.softmax_layer(x)\n",
    "    return x\n",
    "end"
   ]
  },
  {
   "cell_type": "code",
   "execution_count": 10,
   "metadata": {},
   "outputs": [],
   "source": [
    "function (n::Network)(x, y)\n",
    "    return nll(n(x),y)\n",
    "end"
   ]
  },
  {
   "cell_type": "code",
   "execution_count": 11,
   "metadata": {},
   "outputs": [
    {
     "data": {
      "text/plain": [
       "trainNetwork! (generic function with 1 method)"
      ]
     },
     "execution_count": 11,
     "metadata": {},
     "output_type": "execute_result"
    }
   ],
   "source": [
    "function trainNetwork!(n::Network, x, y)\n",
    "    J = @diff n(x, y)\n",
    "    for par in params(n)\n",
    "        g = grad(J, par)\n",
    "        update!(value(par), g)\n",
    "    end\n",
    "    return value(J)\n",
    "end"
   ]
  },
  {
   "cell_type": "code",
   "execution_count": 12,
   "metadata": {},
   "outputs": [
    {
     "data": {
      "text/plain": [
       "accuracy (generic function with 1 method)"
      ]
     },
     "execution_count": 12,
     "metadata": {},
     "output_type": "execute_result"
    }
   ],
   "source": [
    "function accuracy(net, data)\n",
    "    correct = 0\n",
    "    num = 0\n",
    "    for (x,y_hat) in data\n",
    "        y_pred = net(x)\n",
    "        for i in 1:length(y_hat)\n",
    "            if argmax(softmax(y_pred[:,i])) == y_hat[i]\n",
    "                correct += 1\n",
    "            end\n",
    "            num += 1\n",
    "        end\n",
    "    end\n",
    "    return correct / num\n",
    "end"
   ]
  },
  {
   "cell_type": "code",
   "execution_count": 13,
   "metadata": {},
   "outputs": [
    {
     "name": "stdout",
     "output_type": "stream",
     "text": [
      "epoch: 1 loss: 9.96154 trn accuracy: 0.92345 tst accuracy: 0.9187\n",
      "epoch: 2 loss: 2.63946 trn accuracy: 0.944083 tst accuracy: 0.9309\n",
      "epoch: 3 loss: 1.64889 trn accuracy: 0.954833 tst accuracy: 0.9364\n",
      "epoch: 4 loss: 1.12979 trn accuracy: 0.957783 tst accuracy: 0.9394\n",
      "epoch: 5 loss: 0.819794 trn accuracy: 0.964217 tst accuracy: 0.9422\n",
      "epoch: 6 loss: 0.612769 trn accuracy: 0.966683 tst accuracy: 0.9422\n",
      "epoch: 7 loss: 0.462772 trn accuracy: 0.969517 tst accuracy: 0.9423\n",
      "epoch: 8 loss: 0.362421 trn accuracy: 0.971683 tst accuracy: 0.9429\n",
      "epoch: 9 loss: 0.276665 trn accuracy: 0.976017 tst accuracy: 0.9446\n",
      "epoch: 10 loss: 0.219735 trn accuracy: 0.973667 tst accuracy: 0.9426\n"
     ]
    }
   ],
   "source": [
    "net = Network(784, 500, relu, 500, 10)\n",
    "for i=1:10\n",
    "    loss = 0\n",
    "    for (x,y) in dtrn\n",
    "        loss += trainNetwork!(net, x, y)\n",
    "    end\n",
    "    trnacc = accuracy(net, dtrn)\n",
    "    tstacc = accuracy(net, dtst)\n",
    "    @printf(\"epoch: %d loss: %g trn accuracy: %g tst accuracy: %g\\n\", i, loss/600, trnacc, tstacc)\n",
    "end"
   ]
  }
 ],
 "metadata": {
  "kernelspec": {
   "display_name": "Julia 1.3.1",
   "language": "julia",
   "name": "julia-1.3"
  },
  "language_info": {
   "file_extension": ".jl",
   "mimetype": "application/julia",
   "name": "julia",
   "version": "1.3.1"
  }
 },
 "nbformat": 4,
 "nbformat_minor": 2
}

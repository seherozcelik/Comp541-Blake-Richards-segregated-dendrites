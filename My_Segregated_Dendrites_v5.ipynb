{
 "cells": [
  {
   "cell_type": "markdown",
   "metadata": {},
   "source": [
    "## Imports"
   ]
  },
  {
   "cell_type": "code",
   "execution_count": 1,
   "metadata": {},
   "outputs": [
    {
     "name": "stdout",
     "output_type": "stream",
     "text": [
      "\u001b[32m\u001b[1m  Updating\u001b[22m\u001b[39m registry at `~/.julia/registries/General`\n",
      "\u001b[32m\u001b[1m Resolving\u001b[22m\u001b[39m package versions...\n"
     ]
    },
    {
     "name": "stderr",
     "output_type": "stream",
     "text": [
      "┌ Warning: Some registries failed to update:\n",
      "│     — `~/.julia/registries/General` — registry dirty\n",
      "└ @ Pkg.Types /buildworker/worker/package_linux64/build/usr/share/julia/stdlib/v1.3/Pkg/src/Types.jl:1199\n"
     ]
    },
    {
     "name": "stdout",
     "output_type": "stream",
     "text": [
      "\u001b[32m\u001b[1m  Updating\u001b[22m\u001b[39m `/scratch/users/sozcelik19/.julia/environments/v1.3/Project.toml`\n",
      "\u001b[90m [no changes]\u001b[39m\n",
      "\u001b[32m\u001b[1m  Updating\u001b[22m\u001b[39m `/scratch/users/sozcelik19/.julia/environments/v1.3/Manifest.toml`\n",
      "\u001b[90m [no changes]\u001b[39m\n",
      "\u001b[32m\u001b[1m Resolving\u001b[22m\u001b[39m package versions...\n",
      "\u001b[32m\u001b[1m  Updating\u001b[22m\u001b[39m `/scratch/users/sozcelik19/.julia/environments/v1.3/Project.toml`\n",
      "\u001b[90m [no changes]\u001b[39m\n",
      "\u001b[32m\u001b[1m  Updating\u001b[22m\u001b[39m `/scratch/users/sozcelik19/.julia/environments/v1.3/Manifest.toml`\n",
      "\u001b[90m [no changes]\u001b[39m\n",
      "\u001b[32m\u001b[1m Resolving\u001b[22m\u001b[39m package versions...\n",
      "\u001b[32m\u001b[1m  Updating\u001b[22m\u001b[39m `/scratch/users/sozcelik19/.julia/environments/v1.3/Project.toml`\n",
      "\u001b[90m [no changes]\u001b[39m\n",
      "\u001b[32m\u001b[1m  Updating\u001b[22m\u001b[39m `/scratch/users/sozcelik19/.julia/environments/v1.3/Manifest.toml`\n",
      "\u001b[90m [no changes]\u001b[39m\n"
     ]
    }
   ],
   "source": [
    "using MLDatasets\n",
    "using Random\n",
    "import Pkg\n",
    "Pkg.add(\"Flux\")\n",
    "using Flux: onehotbatch\n",
    "Pkg.add(\"PoissonRandom\")\n",
    "using PoissonRandom\n",
    "Pkg.add(\"Distributions\")\n",
    "using Distributions\n",
    "using Statistics\n",
    "using Printf"
   ]
  },
  {
   "cell_type": "code",
   "execution_count": 2,
   "metadata": {},
   "outputs": [
    {
     "data": {
      "text/plain": [
       "100"
      ]
     },
     "execution_count": 2,
     "metadata": {},
     "output_type": "execute_result"
    }
   ],
   "source": [
    "n_full_test  = 10000 # number of examples to use for full tests  (every epoch)\n",
    "n_quick_test = 100   # number of examples to use for quick tests (every 1000 examples)"
   ]
  },
  {
   "cell_type": "markdown",
   "metadata": {},
   "source": [
    "## Global Variables"
   ]
  },
  {
   "cell_type": "code",
   "execution_count": 3,
   "metadata": {},
   "outputs": [
    {
     "data": {
      "text/plain": [
       "0.2"
      ]
     },
     "execution_count": 3,
     "metadata": {},
     "output_type": "execute_result"
    }
   ],
   "source": [
    "# global variables\n",
    "l_f_phase      = 2  # length of forward phase (time steps)\n",
    "l_t_phase      = 2  # length of target phase (time steps)\n",
    "l_f_phase_test = 2  # length of forward phase for tests (time steps)\n",
    "dt          = 1.0    # time step (ms)\n",
    "lambda_max  = 0.2*dt # maximum spike rate (spikes per time step)\n",
    "# integration_time = 1 # time steps of integration of neuronal variables used for plasticity\n",
    "# we don't use integration time, this makes index start from 0 where julia indexes start from 1 - directly use 1 inst 0"
   ]
  },
  {
   "cell_type": "code",
   "execution_count": 4,
   "metadata": {},
   "outputs": [
    {
     "data": {
      "text/plain": [
       "499.9999999999999"
      ]
     },
     "execution_count": 4,
     "metadata": {},
     "output_type": "execute_result"
    }
   ],
   "source": [
    "# kernel parameters\n",
    "tau_L = 10.0 # leak time constant\n",
    "\n",
    "# conductance parameters\n",
    "g_B = 0.6                                   # basal conductance\n",
    "g_L = 1.0/tau_L                             # leak conductance\n",
    "g_D = g_B                                   # dendritic conductance in output layer\n",
    "\n",
    "E_E = 8                                     # excitation reversal potential\n",
    "E_I = -8                                    # inhibition reversal potential\n",
    "\n",
    "# steady state constants\n",
    "k_B = g_B/(g_L + g_B)\n",
    "k_D = g_D/(g_L + g_D)\n",
    "k_I = 1.0/(g_L + g_D)\n",
    "\n",
    "# weight update constants\n",
    "P_hidden = 20.0/lambda_max      # hidden layer error signal scaling factor\n",
    "P_final  = 20.0/(lambda_max^2)  # final layer error signal scaling factor"
   ]
  },
  {
   "cell_type": "markdown",
   "metadata": {},
   "source": [
    "## Functions"
   ]
  },
  {
   "cell_type": "code",
   "execution_count": 5,
   "metadata": {},
   "outputs": [
    {
     "data": {
      "text/plain": [
       "sigma (generic function with 1 method)"
      ]
     },
     "execution_count": 5,
     "metadata": {},
     "output_type": "execute_result"
    }
   ],
   "source": [
    "# sigmoid function\n",
    "function sigma(x) \n",
    "    return 1 / (1 + exp(-x))\n",
    "end"
   ]
  },
  {
   "cell_type": "code",
   "execution_count": 6,
   "metadata": {},
   "outputs": [
    {
     "data": {
      "text/plain": [
       "deriv_sigma (generic function with 1 method)"
      ]
     },
     "execution_count": 6,
     "metadata": {},
     "output_type": "execute_result"
    }
   ],
   "source": [
    "# derivative sigmoid function\n",
    "function deriv_sigma(x)\n",
    "    return exp(-x) / (1 + exp(-x))^2\n",
    "end"
   ]
  },
  {
   "cell_type": "markdown",
   "metadata": {},
   "source": [
    "## Objects"
   ]
  },
  {
   "cell_type": "code",
   "execution_count": 7,
   "metadata": {},
   "outputs": [],
   "source": [
    "mutable struct HiddenLayer\n",
    "    m # The layer number, eg. m = 1 for the first hidden layer.\n",
    "    PSP_B # post-synaptic potentials\n",
    "    B\n",
    "    A\n",
    "    C\n",
    "    lambda_C\n",
    "    alpha_f\n",
    "    alpha_t\n",
    "    E\n",
    "    delta_W\n",
    "    delta_b\n",
    "end"
   ]
  },
  {
   "cell_type": "code",
   "execution_count": 8,
   "metadata": {},
   "outputs": [],
   "source": [
    "mutable struct FinalLayer\n",
    "    m # The layer number, ie. m = M where M is the total number of layers.\n",
    "    lambda_C # something about soma\n",
    "    PSP_B # post-synaptic potentials\n",
    "    B\n",
    "    C\n",
    "    C_f\n",
    "    k_D2\n",
    "    k_E\n",
    "    k_I\n",
    "    E\n",
    "    delta_W\n",
    "    delta_b\n",
    "end"
   ]
  },
  {
   "cell_type": "code",
   "execution_count": 9,
   "metadata": {},
   "outputs": [],
   "source": [
    "mutable struct Network\n",
    "    n # Tuple - Number of units in each layer of the network, eg. (500, 10) here.\n",
    "    hiddenLayer::HiddenLayer\n",
    "    finalLayer::FinalLayer\n",
    "    W\n",
    "    b\n",
    "    Y\n",
    "    f_etas\n",
    "    loss\n",
    "end"
   ]
  },
  {
   "cell_type": "markdown",
   "metadata": {},
   "source": [
    "## Initialization Sub-Functions"
   ]
  },
  {
   "cell_type": "code",
   "execution_count": 10,
   "metadata": {},
   "outputs": [
    {
     "data": {
      "text/plain": [
       "initializeWbY (generic function with 1 method)"
      ]
     },
     "execution_count": 10,
     "metadata": {},
     "output_type": "execute_result"
    }
   ],
   "source": [
    "function initializeWbY(ln, n, n_in)\n",
    "    W = Array{Any}(undef, ln)\n",
    "    b = Array{Any}(undef, ln)\n",
    "    Y = Array{Any}(undef, ln-1)\n",
    "    \n",
    "    # weight optimization parameters\n",
    "    V_avg = 3   # desired average of dendritic potential\n",
    "    V_sd  = 3   # desired standard deviation of dendritic potential\n",
    "    b_avg = 0.8  # desired average of bias\n",
    "    b_sd  = 0.001 # desired standard deviation of bias\n",
    "    nu    = lambda_max*0.25  # slope of linear region of activation function\n",
    "    V_sm  = V_sd^2 + V_avg^2 # second moment of dendritic potential\n",
    "    \n",
    "    for m in 2:-1:1\n",
    "        # get number of units in the layer below\n",
    "        if m != 1\n",
    "            N = n[m-1] #500 W2\n",
    "        else\n",
    "            N = n_in  #784 W1\n",
    "        end\n",
    "            \n",
    "        # generate feedforward weights & biases\n",
    "        # calculate weight variables needed to get desired average & standard deviations of somatic potentials\n",
    "        W_avg = (V_avg - b_avg)/(nu*N*V_avg) \n",
    "        W_sm  = (V_sm + (nu^2)*(N - N^2)*(W_avg^2)*(V_avg^2) - 2*N*nu*b_avg*V_avg*W_avg - (b_avg^2))/(N*(nu^2)*V_sm)\n",
    "        W_sd  = sqrt(W_sm - W_avg^2)\n",
    " \n",
    "        W[m] = W_avg .+ 3.465*W_sd*rand(Uniform(-1,1), n[m], N) # (500,784) , (10,500)\n",
    "        b[m] = b_avg .+ 3.465*b_sd*rand(Uniform(-1,1), n[m], 1) # (500,1) , (10,1)\n",
    "        \n",
    "        if m != 1\n",
    "            Y[m-1] = W_avg .+ 3.465*W_sd*rand(Uniform(-1,1), N, n[end]) # (500,10)\n",
    "        end\n",
    "    end\n",
    "        \n",
    "    return W, b, Y\n",
    "end"
   ]
  },
  {
   "cell_type": "markdown",
   "metadata": {},
   "source": [
    "## Initializations"
   ]
  },
  {
   "cell_type": "code",
   "execution_count": 11,
   "metadata": {},
   "outputs": [
    {
     "data": {
      "text/plain": [
       "HiddenLayer"
      ]
     },
     "execution_count": 11,
     "metadata": {},
     "output_type": "execute_result"
    }
   ],
   "source": [
    "# f_input_size - The size of feedforward input, eg. 784 for MNIST input. (784, 1) here.\n",
    "# b_input_size - The size of feedback input. This is the same as the number of units in the next layer. (10,1) here.\n",
    "function HiddenLayer(m, n, f_input_size, b_input_size, size_W) # m=1\n",
    "    PSP_B = zeros(f_input_size, 1)              # (784,1) m=1 in hidden here\n",
    "    B = zeros(n[m], 1)                          # (500,1) m=1 in hidden here\n",
    "    A = zeros(n[m], 1)\n",
    "    C = zeros(n[m], 1)\n",
    "    lambda_C = zeros(n[m], 1)\n",
    "    alpha_f = zeros(n[m], 1)\n",
    "    alpha_t = zeros(n[m], 1)\n",
    "    E = zeros(n[m], 1)\n",
    "    delta_W = zeros(size_W)\n",
    "    delta_b = zeros(n[m], 1)\n",
    "    return HiddenLayer(m, PSP_B, B, A, C, lambda_C, alpha_f, alpha_t, E, delta_W, delta_b)\n",
    "end"
   ]
  },
  {
   "cell_type": "code",
   "execution_count": 12,
   "metadata": {},
   "outputs": [
    {
     "data": {
      "text/plain": [
       "FinalLayer"
      ]
     },
     "execution_count": 12,
     "metadata": {},
     "output_type": "execute_result"
    }
   ],
   "source": [
    "# f_input_size - The size of feedforward input. This is the same as the number of units in the previous layer. (500,1)\n",
    "function FinalLayer(m, n, f_input_size, size_W) # m=2\n",
    "    lambda_C = zeros(n[m], 1)                   # (10,1) m=2 in final here\n",
    "    PSP_B = zeros(f_input_size, 1)              # (500,1) in size \n",
    "    B = zeros(n[m], 1)                                \n",
    "    C = zeros(n[m], 1)\n",
    "    C_f = zeros(n[m], 1)\n",
    "    k_D2 = zeros(n[m], 1)\n",
    "    k_E = zeros(n[m], 1)\n",
    "    k_I = zeros(n[m], 1)\n",
    "    E = zeros(n[m], 1)\n",
    "    delta_W = zeros(size_W)\n",
    "    delta_b = zeros(n[m], 1)\n",
    "    return FinalLayer(m, lambda_C, PSP_B, B, C, C_f, k_D2, k_E, k_I, E, delta_W, delta_b)\n",
    "end"
   ]
  },
  {
   "cell_type": "code",
   "execution_count": 13,
   "metadata": {},
   "outputs": [
    {
     "data": {
      "text/plain": [
       "Network"
      ]
     },
     "execution_count": 13,
     "metadata": {},
     "output_type": "execute_result"
    }
   ],
   "source": [
    "function Network(n, n_in)\n",
    "    W, b, Y = initializeWbY(length(n), n, n_in)\n",
    "    hiddenLayer = HiddenLayer(1, n, n_in, n[end], size(W[1]))\n",
    "    finalLayer = FinalLayer(2, n, n[end-1], size(W[2]))\n",
    "    f_etas = (0.21, 0.21)       #Learning rates for each layer's feedforward weights\n",
    "    loss = 0\n",
    "    return Network(n, hiddenLayer, finalLayer, W, b, Y, f_etas, loss)\n",
    "end"
   ]
  },
  {
   "cell_type": "markdown",
   "metadata": {},
   "source": [
    "## Callable Objects Sub-Functions"
   ]
  },
  {
   "cell_type": "code",
   "execution_count": 14,
   "metadata": {},
   "outputs": [
    {
     "data": {
      "text/plain": [
       "update_B (generic function with 1 method)"
      ]
     },
     "execution_count": 14,
     "metadata": {},
     "output_type": "execute_result"
    }
   ],
   "source": [
    "# Update basal potentials.\n",
    "# f_input Feedforward input. (784, 1) here\n",
    "function update_B(hidden::HiddenLayer, net::Network, f_input)\n",
    "    hidden.PSP_B = f_input\n",
    "    hidden.B = net.W[hidden.m]*f_input .+ net.b[hidden.m] # (500,784) * (784,1) .+ (500,1) m=1 in hidden here\n",
    "end"
   ]
  },
  {
   "cell_type": "code",
   "execution_count": 15,
   "metadata": {},
   "outputs": [
    {
     "data": {
      "text/plain": [
       "update_A (generic function with 1 method)"
      ]
     },
     "execution_count": 15,
     "metadata": {},
     "output_type": "execute_result"
    }
   ],
   "source": [
    "# Update apical potentials.\n",
    "# b_input Feedback input. (10,1) here\n",
    "function update_A(hidden::HiddenLayer, net::Network, b_input)\n",
    "    hidden.A = net.Y[hidden.m]*b_input # (500,10) * (10,1) m=1 in hidden here\n",
    "end"
   ]
  },
  {
   "cell_type": "code",
   "execution_count": 16,
   "metadata": {},
   "outputs": [
    {
     "data": {
      "text/plain": [
       "update_C (generic function with 1 method)"
      ]
     },
     "execution_count": 16,
     "metadata": {},
     "output_type": "execute_result"
    }
   ],
   "source": [
    "# Update somatic potentials & calculate firing rates.\n",
    "function update_C(hidden::HiddenLayer, net::Network)\n",
    "    hidden.C = k_B*hidden.B\n",
    "    hidden.lambda_C = lambda_max*sigma.(hidden.C)\n",
    "end"
   ]
  },
  {
   "cell_type": "code",
   "execution_count": 17,
   "metadata": {},
   "outputs": [
    {
     "data": {
      "text/plain": [
       "update_B (generic function with 2 methods)"
      ]
     },
     "execution_count": 17,
     "metadata": {},
     "output_type": "execute_result"
    }
   ],
   "source": [
    "# Update basal potentials.\n",
    "# f_input Feedforward input. (500, 1) here\n",
    "function update_B(final::FinalLayer, net::Network, f_input)\n",
    "    final.PSP_B = f_input\n",
    "    final.B = net.W[final.m]*f_input .+ net.b[final.m] # (10,500) * (500, 1) .+ (10,1) m=2 in final here\n",
    "end"
   ]
  },
  {
   "cell_type": "code",
   "execution_count": 18,
   "metadata": {},
   "outputs": [
    {
     "data": {
      "text/plain": [
       "update_C_forward (generic function with 1 method)"
      ]
     },
     "execution_count": 18,
     "metadata": {},
     "output_type": "execute_result"
    }
   ],
   "source": [
    "# Update somatic potentials & calculate firing rates.\n",
    "function update_C_forward(final::FinalLayer, net::Network)\n",
    "    final.C = k_D.*final.B\n",
    "    final.lambda_C = lambda_max*sigma.(final.C)\n",
    "end"
   ]
  },
  {
   "cell_type": "code",
   "execution_count": 19,
   "metadata": {},
   "outputs": [
    {
     "data": {
      "text/plain": [
       "update_I (generic function with 1 method)"
      ]
     },
     "execution_count": 19,
     "metadata": {},
     "output_type": "execute_result"
    }
   ],
   "source": [
    "# Update injected perisomatic currents.\n",
    "# b_input : Target input, eg. if the target label is 8,\n",
    "# b_input = np.array([0, 0, 0, 0, 0, 0, 0, 0, 1, 0]).\n",
    "function update_I(final::FinalLayer, b_input)\n",
    "    g_E = b_input\n",
    "    g_I = -g_E .+ 1\n",
    "    final.k_D2 = g_D./((g_L + g_D) .+ g_E + g_I)\n",
    "    final.k_E  = g_E./((g_L + g_D) .+ g_E + g_I)\n",
    "    final.k_I  = g_I./((g_L + g_D) .+ g_E + g_I)\n",
    "end"
   ]
  },
  {
   "cell_type": "code",
   "execution_count": 20,
   "metadata": {},
   "outputs": [
    {
     "data": {
      "text/plain": [
       "update_C_target (generic function with 1 method)"
      ]
     },
     "execution_count": 20,
     "metadata": {},
     "output_type": "execute_result"
    }
   ],
   "source": [
    "# Update somatic potentials & calculate firing rates.\n",
    "function update_C_target(final::FinalLayer, net::Network)\n",
    "    final.C = final.k_D2.*final.B + final.k_E*E_E + final.k_I*E_I\n",
    "    final.lambda_C = lambda_max*sigma.(final.C)\n",
    "end"
   ]
  },
  {
   "cell_type": "markdown",
   "metadata": {},
   "source": [
    "## Callable Objects"
   ]
  },
  {
   "cell_type": "code",
   "execution_count": 21,
   "metadata": {},
   "outputs": [],
   "source": [
    "# hidden layer out_f / out_t\n",
    "# Perform a forward phase pass. / Perform a target phase pass.\n",
    "# f_input Feedforward input. (784, 1) here\n",
    "# b_input Feedback input. (10,1) here\n",
    "\n",
    "function (hidden::HiddenLayer)(net::Network, f_input, b_input)\n",
    "    update_B(hidden, net, f_input)\n",
    "    update_A(hidden, net, b_input)\n",
    "    update_C(hidden, net)\n",
    "end"
   ]
  },
  {
   "cell_type": "code",
   "execution_count": 22,
   "metadata": {},
   "outputs": [],
   "source": [
    "# hidden layer plateau_f / plateau_t\n",
    "# Calculate forward phase apical plateau potentials.\n",
    "\n",
    "function (hidden::HiddenLayer)(t_f)\n",
    "    if t_f == \"f\"\n",
    "        # calculate apical calcium spike nonlinearity\n",
    "        hidden.alpha_f = sigma.(hidden.A)\n",
    "    end\n",
    "    if t_f == \"t\"\n",
    "        # calculate apical calcium spike nonlinearity\n",
    "        hidden.alpha_t = sigma.(hidden.A)\n",
    "    end\n",
    "end"
   ]
  },
  {
   "cell_type": "code",
   "execution_count": 23,
   "metadata": {},
   "outputs": [],
   "source": [
    "# hidden layer update_W\n",
    "# Update feedforward weights.\n",
    "\n",
    "function (hidden::HiddenLayer)(net::Network)\n",
    "    hidden.E = (hidden.alpha_t - hidden.alpha_f).*((-k_B)*lambda_max*deriv_sigma.(hidden.C))\n",
    "    hidden.delta_W = hidden.E * hidden.PSP_B'   #((500,1)*(1,784) = (500,784)\n",
    "    net.W[hidden.m] += -net.f_etas[hidden.m]*P_hidden*hidden.delta_W\n",
    "    hidden.delta_b = hidden.E\n",
    "    net.b[hidden.m] += -net.f_etas[hidden.m]*P_hidden*hidden.delta_b\n",
    "end"
   ]
  },
  {
   "cell_type": "code",
   "execution_count": 24,
   "metadata": {},
   "outputs": [],
   "source": [
    "# final layer out_f\n",
    "# Perform a forward phase pass.\n",
    "# f_input Feedforward input. (500, 1) here\n",
    "\n",
    "function (final::FinalLayer)(net::Network, f_input)\n",
    "    update_B(final, net, f_input)\n",
    "    update_C_forward(final, net)\n",
    "end"
   ]
  },
  {
   "cell_type": "code",
   "execution_count": 25,
   "metadata": {},
   "outputs": [],
   "source": [
    "# final layer out_t\n",
    "# Perform a target phase pass.\n",
    "# f_input (ndarray) : Feedforward input.\n",
    "# b_input (ndarray) : Target input.\n",
    "\n",
    "function (final::FinalLayer)(net::Network, f_input, b_input)\n",
    "    update_B(final, net, f_input)\n",
    "    update_I(final, b_input)\n",
    "    update_C_target(final, net)\n",
    "end"
   ]
  },
  {
   "cell_type": "code",
   "execution_count": 26,
   "metadata": {},
   "outputs": [],
   "source": [
    "# final layer update_W\n",
    "# Update feedforward weights.\n",
    "\n",
    "function (final::FinalLayer)(net::Network)\n",
    "    final.E = (final.lambda_C - lambda_max*sigma.(final.C_f)).*((-k_D)*lambda_max*deriv_sigma.(final.C_f))\n",
    "    final.delta_W = final.E * final.PSP_B'   #(10,1)*(1,500) = (10,500)\n",
    "    net.W[final.m] += -net.f_etas[final.m]*P_final*final.delta_W\n",
    "    final.delta_b = final.E\n",
    "    net.b[final.m] += -net.f_etas[final.m]*P_final*final.delta_b\n",
    "end"
   ]
  },
  {
   "cell_type": "code",
   "execution_count": 27,
   "metadata": {},
   "outputs": [],
   "source": [
    "# net f_phase\n",
    "# Perform a forward phase.\n",
    "# x : Input array of size (X, 1) where X is the size of the input, eg. (784, 1).\n",
    "function (net::Network)(x)\n",
    "    for time in 1:l_f_phase\n",
    "        # do a forward pass <--> net out_f -- line 530\n",
    "        net.hiddenLayer(net, x, net.finalLayer.lambda_C) # hidden layer out_f\n",
    "        net.finalLayer(net, net.hiddenLayer.lambda_C) # final layer out_f\n",
    "    end\n",
    "    # calculate plateau potentials for hidden layer neurons\n",
    "    net.hiddenLayer(\"f\") #hidden layer plateau_f\n",
    "    # record C(soma) forward potential\n",
    "    net.finalLayer.C_f = net.finalLayer.C\n",
    "end"
   ]
  },
  {
   "cell_type": "code",
   "execution_count": 28,
   "metadata": {},
   "outputs": [],
   "source": [
    "# net t_phase\n",
    "# Perform a target phase.\n",
    "# x : Input array of size (X, 1) where X is the size of the input, eg. (784, 1).\n",
    "# t : Target array of size (T, 1) where T is the size of the target, eg. (10, 1).\n",
    "\n",
    "function (net::Network)(x, t)\n",
    "    for time in 1:l_t_phase\n",
    "        # do a target pass <--> net out_t\n",
    "        net.hiddenLayer(net, x, net.finalLayer.lambda_C) # hidden layer out_t\n",
    "        net.finalLayer(net, net.hiddenLayer.lambda_C, t) # final layer out_t\n",
    "    end\n",
    "    # calculate plateau potentials for hidden layer neurons\n",
    "    net.hiddenLayer(\"t\") #hidden layer plateau_t\n",
    "    # update weights \n",
    "    net.finalLayer(net)       #final layer update_W\n",
    "    net.hiddenLayer(net)      #hidden layer update_W\n",
    "    net.loss = mean((net.finalLayer.lambda_C - lambda_max*sigma.(net.finalLayer.C_f)).^2)\n",
    "    # reset averages\n",
    "    net.finalLayer.C_f .*= 0\n",
    "end"
   ]
  },
  {
   "cell_type": "markdown",
   "metadata": {},
   "source": [
    "## Training Sub-Functions"
   ]
  },
  {
   "cell_type": "code",
   "execution_count": 29,
   "metadata": {},
   "outputs": [
    {
     "data": {
      "text/plain": [
       "clear_vars (generic function with 1 method)"
      ]
     },
     "execution_count": 29,
     "metadata": {},
     "output_type": "execute_result"
    }
   ],
   "source": [
    "function clear_vars(net::Network)\n",
    "    net.hiddenLayer.A .*= 0\n",
    "    net.hiddenLayer.B .*= 0\n",
    "    net.hiddenLayer.C .*= 0\n",
    "    net.hiddenLayer.lambda_C .*= 0\n",
    "\n",
    "    net.hiddenLayer.PSP_B .*= 0\n",
    "\n",
    "    net.hiddenLayer.E .*= 0\n",
    "    net.hiddenLayer.delta_W .*= 0\n",
    "    net.hiddenLayer.delta_b .*= 0\n",
    "\n",
    "    net.hiddenLayer.alpha_f .*= 0\n",
    "    net.hiddenLayer.alpha_t .*= 0\n",
    "    \n",
    "    net.finalLayer.B .*= 0\n",
    "    net.finalLayer.C .*= 0\n",
    "    net.finalLayer.lambda_C .*= 0\n",
    "\n",
    "    net.finalLayer.PSP_B .*= 0\n",
    "\n",
    "    net.finalLayer.E .*= 0\n",
    "    net.finalLayer.delta_W .*= 0\n",
    "    net.finalLayer.delta_b .*= 0\n",
    "\n",
    "    net.finalLayer.C_f .*= 0\n",
    "end"
   ]
  },
  {
   "cell_type": "code",
   "execution_count": 30,
   "metadata": {},
   "outputs": [
    {
     "data": {
      "text/plain": [
       "test_weights (generic function with 1 method)"
      ]
     },
     "execution_count": 30,
     "metadata": {},
     "output_type": "execute_result"
    }
   ],
   "source": [
    "# net test_weights\n",
    "# Test the network's current weights on the test set. The network's layers are copied\n",
    "#      and restored to their previous state after testing.\n",
    "# n_test : The number of test examples to use.\n",
    "\n",
    "function test_weights(net::Network, n_test, x_test, t_test, l_f_phase, l_f_phase_test)\n",
    "    # save old length of forward phase\n",
    "    old_l_f_phase = l_f_phase\n",
    "\n",
    "    # set new length of forward phase\n",
    "    l_f_phase = l_f_phase_test\n",
    "\n",
    "    # initialize count of correct classifications\n",
    "    num_correct = 0\n",
    "\n",
    "    # shuffle testing data\n",
    "    order = randperm(size(x_test)[2]) #randperm(10000)\n",
    "    x_test = x_test[:,order] \n",
    "    t_test = t_test[:,order]\n",
    "    \n",
    "    for i in 1:n_test\n",
    "        # clear all layer variables\n",
    "        clear_vars(net)\n",
    "\n",
    "        # get testing example data\n",
    "        x = lambda_max*x_test[:, i]\n",
    "        t = t_test[:, i]\n",
    "\n",
    "        # do a forward phase & get the unit with maximum average somatic potential\n",
    "        net(x) # net f_phase\n",
    "        sel_num = argmax(net.finalLayer.C_f)[1]\n",
    "\n",
    "        # get the target number from testing example data\n",
    "        target_num = argmax(t)\n",
    "\n",
    "        # increment correct classification counter if they match\n",
    "        if sel_num == target_num\n",
    "            num_correct += 1\n",
    "        end\n",
    "    end\n",
    "    \n",
    "    # calculate percent error\n",
    "    err_rate = (1.0 - num_correct/n_test)*100.0\n",
    "\n",
    "    l_f_phase = old_l_f_phase\n",
    "\n",
    "    clear_vars(net)\n",
    "    \n",
    "    return err_rate\n",
    "end"
   ]
  },
  {
   "cell_type": "markdown",
   "metadata": {},
   "source": [
    "## Training"
   ]
  },
  {
   "cell_type": "code",
   "execution_count": 31,
   "metadata": {},
   "outputs": [
    {
     "data": {
      "text/plain": [
       "load_MNIST (generic function with 1 method)"
      ]
     },
     "execution_count": 31,
     "metadata": {},
     "output_type": "execute_result"
    }
   ],
   "source": [
    "function load_MNIST()\n",
    "    x_train = MNIST.convert2features(MNIST.traintensor(Float64))\n",
    "    t_train = MNIST.trainlabels()\n",
    "    t_train = onehotbatch(t_train, [0, 1, 2, 3, 4, 5, 6, 7, 8, 9])    \n",
    "    x_test = MNIST.convert2features(MNIST.testtensor(Float64))\n",
    "    t_test = MNIST.testlabels()\n",
    "    t_test = onehotbatch(t_test, [0, 1, 2, 3, 4, 5, 6, 7, 8, 9]) \n",
    "    return x_train, t_train, x_test, t_test\n",
    "end"
   ]
  },
  {
   "cell_type": "code",
   "execution_count": 32,
   "metadata": {},
   "outputs": [
    {
     "data": {
      "text/plain": [
       "train (generic function with 3 methods)"
      ]
     },
     "execution_count": 32,
     "metadata": {},
     "output_type": "execute_result"
    }
   ],
   "source": [
    "# net train\n",
    "function train(net::Network, n_epochs = 10, n_training_examples = 60000)\n",
    "    \n",
    "    x_train, t_train, x_test, t_test = load_MNIST()\n",
    "    \n",
    "    current_epoch = 1\n",
    "    \n",
    "    #record_training_labels:\n",
    "    training_labels = zeros(n_epochs*n_training_examples)\n",
    "    \n",
    "    # don't do an initial weight test\n",
    "    println(\"Start of epoch $(current_epoch)\")\n",
    "    \n",
    "    # start time used for timing how long each 1000 examples take\n",
    "    start_time = nothing\n",
    "    \n",
    "    #record_training_error\n",
    "    num_correct = 0\n",
    "    \n",
    "    for k in 1:n_epochs\n",
    "        # shuffle the training data\n",
    "        order = randperm(size(x_train)[2]) #randperm(60000)\n",
    "        x_train = x_train[:,order] \n",
    "        t_train = t_train[:,order]\n",
    "                  \n",
    "        for i in 1:n_training_examples   # n become i here\n",
    "            # set start time\n",
    "            if start_time == nothing\n",
    "                start_time = time()\n",
    "            end\n",
    "            \n",
    "            # get training example data\n",
    "            x = lambda_max*x_train[:,i]\n",
    "            t = t_train[:,i]\n",
    "            \n",
    "            # do forward phase\n",
    "            net(x) # net f_phase\n",
    "            \n",
    "            sel_num = argmax(net.finalLayer.C_f)[1] #axis=-1\n",
    "\n",
    "            # get the target number from testing example data\n",
    "            target_num = argmax(t)\n",
    "\n",
    "            # increment correct classification counter if they match\n",
    "            if sel_num == target_num\n",
    "                num_correct += 1\n",
    "            end\n",
    "            \n",
    "            # do target phase\n",
    "            net(x, t) # net t_phase\n",
    "            \n",
    "            #record_training_labels\n",
    "            training_labels[(k-1)*n_training_examples + i] = argmax(t)\n",
    "            \n",
    "            if i % 1000 == 0\n",
    "                if i != n_training_examples\n",
    "                    # we're partway through an epoch; do a quick weight test\n",
    "                    test_err = test_weights(net, n_quick_test, x_test, t_test, l_f_phase, l_f_phase_test)\n",
    "                    @printf(\"Epoch %d, example %d/%d. QE: %g \", current_epoch, i, n_training_examples, test_err)\n",
    "                else\n",
    "                    # we've reached the end of an epoch; do a full weight test\n",
    "                    test_err = test_weights(net, n_full_test, x_test, t_test, l_f_phase, l_f_phase_test)\n",
    "                    @printf(\"FE: %g \", test_err)\n",
    "                    \n",
    "                    # calculate percent training error for this epoch\n",
    "                    err_rate = (1.0 - num_correct/n_training_examples)*100.0\n",
    "                    @printf(\"TE: %g \", err_rate)\n",
    "\n",
    "                    num_correct = 0\n",
    "                end\n",
    "                # get end time & reset start time\n",
    "                end_time = time()\n",
    "                time_elapsed = end_time - start_time\n",
    "                @printf(\"T: %g\\n\", time_elapsed)\n",
    "                start_time = nothing\n",
    "            end\n",
    "        end\n",
    "        # update latest epoch counter\n",
    "        current_epoch += 1\n",
    "    end\n",
    "end"
   ]
  },
  {
   "cell_type": "code",
   "execution_count": 33,
   "metadata": {},
   "outputs": [
    {
     "name": "stdout",
     "output_type": "stream",
     "text": [
      "Start of epoch 1\n",
      "Epoch 1, example 1000/60000. QE: 57 T: 7.83941\n",
      "Epoch 1, example 2000/60000. QE: 27 T: 2.58181\n",
      "Epoch 1, example 3000/60000. QE: 29 T: 2.52751\n",
      "Epoch 1, example 4000/60000. QE: 11 T: 2.5638\n",
      "Epoch 1, example 5000/60000. QE: 10 T: 2.51279\n",
      "Epoch 1, example 6000/60000. QE: 16 T: 2.52604\n",
      "Epoch 1, example 7000/60000. QE: 17 T: 2.52399\n",
      "Epoch 1, example 8000/60000. QE: 9 T: 2.53095\n",
      "Epoch 1, example 9000/60000. QE: 13 T: 2.49399\n",
      "Epoch 1, example 10000/60000. QE: 11 T: 2.50501\n",
      "Epoch 1, example 11000/60000. QE: 10 T: 2.5263\n",
      "Epoch 1, example 12000/60000. QE: 10 T: 2.51669\n",
      "Epoch 1, example 13000/60000. QE: 23 T: 2.50286\n",
      "Epoch 1, example 14000/60000. QE: 12 T: 2.50643\n",
      "Epoch 1, example 15000/60000. QE: 7 T: 2.50977\n",
      "Epoch 1, example 16000/60000. QE: 13 T: 2.52284\n",
      "Epoch 1, example 17000/60000. QE: 15 T: 2.56705\n",
      "Epoch 1, example 18000/60000. QE: 4 T: 2.49976\n",
      "Epoch 1, example 19000/60000. QE: 10 T: 2.50876\n",
      "Epoch 1, example 20000/60000. QE: 13 T: 2.51305\n",
      "Epoch 1, example 21000/60000. QE: 5 T: 2.49708\n",
      "Epoch 1, example 22000/60000. QE: 9 T: 2.50352\n",
      "Epoch 1, example 23000/60000. QE: 10 T: 2.50891\n",
      "Epoch 1, example 24000/60000. QE: 5 T: 2.50976\n",
      "Epoch 1, example 25000/60000. QE: 8 T: 2.49836\n",
      "Epoch 1, example 26000/60000. QE: 6 T: 2.49256\n",
      "Epoch 1, example 27000/60000. QE: 10 T: 2.52723\n",
      "Epoch 1, example 28000/60000. QE: 11 T: 2.51554\n",
      "Epoch 1, example 29000/60000. QE: 11 T: 2.49017\n",
      "Epoch 1, example 30000/60000. QE: 4 T: 2.48781\n",
      "Epoch 1, example 31000/60000. QE: 10 T: 2.49237\n",
      "Epoch 1, example 32000/60000. QE: 8 T: 2.523\n",
      "Epoch 1, example 33000/60000. QE: 10 T: 2.50981\n",
      "Epoch 1, example 34000/60000. QE: 5 T: 2.49953\n",
      "Epoch 1, example 35000/60000. QE: 8 T: 2.49072\n",
      "Epoch 1, example 36000/60000. QE: 7 T: 2.48307\n",
      "Epoch 1, example 37000/60000. QE: 10 T: 2.49622\n",
      "Epoch 1, example 38000/60000. QE: 7 T: 2.50495\n",
      "Epoch 1, example 39000/60000. QE: 13 T: 2.50329\n",
      "Epoch 1, example 40000/60000. QE: 5 T: 2.48183\n",
      "Epoch 1, example 41000/60000. QE: 7 T: 2.46218\n",
      "Epoch 1, example 42000/60000. QE: 10 T: 2.49716\n",
      "Epoch 1, example 43000/60000. QE: 8 T: 2.51815\n",
      "Epoch 1, example 44000/60000. QE: 3 T: 2.51007\n",
      "Epoch 1, example 45000/60000. QE: 7 T: 2.46714\n",
      "Epoch 1, example 46000/60000. QE: 5 T: 2.48039\n",
      "Epoch 1, example 47000/60000. QE: 4 T: 2.49037\n",
      "Epoch 1, example 48000/60000. QE: 10 T: 2.53244\n",
      "Epoch 1, example 49000/60000. QE: 4 T: 2.49252\n",
      "Epoch 1, example 50000/60000. QE: 5 T: 2.4778\n",
      "Epoch 1, example 51000/60000. QE: 11 T: 2.46061\n",
      "Epoch 1, example 52000/60000. QE: 4 T: 2.50497\n",
      "Epoch 1, example 53000/60000. QE: 7 T: 2.4917\n",
      "Epoch 1, example 54000/60000. QE: 4 T: 2.48415\n",
      "Epoch 1, example 55000/60000. QE: 4 T: 2.46998\n",
      "Epoch 1, example 56000/60000. QE: 6 T: 2.50096\n",
      "Epoch 1, example 57000/60000. QE: 9 T: 2.47509\n",
      "Epoch 1, example 58000/60000. QE: 9 T: 2.48474\n",
      "Epoch 1, example 59000/60000. QE: 11 T: 2.51157\n",
      "FE: 5.81 TE: 11.6817 T: 7.97149\n",
      "Epoch 2, example 1000/60000. QE: 7 T: 2.72257\n",
      "Epoch 2, example 2000/60000. QE: 3 T: 2.75744\n",
      "Epoch 2, example 3000/60000. QE: 7 T: 2.84971\n",
      "Epoch 2, example 4000/60000. QE: 7 T: 2.72462\n",
      "Epoch 2, example 5000/60000. QE: 3 T: 2.67598\n",
      "Epoch 2, example 6000/60000. QE: 5 T: 2.73449\n",
      "Epoch 2, example 7000/60000. QE: 8 T: 2.79558\n",
      "Epoch 2, example 8000/60000. QE: 6 T: 2.74194\n",
      "Epoch 2, example 9000/60000. QE: 3 T: 2.79647\n",
      "Epoch 2, example 10000/60000. QE: 6 T: 2.74919\n",
      "Epoch 2, example 11000/60000. QE: 11 T: 2.76924\n",
      "Epoch 2, example 12000/60000. QE: 4 T: 2.77433\n",
      "Epoch 2, example 13000/60000. QE: 7 T: 2.77585\n",
      "Epoch 2, example 14000/60000. QE: 9 T: 2.74184\n",
      "Epoch 2, example 15000/60000. QE: 7 T: 2.77336\n",
      "Epoch 2, example 16000/60000. QE: 4 T: 2.76885\n",
      "Epoch 2, example 17000/60000. QE: 9 T: 2.76586\n",
      "Epoch 2, example 18000/60000. QE: 6 T: 2.7473\n",
      "Epoch 2, example 19000/60000. QE: 5 T: 2.7919\n",
      "Epoch 2, example 20000/60000. QE: 6 T: 2.73394\n",
      "Epoch 2, example 21000/60000. QE: 6 T: 2.77427\n",
      "Epoch 2, example 22000/60000. QE: 4 T: 2.72979\n",
      "Epoch 2, example 23000/60000. QE: 4 T: 2.79563\n",
      "Epoch 2, example 24000/60000. QE: 8 T: 2.73074\n",
      "Epoch 2, example 25000/60000. QE: 6 T: 2.76889\n",
      "Epoch 2, example 26000/60000. QE: 10 T: 2.72483\n",
      "Epoch 2, example 27000/60000. QE: 3 T: 2.79276\n",
      "Epoch 2, example 28000/60000. QE: 8 T: 2.72227\n",
      "Epoch 2, example 29000/60000. QE: 4 T: 2.77169\n",
      "Epoch 2, example 30000/60000. QE: 5 T: 2.75862\n",
      "Epoch 2, example 31000/60000. QE: 9 T: 2.77177\n",
      "Epoch 2, example 32000/60000. QE: 4 T: 2.72605\n",
      "Epoch 2, example 33000/60000. QE: 4 T: 2.78346\n",
      "Epoch 2, example 34000/60000. QE: 7 T: 2.75768\n",
      "Epoch 2, example 35000/60000. QE: 3 T: 2.78271\n",
      "Epoch 2, example 36000/60000. QE: 3 T: 2.76163\n",
      "Epoch 2, example 37000/60000. QE: 6 T: 2.77983\n",
      "Epoch 2, example 38000/60000. QE: 1 T: 2.74116\n",
      "Epoch 2, example 39000/60000. QE: 5 T: 2.782\n",
      "Epoch 2, example 40000/60000. QE: 10 T: 2.72536\n",
      "Epoch 2, example 41000/60000. QE: 5 T: 2.78276\n",
      "Epoch 2, example 42000/60000. QE: 4 T: 2.72463\n",
      "Epoch 2, example 43000/60000. QE: 7 T: 2.77114\n",
      "Epoch 2, example 44000/60000. QE: 5 T: 2.7273\n",
      "Epoch 2, example 45000/60000. QE: 3 T: 2.79022\n",
      "Epoch 2, example 46000/60000. QE: 9 T: 2.78911\n",
      "Epoch 2, example 47000/60000. QE: 5 T: 2.77286\n",
      "Epoch 2, example 48000/60000. QE: 5 T: 2.75312\n",
      "Epoch 2, example 49000/60000. QE: 7 T: 2.76051\n",
      "Epoch 2, example 50000/60000. QE: 2 T: 2.72806\n",
      "Epoch 2, example 51000/60000. QE: 7 T: 2.7669\n",
      "Epoch 2, example 52000/60000. QE: 7 T: 2.75127\n",
      "Epoch 2, example 53000/60000. QE: 6 T: 2.76296\n",
      "Epoch 2, example 54000/60000. QE: 3 T: 2.73009\n",
      "Epoch 2, example 55000/60000. QE: 6 T: 2.76672\n",
      "Epoch 2, example 56000/60000. QE: 5 T: 2.75781\n",
      "Epoch 2, example 57000/60000. QE: 8 T: 2.75703\n",
      "Epoch 2, example 58000/60000. QE: 1 T: 2.72118\n",
      "Epoch 2, example 59000/60000. QE: 5 T: 2.78524\n",
      "FE: 4.88 TE: 5.53833 T: 8.21709\n",
      "Epoch 3, example 1000/60000. QE: 2 T: 3.17902\n",
      "Epoch 3, example 2000/60000. QE: 4 T: 2.47745\n",
      "Epoch 3, example 3000/60000. QE: 4 T: 2.47212\n",
      "Epoch 3, example 4000/60000. QE: 5 T: 2.46832\n",
      "Epoch 3, example 5000/60000. QE: 2 T: 2.50161\n",
      "Epoch 3, example 6000/60000. QE: 5 T: 2.49596\n",
      "Epoch 3, example 7000/60000. QE: 2 T: 2.48345\n",
      "Epoch 3, example 8000/60000. QE: 6 T: 2.47691\n",
      "Epoch 3, example 9000/60000. QE: 3 T: 2.4905\n",
      "Epoch 3, example 10000/60000. QE: 4 T: 2.4621\n",
      "Epoch 3, example 11000/60000. QE: 5 T: 2.48111\n",
      "Epoch 3, example 12000/60000. QE: 8 T: 2.49051\n",
      "Epoch 3, example 13000/60000. QE: 9 T: 2.50368\n",
      "Epoch 3, example 14000/60000. QE: 2 T: 2.46711\n",
      "Epoch 3, example 15000/60000. QE: 6 T: 2.47248\n",
      "Epoch 3, example 16000/60000. QE: 3 T: 2.46953\n",
      "Epoch 3, example 17000/60000. QE: 4 T: 2.51419\n",
      "Epoch 3, example 18000/60000. QE: 2 T: 2.49042\n",
      "Epoch 3, example 19000/60000. QE: 5 T: 2.48199\n",
      "Epoch 3, example 20000/60000. QE: 6 T: 2.46814\n",
      "Epoch 3, example 21000/60000. QE: 9 T: 2.49808\n",
      "Epoch 3, example 22000/60000. QE: 4 T: 2.46245\n",
      "Epoch 3, example 23000/60000. QE: 5 T: 2.47861\n",
      "Epoch 3, example 24000/60000. QE: 4 T: 2.48921\n",
      "Epoch 3, example 25000/60000. QE: 5 T: 2.49945\n",
      "Epoch 3, example 26000/60000. QE: 4 T: 2.47586\n",
      "Epoch 3, example 27000/60000. QE: 3 T: 2.47628\n",
      "Epoch 3, example 28000/60000. QE: 9 T: 2.46564\n",
      "Epoch 3, example 29000/60000. QE: 5 T: 2.50821\n",
      "Epoch 3, example 30000/60000. QE: 6 T: 2.55786\n",
      "Epoch 3, example 31000/60000. QE: 3 T: 2.48119\n",
      "Epoch 3, example 32000/60000. QE: 4 T: 2.45654\n",
      "Epoch 3, example 33000/60000. QE: 1 T: 2.47638\n",
      "Epoch 3, example 34000/60000. QE: 5 T: 2.45964\n",
      "Epoch 3, example 35000/60000. QE: 5 T: 2.49457\n",
      "Epoch 3, example 36000/60000. QE: 7 T: 2.4603\n",
      "Epoch 3, example 37000/60000. QE: 5 T: 2.48693\n",
      "Epoch 3, example 38000/60000. QE: 6 T: 2.45267\n",
      "Epoch 3, example 39000/60000. QE: 2 T: 2.46567\n",
      "Epoch 3, example 40000/60000. QE: 5 T: 2.47749\n",
      "Epoch 3, example 41000/60000. QE: 3 T: 2.5115\n",
      "Epoch 3, example 42000/60000. QE: 6 T: 2.46523\n",
      "Epoch 3, example 43000/60000. QE: 3 T: 2.46739\n",
      "Epoch 3, example 44000/60000. QE: 2 T: 2.45393\n",
      "Epoch 3, example 45000/60000. QE: 1 T: 2.48479\n",
      "Epoch 3, example 46000/60000. QE: 2 T: 2.46359\n",
      "Epoch 3, example 47000/60000. QE: 3 T: 2.48654\n",
      "Epoch 3, example 48000/60000. QE: 4 T: 2.46283\n",
      "Epoch 3, example 49000/60000. QE: 6 T: 2.48573\n",
      "Epoch 3, example 50000/60000. QE: 4 T: 2.46776\n",
      "Epoch 3, example 51000/60000. QE: 3 T: 2.47129\n",
      "Epoch 3, example 52000/60000. QE: 2 T: 2.46153\n",
      "Epoch 3, example 53000/60000. QE: 3 T: 2.50061\n",
      "Epoch 3, example 54000/60000. QE: 2 T: 2.47229\n",
      "Epoch 3, example 55000/60000. QE: 3 T: 2.48339\n"
     ]
    },
    {
     "name": "stdout",
     "output_type": "stream",
     "text": [
      "Epoch 3, example 56000/60000. QE: 2 T: 2.46253\n",
      "Epoch 3, example 57000/60000. QE: 3 T: 2.48152\n",
      "Epoch 3, example 58000/60000. QE: 8 T: 2.46586\n",
      "Epoch 3, example 59000/60000. QE: 2 T: 2.49767\n",
      "FE: 3.65 TE: 4.29833 T: 7.93656\n",
      "Epoch 4, example 1000/60000. QE: 3 T: 2.69868\n",
      "Epoch 4, example 2000/60000. QE: 5 T: 2.72969\n",
      "Epoch 4, example 3000/60000. QE: 6 T: 2.80782\n",
      "Epoch 4, example 4000/60000. QE: 3 T: 2.73019\n",
      "Epoch 4, example 5000/60000. QE: 4 T: 2.65893\n",
      "Epoch 4, example 6000/60000. QE: 7 T: 2.75943\n",
      "Epoch 4, example 7000/60000. QE: 5 T: 2.76635\n",
      "Epoch 4, example 8000/60000. QE: 5 T: 2.73709\n",
      "Epoch 4, example 9000/60000. QE: 2 T: 2.76585\n",
      "Epoch 4, example 10000/60000. QE: 5 T: 2.75935\n",
      "Epoch 4, example 11000/60000. QE: 4 T: 2.77221\n",
      "Epoch 4, example 12000/60000. QE: 6 T: 2.73631\n",
      "Epoch 4, example 13000/60000. QE: 3 T: 2.76136\n",
      "Epoch 4, example 14000/60000. QE: 3 T: 2.76479\n",
      "Epoch 4, example 15000/60000. QE: 4 T: 2.83994\n",
      "Epoch 4, example 16000/60000. QE: 5 T: 2.72441\n",
      "Epoch 4, example 17000/60000. QE: 1 T: 2.78422\n",
      "Epoch 4, example 18000/60000. QE: 5 T: 2.71452\n",
      "Epoch 4, example 19000/60000. QE: 1 T: 2.76404\n",
      "Epoch 4, example 20000/60000. QE: 6 T: 2.71323\n",
      "Epoch 4, example 21000/60000. QE: 2 T: 2.78021\n",
      "Epoch 4, example 22000/60000. QE: 6 T: 2.72123\n",
      "Epoch 4, example 23000/60000. QE: 7 T: 2.78164\n",
      "Epoch 4, example 24000/60000. QE: 3 T: 2.74937\n",
      "Epoch 4, example 25000/60000. QE: 3 T: 2.76917\n",
      "Epoch 4, example 26000/60000. QE: 4 T: 2.72223\n",
      "Epoch 4, example 27000/60000. QE: 4 T: 2.76008\n",
      "Epoch 4, example 28000/60000. QE: 3 T: 2.75964\n",
      "Epoch 4, example 29000/60000. QE: 3 T: 2.76288\n",
      "Epoch 4, example 30000/60000. QE: 3 T: 2.75376\n",
      "Epoch 4, example 31000/60000. QE: 4 T: 2.7595\n",
      "Epoch 4, example 32000/60000. QE: 3 T: 2.74801\n",
      "Epoch 4, example 33000/60000. QE: 4 T: 2.76483\n",
      "Epoch 4, example 34000/60000. QE: 6 T: 2.73096\n",
      "Epoch 4, example 35000/60000. QE: 3 T: 2.78978\n",
      "Epoch 4, example 36000/60000. QE: 2 T: 2.72967\n",
      "Epoch 4, example 37000/60000. QE: 2 T: 2.76592\n",
      "Epoch 4, example 38000/60000. QE: 5 T: 2.72455\n",
      "Epoch 4, example 39000/60000. QE: 1 T: 2.79162\n",
      "Epoch 4, example 40000/60000. QE: 1 T: 2.71916\n",
      "Epoch 4, example 41000/60000. QE: 4 T: 2.76742\n",
      "Epoch 4, example 42000/60000. QE: 7 T: 2.71884\n",
      "Epoch 4, example 43000/60000. QE: 2 T: 2.79521\n",
      "Epoch 4, example 44000/60000. QE: 2 T: 2.74601\n",
      "Epoch 4, example 45000/60000. QE: 6 T: 2.76378\n",
      "Epoch 4, example 46000/60000. QE: 1 T: 2.75005\n",
      "Epoch 4, example 47000/60000. QE: 7 T: 2.75693\n",
      "Epoch 4, example 48000/60000. QE: 2 T: 2.73263\n",
      "Epoch 4, example 49000/60000. QE: 4 T: 2.7766\n",
      "Epoch 4, example 50000/60000. QE: 5 T: 2.74684\n",
      "Epoch 4, example 51000/60000. QE: 7 T: 2.76061\n",
      "Epoch 4, example 52000/60000. QE: 6 T: 2.73215\n",
      "Epoch 4, example 53000/60000. QE: 2 T: 2.77691\n",
      "Epoch 4, example 54000/60000. QE: 3 T: 2.72986\n",
      "Epoch 4, example 55000/60000. QE: 2 T: 2.77456\n",
      "Epoch 4, example 56000/60000. QE: 4 T: 2.72215\n",
      "Epoch 4, example 57000/60000. QE: 4 T: 2.78528\n",
      "Epoch 4, example 58000/60000. QE: 6 T: 2.72962\n",
      "Epoch 4, example 59000/60000. QE: 6 T: 2.83189\n",
      "FE: 3.36 TE: 3.60167 T: 8.2266\n",
      "Epoch 5, example 1000/60000. QE: 2 T: 3.09555\n",
      "Epoch 5, example 2000/60000. QE: 3 T: 2.4749\n",
      "Epoch 5, example 3000/60000. QE: 0 T: 2.45494\n",
      "Epoch 5, example 4000/60000. QE: 0 T: 2.46012\n",
      "Epoch 5, example 5000/60000. QE: 6 T: 2.4635\n",
      "Epoch 5, example 6000/60000. QE: 3 T: 2.50747\n",
      "Epoch 5, example 7000/60000. QE: 6 T: 2.45792\n",
      "Epoch 5, example 8000/60000. QE: 4 T: 2.45658\n",
      "Epoch 5, example 9000/60000. QE: 2 T: 2.45011\n",
      "Epoch 5, example 10000/60000. QE: 1 T: 2.4851\n",
      "Epoch 5, example 11000/60000. QE: 3 T: 2.46597\n",
      "Epoch 5, example 12000/60000. QE: 5 T: 2.48171\n",
      "Epoch 5, example 13000/60000. QE: 3 T: 2.43652\n",
      "Epoch 5, example 14000/60000. QE: 4 T: 2.4328\n",
      "Epoch 5, example 15000/60000. QE: 3 T: 2.4623\n",
      "Epoch 5, example 16000/60000. QE: 4 T: 2.46252\n",
      "Epoch 5, example 17000/60000. QE: 2 T: 2.47323\n",
      "Epoch 5, example 18000/60000. QE: 6 T: 2.49094\n",
      "Epoch 5, example 19000/60000. QE: 8 T: 2.49101\n",
      "Epoch 5, example 20000/60000. QE: 1 T: 2.47741\n",
      "Epoch 5, example 21000/60000. QE: 3 T: 2.45475\n",
      "Epoch 5, example 22000/60000. QE: 2 T: 2.44842\n",
      "Epoch 5, example 23000/60000. QE: 2 T: 2.49268\n",
      "Epoch 5, example 24000/60000. QE: 2 T: 2.47438\n",
      "Epoch 5, example 25000/60000. QE: 9 T: 2.47178\n",
      "Epoch 5, example 26000/60000. QE: 2 T: 2.45032\n",
      "Epoch 5, example 27000/60000. QE: 2 T: 2.4739\n",
      "Epoch 5, example 28000/60000. QE: 1 T: 2.45912\n",
      "Epoch 5, example 29000/60000. QE: 4 T: 2.46924\n",
      "Epoch 5, example 30000/60000. QE: 4 T: 2.47582\n",
      "Epoch 5, example 31000/60000. QE: 3 T: 2.49562\n",
      "Epoch 5, example 32000/60000. QE: 5 T: 2.45826\n",
      "Epoch 5, example 33000/60000. QE: 2 T: 2.46253\n",
      "Epoch 5, example 34000/60000. QE: 4 T: 2.4584\n",
      "Epoch 5, example 35000/60000. QE: 4 T: 2.50284\n",
      "Epoch 5, example 36000/60000. QE: 4 T: 2.46828\n",
      "Epoch 5, example 37000/60000. QE: 7 T: 2.47247\n",
      "Epoch 5, example 38000/60000. QE: 5 T: 2.47375\n",
      "Epoch 5, example 39000/60000. QE: 2 T: 2.48196\n",
      "Epoch 5, example 40000/60000. QE: 4 T: 2.46253\n",
      "Epoch 5, example 41000/60000. QE: 8 T: 2.47241\n",
      "Epoch 5, example 42000/60000. QE: 6 T: 2.47672\n",
      "Epoch 5, example 43000/60000. QE: 5 T: 2.49166\n",
      "Epoch 5, example 44000/60000. QE: 2 T: 2.45679\n",
      "Epoch 5, example 45000/60000. QE: 4 T: 2.52046\n",
      "Epoch 5, example 46000/60000. QE: 1 T: 2.44337\n",
      "Epoch 5, example 47000/60000. QE: 3 T: 2.48487\n",
      "Epoch 5, example 48000/60000. QE: 5 T: 2.47776\n",
      "Epoch 5, example 49000/60000. QE: 1 T: 2.47559\n",
      "Epoch 5, example 50000/60000. QE: 1 T: 2.46145\n",
      "Epoch 5, example 51000/60000. QE: 7 T: 2.49179\n",
      "Epoch 5, example 52000/60000. QE: 4 T: 2.46187\n",
      "Epoch 5, example 53000/60000. QE: 2 T: 2.47321\n",
      "Epoch 5, example 54000/60000. QE: 3 T: 2.4796\n",
      "Epoch 5, example 55000/60000. QE: 2 T: 2.49239\n",
      "Epoch 5, example 56000/60000. QE: 4 T: 2.46181\n",
      "Epoch 5, example 57000/60000. QE: 4 T: 2.46349\n",
      "Epoch 5, example 58000/60000. QE: 4 T: 2.45968\n",
      "Epoch 5, example 59000/60000. QE: 4 T: 2.49261\n",
      "FE: 3.29 TE: 2.98667 T: 7.84476\n",
      "Epoch 6, example 1000/60000. QE: 5 T: 2.70379\n",
      "Epoch 6, example 2000/60000. QE: 3 T: 2.7078\n",
      "Epoch 6, example 3000/60000. QE: 5 T: 2.72703\n",
      "Epoch 6, example 4000/60000. QE: 4 T: 2.73319\n",
      "Epoch 6, example 5000/60000. QE: 2 T: 2.70924\n",
      "Epoch 6, example 6000/60000. QE: 2 T: 2.7225\n",
      "Epoch 6, example 7000/60000. QE: 2 T: 2.76639\n",
      "Epoch 6, example 8000/60000. QE: 3 T: 2.73966\n",
      "Epoch 6, example 9000/60000. QE: 6 T: 2.76446\n",
      "Epoch 6, example 10000/60000. QE: 4 T: 2.72794\n",
      "Epoch 6, example 11000/60000. QE: 5 T: 2.77136\n",
      "Epoch 6, example 12000/60000. QE: 4 T: 2.73903\n",
      "Epoch 6, example 13000/60000. QE: 1 T: 2.77449\n",
      "Epoch 6, example 14000/60000. QE: 6 T: 2.7311\n",
      "Epoch 6, example 15000/60000. QE: 5 T: 2.79497\n",
      "Epoch 6, example 16000/60000. QE: 4 T: 2.72353\n",
      "Epoch 6, example 17000/60000. QE: 4 T: 2.775\n",
      "Epoch 6, example 18000/60000. QE: 6 T: 2.71901\n",
      "Epoch 6, example 19000/60000. QE: 5 T: 2.80411\n",
      "Epoch 6, example 20000/60000. QE: 2 T: 2.70509\n",
      "Epoch 6, example 21000/60000. QE: 4 T: 2.77347\n",
      "Epoch 6, example 22000/60000. QE: 6 T: 2.71013\n",
      "Epoch 6, example 23000/60000. QE: 3 T: 2.81193\n",
      "Epoch 6, example 24000/60000. QE: 4 T: 2.72668\n",
      "Epoch 6, example 25000/60000. QE: 4 T: 2.77092\n",
      "Epoch 6, example 26000/60000. QE: 2 T: 2.74925\n",
      "Epoch 6, example 27000/60000. QE: 3 T: 2.7779\n",
      "Epoch 6, example 28000/60000. QE: 1 T: 2.79318\n",
      "Epoch 6, example 29000/60000. QE: 8 T: 2.77994\n",
      "Epoch 6, example 30000/60000. QE: 3 T: 2.74668\n",
      "Epoch 6, example 31000/60000. QE: 6 T: 2.77359\n",
      "Epoch 6, example 32000/60000. QE: 3 T: 2.73568\n",
      "Epoch 6, example 33000/60000. QE: 0 T: 2.80398\n",
      "Epoch 6, example 34000/60000. QE: 2 T: 2.71894\n",
      "Epoch 6, example 35000/60000. QE: 3 T: 2.77514\n",
      "Epoch 6, example 36000/60000. QE: 3 T: 2.72621\n",
      "Epoch 6, example 37000/60000. QE: 1 T: 2.79065\n",
      "Epoch 6, example 38000/60000. QE: 3 T: 2.71294\n",
      "Epoch 6, example 39000/60000. QE: 2 T: 2.77398\n",
      "Epoch 6, example 40000/60000. QE: 4 T: 2.73083\n",
      "Epoch 6, example 41000/60000. QE: 6 T: 2.80362\n",
      "Epoch 6, example 42000/60000. QE: 1 T: 2.72699\n",
      "Epoch 6, example 43000/60000. QE: 5 T: 2.78116\n",
      "Epoch 6, example 44000/60000. QE: 3 T: 2.74414\n",
      "Epoch 6, example 45000/60000. QE: 2 T: 2.78859\n",
      "Epoch 6, example 46000/60000. QE: 3 T: 2.72611\n",
      "Epoch 6, example 47000/60000. QE: 0 T: 2.7688\n",
      "Epoch 6, example 48000/60000. QE: 3 T: 2.75444\n",
      "Epoch 6, example 49000/60000. QE: 2 T: 2.77065\n",
      "Epoch 6, example 50000/60000. QE: 1 T: 2.72497\n",
      "Epoch 6, example 51000/60000. QE: 4 T: 2.76893\n",
      "Epoch 6, example 52000/60000. QE: 7 T: 2.73629\n"
     ]
    },
    {
     "name": "stdout",
     "output_type": "stream",
     "text": [
      "Epoch 6, example 53000/60000. QE: 3 T: 2.77733\n",
      "Epoch 6, example 54000/60000. QE: 3 T: 2.72195\n",
      "Epoch 6, example 55000/60000. QE: 5 T: 2.8037\n",
      "Epoch 6, example 56000/60000. QE: 3 T: 2.72286\n",
      "Epoch 6, example 57000/60000. QE: 5 T: 2.7847\n",
      "Epoch 6, example 58000/60000. QE: 5 T: 2.71965\n",
      "Epoch 6, example 59000/60000. QE: 3 T: 2.79387\n",
      "FE: 2.93 TE: 2.54167 T: 8.29718\n",
      "Epoch 7, example 1000/60000. QE: 3 T: 3.07824\n",
      "Epoch 7, example 2000/60000. QE: 4 T: 2.45793\n",
      "Epoch 7, example 3000/60000. QE: 2 T: 2.44816\n",
      "Epoch 7, example 4000/60000. QE: 3 T: 2.47574\n",
      "Epoch 7, example 5000/60000. QE: 5 T: 2.46831\n",
      "Epoch 7, example 6000/60000. QE: 3 T: 2.48092\n",
      "Epoch 7, example 7000/60000. QE: 2 T: 2.46565\n",
      "Epoch 7, example 8000/60000. QE: 4 T: 2.48813\n",
      "Epoch 7, example 9000/60000. QE: 2 T: 2.44898\n",
      "Epoch 7, example 10000/60000. QE: 4 T: 2.52824\n",
      "Epoch 7, example 11000/60000. QE: 4 T: 2.45705\n",
      "Epoch 7, example 12000/60000. QE: 5 T: 2.49495\n",
      "Epoch 7, example 13000/60000. QE: 6 T: 2.45653\n",
      "Epoch 7, example 14000/60000. QE: 4 T: 2.46074\n",
      "Epoch 7, example 15000/60000. QE: 4 T: 2.45254\n",
      "Epoch 7, example 16000/60000. QE: 5 T: 2.4772\n",
      "Epoch 7, example 17000/60000. QE: 5 T: 2.46019\n",
      "Epoch 7, example 18000/60000. QE: 4 T: 2.48165\n",
      "Epoch 7, example 19000/60000. QE: 2 T: 2.46846\n",
      "Epoch 7, example 20000/60000. QE: 5 T: 2.4931\n",
      "Epoch 7, example 21000/60000. QE: 4 T: 2.44409\n",
      "Epoch 7, example 22000/60000. QE: 4 T: 2.45769\n",
      "Epoch 7, example 23000/60000. QE: 5 T: 2.45841\n",
      "Epoch 7, example 24000/60000. QE: 0 T: 2.49279\n",
      "Epoch 7, example 25000/60000. QE: 3 T: 2.46049\n",
      "Epoch 7, example 26000/60000. QE: 0 T: 2.45699\n",
      "Epoch 7, example 27000/60000. QE: 6 T: 2.45954\n",
      "Epoch 7, example 28000/60000. QE: 6 T: 2.46062\n",
      "Epoch 7, example 29000/60000. QE: 1 T: 2.48103\n",
      "Epoch 7, example 30000/60000. QE: 1 T: 2.48464\n",
      "Epoch 7, example 31000/60000. QE: 2 T: 2.46862\n",
      "Epoch 7, example 32000/60000. QE: 2 T: 2.46043\n",
      "Epoch 7, example 33000/60000. QE: 5 T: 2.47243\n",
      "Epoch 7, example 34000/60000. QE: 5 T: 2.4458\n",
      "Epoch 7, example 35000/60000. QE: 6 T: 2.46756\n",
      "Epoch 7, example 36000/60000. QE: 2 T: 2.47089\n",
      "Epoch 7, example 37000/60000. QE: 2 T: 2.48527\n",
      "Epoch 7, example 38000/60000. QE: 4 T: 2.45264\n",
      "Epoch 7, example 39000/60000. QE: 1 T: 2.45157\n",
      "Epoch 7, example 40000/60000. QE: 1 T: 2.43486\n",
      "Epoch 7, example 41000/60000. QE: 5 T: 2.47787\n",
      "Epoch 7, example 42000/60000. QE: 3 T: 2.46494\n",
      "Epoch 7, example 43000/60000. QE: 2 T: 2.45874\n",
      "Epoch 7, example 44000/60000. QE: 1 T: 2.45259\n",
      "Epoch 7, example 45000/60000. QE: 2 T: 2.48391\n",
      "Epoch 7, example 46000/60000. QE: 3 T: 2.45469\n",
      "Epoch 7, example 47000/60000. QE: 4 T: 2.47299\n",
      "Epoch 7, example 48000/60000. QE: 2 T: 2.48043\n",
      "Epoch 7, example 49000/60000. QE: 3 T: 2.4916\n",
      "Epoch 7, example 50000/60000. QE: 3 T: 2.45175\n",
      "Epoch 7, example 51000/60000. QE: 4 T: 2.45828\n",
      "Epoch 7, example 52000/60000. QE: 4 T: 2.46303\n",
      "Epoch 7, example 53000/60000. QE: 5 T: 2.48816\n",
      "Epoch 7, example 54000/60000. QE: 7 T: 2.48425\n",
      "Epoch 7, example 55000/60000. QE: 3 T: 2.47608\n",
      "Epoch 7, example 56000/60000. QE: 6 T: 2.4629\n",
      "Epoch 7, example 57000/60000. QE: 2 T: 2.47289\n",
      "Epoch 7, example 58000/60000. QE: 1 T: 2.46203\n",
      "Epoch 7, example 59000/60000. QE: 4 T: 2.53382\n",
      "FE: 3.02 TE: 2.28333 T: 7.87276\n",
      "Epoch 8, example 1000/60000. QE: 5 T: 2.68456\n",
      "Epoch 8, example 2000/60000. QE: 3 T: 2.71615\n",
      "Epoch 8, example 3000/60000. QE: 5 T: 2.74277\n",
      "Epoch 8, example 4000/60000. QE: 0 T: 2.72243\n",
      "Epoch 8, example 5000/60000. QE: 2 T: 2.70907\n",
      "Epoch 8, example 6000/60000. QE: 4 T: 2.74235\n",
      "Epoch 8, example 7000/60000. QE: 1 T: 2.77252\n",
      "Epoch 8, example 8000/60000. QE: 3 T: 2.72661\n",
      "Epoch 8, example 9000/60000. QE: 5 T: 2.7772\n",
      "Epoch 8, example 10000/60000. QE: 4 T: 2.75893\n",
      "Epoch 8, example 11000/60000. QE: 1 T: 2.77582\n",
      "Epoch 8, example 12000/60000. QE: 5 T: 2.72717\n",
      "Epoch 8, example 13000/60000. QE: 4 T: 2.7976\n",
      "Epoch 8, example 14000/60000. QE: 3 T: 2.71918\n",
      "Epoch 8, example 15000/60000. QE: 2 T: 2.78685\n",
      "Epoch 8, example 16000/60000. QE: 1 T: 2.7389\n",
      "Epoch 8, example 17000/60000. QE: 4 T: 2.79479\n",
      "Epoch 8, example 18000/60000. QE: 4 T: 2.71017\n",
      "Epoch 8, example 19000/60000. QE: 4 T: 2.76571\n",
      "Epoch 8, example 20000/60000. QE: 2 T: 2.70961\n",
      "Epoch 8, example 21000/60000. QE: 6 T: 2.79532\n",
      "Epoch 8, example 22000/60000. QE: 3 T: 2.70747\n",
      "Epoch 8, example 23000/60000. QE: 2 T: 2.7741\n",
      "Epoch 8, example 24000/60000. QE: 5 T: 2.74\n",
      "Epoch 8, example 25000/60000. QE: 4 T: 2.77109\n",
      "Epoch 8, example 26000/60000. QE: 6 T: 2.72081\n",
      "Epoch 8, example 27000/60000. QE: 2 T: 2.7613\n",
      "Epoch 8, example 28000/60000. QE: 5 T: 2.74237\n",
      "Epoch 8, example 29000/60000. QE: 3 T: 2.76456\n",
      "Epoch 8, example 30000/60000. QE: 3 T: 2.75121\n",
      "Epoch 8, example 31000/60000. QE: 6 T: 2.76647\n",
      "Epoch 8, example 32000/60000. QE: 0 T: 2.74643\n",
      "Epoch 8, example 33000/60000. QE: 6 T: 2.78223\n",
      "Epoch 8, example 34000/60000. QE: 3 T: 2.71687\n",
      "Epoch 8, example 35000/60000. QE: 4 T: 2.79018\n",
      "Epoch 8, example 36000/60000. QE: 3 T: 2.71489\n",
      "Epoch 8, example 37000/60000. QE: 4 T: 2.7674\n",
      "Epoch 8, example 38000/60000. QE: 3 T: 2.72861\n",
      "Epoch 8, example 39000/60000. QE: 2 T: 2.78995\n",
      "Epoch 8, example 40000/60000. QE: 5 T: 2.78999\n",
      "Epoch 8, example 41000/60000. QE: 1 T: 2.77731\n",
      "Epoch 8, example 42000/60000. QE: 4 T: 2.73547\n",
      "Epoch 8, example 43000/60000. QE: 2 T: 2.78842\n",
      "Epoch 8, example 44000/60000. QE: 1 T: 2.72506\n",
      "Epoch 8, example 45000/60000. QE: 1 T: 2.77117\n",
      "Epoch 8, example 46000/60000. QE: 2 T: 2.74118\n",
      "Epoch 8, example 47000/60000. QE: 2 T: 2.77932\n",
      "Epoch 8, example 48000/60000. QE: 2 T: 2.72775\n",
      "Epoch 8, example 49000/60000. QE: 1 T: 2.77014\n",
      "Epoch 8, example 50000/60000. QE: 6 T: 2.74169\n",
      "Epoch 8, example 51000/60000. QE: 3 T: 2.759\n",
      "Epoch 8, example 52000/60000. QE: 4 T: 2.70927\n",
      "Epoch 8, example 53000/60000. QE: 4 T: 2.80127\n",
      "Epoch 8, example 54000/60000. QE: 2 T: 2.73294\n",
      "Epoch 8, example 55000/60000. QE: 3 T: 2.78171\n",
      "Epoch 8, example 56000/60000. QE: 3 T: 2.7348\n",
      "Epoch 8, example 57000/60000. QE: 1 T: 2.78846\n",
      "Epoch 8, example 58000/60000. QE: 0 T: 2.73229\n",
      "Epoch 8, example 59000/60000. QE: 4 T: 2.78128\n",
      "FE: 2.85 TE: 2.05833 T: 8.22855\n",
      "Epoch 9, example 1000/60000. QE: 2 T: 3.06955\n",
      "Epoch 9, example 2000/60000. QE: 2 T: 2.47225\n",
      "Epoch 9, example 3000/60000. QE: 4 T: 2.44833\n",
      "Epoch 9, example 4000/60000. QE: 2 T: 2.45884\n",
      "Epoch 9, example 5000/60000. QE: 3 T: 2.46759\n",
      "Epoch 9, example 6000/60000. QE: 1 T: 2.49621\n",
      "Epoch 9, example 7000/60000. QE: 4 T: 2.46185\n",
      "Epoch 9, example 8000/60000. QE: 4 T: 2.46406\n",
      "Epoch 9, example 9000/60000. QE: 2 T: 2.45327\n",
      "Epoch 9, example 10000/60000. QE: 1 T: 2.48019\n",
      "Epoch 9, example 11000/60000. QE: 1 T: 2.45357\n",
      "Epoch 9, example 12000/60000. QE: 3 T: 2.47719\n",
      "Epoch 9, example 13000/60000. QE: 1 T: 2.4683\n",
      "Epoch 9, example 14000/60000. QE: 4 T: 2.49062\n",
      "Epoch 9, example 15000/60000. QE: 3 T: 2.45898\n",
      "Epoch 9, example 16000/60000. QE: 1 T: 2.46025\n",
      "Epoch 9, example 17000/60000. QE: 5 T: 2.46272\n",
      "Epoch 9, example 18000/60000. QE: 1 T: 2.49983\n",
      "Epoch 9, example 19000/60000. QE: 3 T: 2.47051\n",
      "Epoch 9, example 20000/60000. QE: 3 T: 2.47488\n",
      "Epoch 9, example 21000/60000. QE: 4 T: 2.44841\n",
      "Epoch 9, example 22000/60000. QE: 6 T: 2.47333\n",
      "Epoch 9, example 23000/60000. QE: 2 T: 2.46625\n",
      "Epoch 9, example 24000/60000. QE: 5 T: 2.54603\n",
      "Epoch 9, example 25000/60000. QE: 2 T: 2.46492\n",
      "Epoch 9, example 26000/60000. QE: 2 T: 2.46282\n",
      "Epoch 9, example 27000/60000. QE: 2 T: 2.44201\n",
      "Epoch 9, example 28000/60000. QE: 1 T: 2.46075\n",
      "Epoch 9, example 29000/60000. QE: 4 T: 2.47309\n",
      "Epoch 9, example 30000/60000. QE: 1 T: 2.4673\n",
      "Epoch 9, example 31000/60000. QE: 1 T: 2.4689\n",
      "Epoch 9, example 32000/60000. QE: 5 T: 2.45227\n",
      "Epoch 9, example 33000/60000. QE: 3 T: 2.45411\n",
      "Epoch 9, example 34000/60000. QE: 2 T: 2.45406\n",
      "Epoch 9, example 35000/60000. QE: 3 T: 2.50006\n",
      "Epoch 9, example 36000/60000. QE: 6 T: 2.45736\n",
      "Epoch 9, example 37000/60000. QE: 1 T: 2.46865\n",
      "Epoch 9, example 38000/60000. QE: 2 T: 2.44476\n",
      "Epoch 9, example 39000/60000. QE: 2 T: 2.47454\n",
      "Epoch 9, example 40000/60000. QE: 3 T: 2.45546\n",
      "Epoch 9, example 41000/60000. QE: 3 T: 2.49123\n",
      "Epoch 9, example 42000/60000. QE: 2 T: 2.46089\n",
      "Epoch 9, example 43000/60000. QE: 1 T: 2.47405\n",
      "Epoch 9, example 44000/60000. QE: 0 T: 2.44794\n",
      "Epoch 9, example 45000/60000. QE: 4 T: 2.4545\n",
      "Epoch 9, example 46000/60000. QE: 4 T: 2.46533\n",
      "Epoch 9, example 47000/60000. QE: 1 T: 2.51073\n",
      "Epoch 9, example 48000/60000. QE: 2 T: 2.46399\n",
      "Epoch 9, example 49000/60000. QE: 2 T: 2.45958\n"
     ]
    },
    {
     "name": "stdout",
     "output_type": "stream",
     "text": [
      "Epoch 9, example 50000/60000. QE: 1 T: 2.45398\n",
      "Epoch 9, example 51000/60000. QE: 3 T: 2.48095\n",
      "Epoch 9, example 52000/60000. QE: 2 T: 2.46358\n",
      "Epoch 9, example 53000/60000. QE: 4 T: 2.48994\n",
      "Epoch 9, example 54000/60000. QE: 1 T: 2.4657\n",
      "Epoch 9, example 55000/60000. QE: 3 T: 2.47891\n",
      "Epoch 9, example 56000/60000. QE: 1 T: 2.45195\n",
      "Epoch 9, example 57000/60000. QE: 1 T: 2.45822\n",
      "Epoch 9, example 58000/60000. QE: 7 T: 2.46065\n",
      "Epoch 9, example 59000/60000. QE: 4 T: 2.50089\n",
      "FE: 3.28 TE: 1.81833 T: 7.84865\n",
      "Epoch 10, example 1000/60000. QE: 3 T: 2.734\n",
      "Epoch 10, example 2000/60000. QE: 4 T: 2.73159\n",
      "Epoch 10, example 3000/60000. QE: 2 T: 2.77228\n",
      "Epoch 10, example 4000/60000. QE: 1 T: 2.74972\n",
      "Epoch 10, example 5000/60000. QE: 5 T: 2.63265\n",
      "Epoch 10, example 6000/60000. QE: 6 T: 2.72299\n",
      "Epoch 10, example 7000/60000. QE: 2 T: 2.75217\n",
      "Epoch 10, example 8000/60000. QE: 0 T: 2.74664\n",
      "Epoch 10, example 9000/60000. QE: 0 T: 2.82487\n",
      "Epoch 10, example 10000/60000. QE: 3 T: 2.72527\n",
      "Epoch 10, example 11000/60000. QE: 1 T: 2.76228\n",
      "Epoch 10, example 12000/60000. QE: 4 T: 2.7498\n",
      "Epoch 10, example 13000/60000. QE: 2 T: 2.76825\n",
      "Epoch 10, example 14000/60000. QE: 2 T: 2.71898\n",
      "Epoch 10, example 15000/60000. QE: 0 T: 2.77651\n",
      "Epoch 10, example 16000/60000. QE: 3 T: 2.72002\n",
      "Epoch 10, example 17000/60000. QE: 2 T: 2.75042\n",
      "Epoch 10, example 18000/60000. QE: 1 T: 2.71411\n",
      "Epoch 10, example 19000/60000. QE: 1 T: 2.77439\n",
      "Epoch 10, example 20000/60000. QE: 7 T: 2.7163\n",
      "Epoch 10, example 21000/60000. QE: 3 T: 2.76533\n",
      "Epoch 10, example 22000/60000. QE: 3 T: 2.72451\n",
      "Epoch 10, example 23000/60000. QE: 4 T: 2.77801\n",
      "Epoch 10, example 24000/60000. QE: 1 T: 2.7236\n",
      "Epoch 10, example 25000/60000. QE: 2 T: 2.76139\n",
      "Epoch 10, example 26000/60000. QE: 4 T: 2.74006\n",
      "Epoch 10, example 27000/60000. QE: 2 T: 2.7605\n",
      "Epoch 10, example 28000/60000. QE: 3 T: 2.72538\n",
      "Epoch 10, example 29000/60000. QE: 3 T: 2.75449\n",
      "Epoch 10, example 30000/60000. QE: 6 T: 2.75067\n",
      "Epoch 10, example 31000/60000. QE: 1 T: 2.75989\n",
      "Epoch 10, example 32000/60000. QE: 4 T: 2.72877\n",
      "Epoch 10, example 33000/60000. QE: 6 T: 2.78022\n",
      "Epoch 10, example 34000/60000. QE: 5 T: 2.72176\n",
      "Epoch 10, example 35000/60000. QE: 4 T: 2.77363\n",
      "Epoch 10, example 36000/60000. QE: 2 T: 2.72372\n",
      "Epoch 10, example 37000/60000. QE: 3 T: 2.78536\n",
      "Epoch 10, example 38000/60000. QE: 4 T: 2.71563\n",
      "Epoch 10, example 39000/60000. QE: 3 T: 2.75683\n",
      "Epoch 10, example 40000/60000. QE: 1 T: 2.73614\n",
      "Epoch 10, example 41000/60000. QE: 0 T: 2.78612\n",
      "Epoch 10, example 42000/60000. QE: 1 T: 2.73831\n",
      "Epoch 10, example 43000/60000. QE: 3 T: 2.77461\n",
      "Epoch 10, example 44000/60000. QE: 0 T: 2.75518\n",
      "Epoch 10, example 45000/60000. QE: 3 T: 2.75073\n",
      "Epoch 10, example 46000/60000. QE: 4 T: 2.71603\n",
      "Epoch 10, example 47000/60000. QE: 3 T: 2.76098\n",
      "Epoch 10, example 48000/60000. QE: 4 T: 2.74165\n",
      "Epoch 10, example 49000/60000. QE: 2 T: 2.75485\n",
      "Epoch 10, example 50000/60000. QE: 4 T: 2.722\n",
      "Epoch 10, example 51000/60000. QE: 5 T: 2.75437\n",
      "Epoch 10, example 52000/60000. QE: 2 T: 2.73953\n",
      "Epoch 10, example 53000/60000. QE: 5 T: 2.83707\n",
      "Epoch 10, example 54000/60000. QE: 2 T: 2.73701\n",
      "Epoch 10, example 55000/60000. QE: 2 T: 2.78409\n",
      "Epoch 10, example 56000/60000. QE: 5 T: 2.71718\n",
      "Epoch 10, example 57000/60000. QE: 1 T: 2.77179\n",
      "Epoch 10, example 58000/60000. QE: 4 T: 2.72644\n",
      "Epoch 10, example 59000/60000. QE: 5 T: 2.80046\n",
      "FE: 2.45 TE: 1.58 T: 8.18647\n"
     ]
    }
   ],
   "source": [
    "n = (500, 10) #for now building everything for having one hidden layer\n",
    "n_in  = 784\n",
    "net = Network(n, n_in)\n",
    "train(net)"
   ]
  },
  {
   "cell_type": "code",
   "execution_count": null,
   "metadata": {},
   "outputs": [],
   "source": []
  }
 ],
 "metadata": {
  "kernelspec": {
   "display_name": "Julia 1.3.1",
   "language": "julia",
   "name": "julia-1.3"
  },
  "language_info": {
   "file_extension": ".jl",
   "mimetype": "application/julia",
   "name": "julia",
   "version": "1.3.1"
  }
 },
 "nbformat": 4,
 "nbformat_minor": 2
}

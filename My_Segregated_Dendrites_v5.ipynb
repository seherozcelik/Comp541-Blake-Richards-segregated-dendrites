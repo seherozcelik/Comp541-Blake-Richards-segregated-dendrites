{
 "cells": [
  {
   "cell_type": "markdown",
   "metadata": {},
   "source": [
    "## Imports"
   ]
  },
  {
   "cell_type": "code",
   "execution_count": 1,
   "metadata": {},
   "outputs": [
    {
     "name": "stdout",
     "output_type": "stream",
     "text": [
      "\u001b[32m\u001b[1m  Updating\u001b[22m\u001b[39m registry at `~/.julia/registries/General`\n",
      "\u001b[32m\u001b[1m Resolving\u001b[22m\u001b[39m package versions...\n"
     ]
    },
    {
     "name": "stderr",
     "output_type": "stream",
     "text": [
      "┌ Warning: Some registries failed to update:\n",
      "│     — `~/.julia/registries/General` — registry dirty\n",
      "└ @ Pkg.Types /buildworker/worker/package_linux64/build/usr/share/julia/stdlib/v1.3/Pkg/src/Types.jl:1199\n"
     ]
    },
    {
     "name": "stdout",
     "output_type": "stream",
     "text": [
      "\u001b[32m\u001b[1m  Updating\u001b[22m\u001b[39m `/scratch/users/sozcelik19/.julia/environments/v1.3/Project.toml`\n",
      "\u001b[90m [no changes]\u001b[39m\n",
      "\u001b[32m\u001b[1m  Updating\u001b[22m\u001b[39m `/scratch/users/sozcelik19/.julia/environments/v1.3/Manifest.toml`\n",
      "\u001b[90m [no changes]\u001b[39m\n",
      "\u001b[32m\u001b[1m Resolving\u001b[22m\u001b[39m package versions...\n",
      "\u001b[32m\u001b[1m  Updating\u001b[22m\u001b[39m `/scratch/users/sozcelik19/.julia/environments/v1.3/Project.toml`\n",
      "\u001b[90m [no changes]\u001b[39m\n",
      "\u001b[32m\u001b[1m  Updating\u001b[22m\u001b[39m `/scratch/users/sozcelik19/.julia/environments/v1.3/Manifest.toml`\n",
      "\u001b[90m [no changes]\u001b[39m\n",
      "\u001b[32m\u001b[1m Resolving\u001b[22m\u001b[39m package versions...\n",
      "\u001b[32m\u001b[1m  Updating\u001b[22m\u001b[39m `/scratch/users/sozcelik19/.julia/environments/v1.3/Project.toml`\n",
      "\u001b[90m [no changes]\u001b[39m\n",
      "\u001b[32m\u001b[1m  Updating\u001b[22m\u001b[39m `/scratch/users/sozcelik19/.julia/environments/v1.3/Manifest.toml`\n",
      "\u001b[90m [no changes]\u001b[39m\n"
     ]
    }
   ],
   "source": [
    "using MLDatasets\n",
    "using Random\n",
    "import Pkg\n",
    "Pkg.add(\"Flux\")\n",
    "using Flux: onehotbatch\n",
    "Pkg.add(\"PoissonRandom\")\n",
    "using PoissonRandom\n",
    "Pkg.add(\"Distributions\")\n",
    "using Distributions\n",
    "using Statistics\n",
    "using Printf"
   ]
  },
  {
   "cell_type": "code",
   "execution_count": 2,
   "metadata": {},
   "outputs": [
    {
     "data": {
      "text/plain": [
       "100"
      ]
     },
     "execution_count": 2,
     "metadata": {},
     "output_type": "execute_result"
    }
   ],
   "source": [
    "n_full_test  = 10000 # number of examples to use for full tests  (every epoch)\n",
    "n_quick_test = 100   # number of examples to use for quick tests (every 1000 examples)"
   ]
  },
  {
   "cell_type": "markdown",
   "metadata": {},
   "source": [
    "## Global Variables"
   ]
  },
  {
   "cell_type": "code",
   "execution_count": 3,
   "metadata": {},
   "outputs": [
    {
     "data": {
      "text/plain": [
       "0.2"
      ]
     },
     "execution_count": 3,
     "metadata": {},
     "output_type": "execute_result"
    }
   ],
   "source": [
    "# global variables\n",
    "l_f_phase      = 2  # length of forward phase (time steps)\n",
    "l_t_phase      = 2  # length of target phase (time steps)\n",
    "l_f_phase_test = 2  # length of forward phase for tests (time steps)\n",
    "dt          = 1.0    # time step (ms)\n",
    "lambda_max  = 0.2*dt # maximum spike rate (spikes per time step)\n",
    "# integration_time = 1 # time steps of integration of neuronal variables used for plasticity\n",
    "# we don't use integration time, this makes index start from 0 where julia indexes start from 1 - directly use 1 inst 0"
   ]
  },
  {
   "cell_type": "code",
   "execution_count": 4,
   "metadata": {},
   "outputs": [
    {
     "data": {
      "text/plain": [
       "499.9999999999999"
      ]
     },
     "execution_count": 4,
     "metadata": {},
     "output_type": "execute_result"
    }
   ],
   "source": [
    "# kernel parameters\n",
    "tau_L = 10.0 # leak time constant\n",
    "\n",
    "# conductance parameters\n",
    "g_B = 0.6                                   # basal conductance\n",
    "g_L = 1.0/tau_L                             # leak conductance\n",
    "g_D = g_B                                   # dendritic conductance in output layer\n",
    "\n",
    "E_E = 8                                     # excitation reversal potential\n",
    "E_I = -8                                    # inhibition reversal potential\n",
    "\n",
    "# steady state constants\n",
    "k_B = g_B/(g_L + g_B)\n",
    "k_D = g_D/(g_L + g_D)\n",
    "k_I = 1.0/(g_L + g_D)\n",
    "\n",
    "# weight update constants\n",
    "P_hidden = 20.0/lambda_max      # hidden layer error signal scaling factor\n",
    "P_final  = 20.0/(lambda_max^2)  # final layer error signal scaling factor"
   ]
  },
  {
   "cell_type": "markdown",
   "metadata": {},
   "source": [
    "## Functions"
   ]
  },
  {
   "cell_type": "code",
   "execution_count": 5,
   "metadata": {},
   "outputs": [
    {
     "data": {
      "text/plain": [
       "sigma (generic function with 1 method)"
      ]
     },
     "execution_count": 5,
     "metadata": {},
     "output_type": "execute_result"
    }
   ],
   "source": [
    "# sigmoid function\n",
    "function sigma(x) \n",
    "    return 1 / (1 + exp(-x))\n",
    "end"
   ]
  },
  {
   "cell_type": "code",
   "execution_count": 6,
   "metadata": {},
   "outputs": [
    {
     "data": {
      "text/plain": [
       "deriv_sigma (generic function with 1 method)"
      ]
     },
     "execution_count": 6,
     "metadata": {},
     "output_type": "execute_result"
    }
   ],
   "source": [
    "# derivative sigmoid function\n",
    "function deriv_sigma(x)\n",
    "    return exp(-x) / (1 + exp(-x))^2\n",
    "end"
   ]
  },
  {
   "cell_type": "markdown",
   "metadata": {},
   "source": [
    "## Objects"
   ]
  },
  {
   "cell_type": "code",
   "execution_count": 7,
   "metadata": {},
   "outputs": [],
   "source": [
    "mutable struct HiddenLayer\n",
    "    m # The layer number, eg. m = 1 for the first hidden layer.\n",
    "    PSP_B # post-synaptic potentials\n",
    "    B\n",
    "    A\n",
    "    C\n",
    "    lambda_C\n",
    "    alpha_f\n",
    "    alpha_t\n",
    "    E\n",
    "    delta_W\n",
    "    delta_b\n",
    "end"
   ]
  },
  {
   "cell_type": "code",
   "execution_count": 8,
   "metadata": {},
   "outputs": [],
   "source": [
    "mutable struct FinalLayer\n",
    "    m # The layer number, ie. m = M where M is the total number of layers.\n",
    "    lambda_C # something about soma\n",
    "    PSP_B # post-synaptic potentials\n",
    "    B\n",
    "    C\n",
    "    C_f\n",
    "    k_D2\n",
    "    k_E\n",
    "    k_I\n",
    "    E\n",
    "    delta_W\n",
    "    delta_b\n",
    "end"
   ]
  },
  {
   "cell_type": "code",
   "execution_count": 9,
   "metadata": {},
   "outputs": [],
   "source": [
    "mutable struct Network\n",
    "    n # Tuple - Number of units in each layer of the network, eg. (500, 10) here.\n",
    "    hiddenLayer::HiddenLayer\n",
    "    finalLayer::FinalLayer\n",
    "    W\n",
    "    b\n",
    "    Y\n",
    "    f_etas\n",
    "    loss\n",
    "end"
   ]
  },
  {
   "cell_type": "markdown",
   "metadata": {},
   "source": [
    "## Initialization Sub-Functions"
   ]
  },
  {
   "cell_type": "code",
   "execution_count": 10,
   "metadata": {},
   "outputs": [
    {
     "data": {
      "text/plain": [
       "initializeWbY (generic function with 1 method)"
      ]
     },
     "execution_count": 10,
     "metadata": {},
     "output_type": "execute_result"
    }
   ],
   "source": [
    "function initializeWbY(ln, n, n_in)\n",
    "    W = Array{Any}(undef, ln)\n",
    "    b = Array{Any}(undef, ln)\n",
    "    Y = Array{Any}(undef, ln-1)\n",
    "    \n",
    "    # weight optimization parameters\n",
    "    V_avg = 3   # desired average of dendritic potential\n",
    "    V_sd  = 3   # desired standard deviation of dendritic potential\n",
    "    b_avg = 0.8  # desired average of bias\n",
    "    b_sd  = 0.001 # desired standard deviation of bias\n",
    "    nu    = lambda_max*0.25  # slope of linear region of activation function\n",
    "    V_sm  = V_sd^2 + V_avg^2 # second moment of dendritic potential\n",
    "    \n",
    "    for m in 2:-1:1\n",
    "        # get number of units in the layer below\n",
    "        if m != 1\n",
    "            N = n[m-1] #500 W2\n",
    "        else\n",
    "            N = n_in  #784 W1\n",
    "        end\n",
    "            \n",
    "        # generate feedforward weights & biases\n",
    "        # calculate weight variables needed to get desired average & standard deviations of somatic potentials\n",
    "        W_avg = (V_avg - b_avg)/(nu*N*V_avg) \n",
    "        W_sm  = (V_sm + (nu^2)*(N - N^2)*(W_avg^2)*(V_avg^2) - 2*N*nu*b_avg*V_avg*W_avg - (b_avg^2))/(N*(nu^2)*V_sm)\n",
    "        W_sd  = sqrt(W_sm - W_avg^2)\n",
    " \n",
    "        W[m] = W_avg .+ 3.465*W_sd*rand(Uniform(-1,1), n[m], N) # (500,784) , (10,500)\n",
    "        b[m] = b_avg .+ 3.465*b_sd*rand(Uniform(-1,1), n[m], 1) # (500,1) , (10,1)\n",
    "        \n",
    "        if m != 1\n",
    "            Y[m-1] = W_avg .+ 3.465*W_sd*rand(Uniform(-1,1), N, n[end]) # (500,10)\n",
    "        end\n",
    "    end\n",
    "        \n",
    "    return W, b, Y\n",
    "end"
   ]
  },
  {
   "cell_type": "markdown",
   "metadata": {},
   "source": [
    "## Initializations"
   ]
  },
  {
   "cell_type": "code",
   "execution_count": 11,
   "metadata": {},
   "outputs": [
    {
     "data": {
      "text/plain": [
       "HiddenLayer"
      ]
     },
     "execution_count": 11,
     "metadata": {},
     "output_type": "execute_result"
    }
   ],
   "source": [
    "# f_input_size - The size of feedforward input, eg. 784 for MNIST input. (784, 1) here.\n",
    "# b_input_size - The size of feedback input. This is the same as the number of units in the next layer. (10,1) here.\n",
    "function HiddenLayer(m, n, f_input_size, b_input_size, size_W) # m=1\n",
    "    PSP_B = zeros(f_input_size, 1)              # (784,1) m=1 in hidden here\n",
    "    B = zeros(n[m], 1)                          # (500,1) m=1 in hidden here\n",
    "    A = zeros(n[m], 1)\n",
    "    C = zeros(n[m], 1)\n",
    "    lambda_C = zeros(n[m], 1)\n",
    "    alpha_f = zeros(n[m], 1)\n",
    "    alpha_t = zeros(n[m], 1)\n",
    "    E = zeros(n[m], 1)\n",
    "    delta_W = zeros(size_W)\n",
    "    delta_b = zeros(n[m], 1)\n",
    "    return HiddenLayer(m, PSP_B, B, A, C, lambda_C, alpha_f, alpha_t, E, delta_W, delta_b)\n",
    "end"
   ]
  },
  {
   "cell_type": "code",
   "execution_count": 12,
   "metadata": {},
   "outputs": [
    {
     "data": {
      "text/plain": [
       "FinalLayer"
      ]
     },
     "execution_count": 12,
     "metadata": {},
     "output_type": "execute_result"
    }
   ],
   "source": [
    "# f_input_size - The size of feedforward input. This is the same as the number of units in the previous layer. (500,1)\n",
    "function FinalLayer(m, n, f_input_size, size_W) # m=2\n",
    "    lambda_C = zeros(n[m], 1)                   # (10,1) m=2 in final here\n",
    "    PSP_B = zeros(f_input_size, 1)              # (500,1) in size \n",
    "    B = zeros(n[m], 1)                                \n",
    "    C = zeros(n[m], 1)\n",
    "    C_f = zeros(n[m], 1)\n",
    "    k_D2 = zeros(n[m], 1)\n",
    "    k_E = zeros(n[m], 1)\n",
    "    k_I = zeros(n[m], 1)\n",
    "    E = zeros(n[m], 1)\n",
    "    delta_W = zeros(size_W)\n",
    "    delta_b = zeros(n[m], 1)\n",
    "    return FinalLayer(m, lambda_C, PSP_B, B, C, C_f, k_D2, k_E, k_I, E, delta_W, delta_b)\n",
    "end"
   ]
  },
  {
   "cell_type": "code",
   "execution_count": 13,
   "metadata": {},
   "outputs": [
    {
     "data": {
      "text/plain": [
       "Network"
      ]
     },
     "execution_count": 13,
     "metadata": {},
     "output_type": "execute_result"
    }
   ],
   "source": [
    "function Network(n, n_in)\n",
    "    W, b, Y = initializeWbY(length(n), n, n_in)\n",
    "    hiddenLayer = HiddenLayer(1, n, n_in, n[end], size(W[1]))\n",
    "    finalLayer = FinalLayer(2, n, n[end-1], size(W[2]))\n",
    "    f_etas = (0.21, 0.21)       #Learning rates for each layer's feedforward weights\n",
    "    loss = 0\n",
    "    return Network(n, hiddenLayer, finalLayer, W, b, Y, f_etas, loss)\n",
    "end"
   ]
  },
  {
   "cell_type": "markdown",
   "metadata": {},
   "source": [
    "## Callable Objects Sub-Functions"
   ]
  },
  {
   "cell_type": "code",
   "execution_count": 14,
   "metadata": {},
   "outputs": [
    {
     "data": {
      "text/plain": [
       "update_B (generic function with 1 method)"
      ]
     },
     "execution_count": 14,
     "metadata": {},
     "output_type": "execute_result"
    }
   ],
   "source": [
    "# Update basal potentials.\n",
    "# f_input Feedforward input. (784, 1) here\n",
    "function update_B(hidden::HiddenLayer, net::Network, f_input)\n",
    "    hidden.PSP_B = f_input\n",
    "    hidden.B = net.W[hidden.m]*f_input .+ net.b[hidden.m] # (500,784) * (784,1) .+ (500,1) m=1 in hidden here\n",
    "end"
   ]
  },
  {
   "cell_type": "code",
   "execution_count": 15,
   "metadata": {},
   "outputs": [
    {
     "data": {
      "text/plain": [
       "update_A (generic function with 1 method)"
      ]
     },
     "execution_count": 15,
     "metadata": {},
     "output_type": "execute_result"
    }
   ],
   "source": [
    "# Update apical potentials.\n",
    "# b_input Feedback input. (10,1) here\n",
    "function update_A(hidden::HiddenLayer, net::Network, b_input)\n",
    "    hidden.A = net.Y[hidden.m]*b_input # (500,10) * (10,1) m=1 in hidden here\n",
    "end"
   ]
  },
  {
   "cell_type": "code",
   "execution_count": 16,
   "metadata": {},
   "outputs": [
    {
     "data": {
      "text/plain": [
       "update_C (generic function with 1 method)"
      ]
     },
     "execution_count": 16,
     "metadata": {},
     "output_type": "execute_result"
    }
   ],
   "source": [
    "# Update somatic potentials & calculate firing rates.\n",
    "function update_C(hidden::HiddenLayer, net::Network)\n",
    "    hidden.C = k_B*hidden.B\n",
    "    hidden.lambda_C = lambda_max*sigma.(hidden.C)\n",
    "end"
   ]
  },
  {
   "cell_type": "code",
   "execution_count": 17,
   "metadata": {},
   "outputs": [
    {
     "data": {
      "text/plain": [
       "update_B (generic function with 2 methods)"
      ]
     },
     "execution_count": 17,
     "metadata": {},
     "output_type": "execute_result"
    }
   ],
   "source": [
    "# Update basal potentials.\n",
    "# f_input Feedforward input. (500, 1) here\n",
    "function update_B(final::FinalLayer, net::Network, f_input)\n",
    "    final.PSP_B = f_input\n",
    "    final.B = net.W[final.m]*f_input .+ net.b[final.m] # (10,500) * (500, 1) .+ (10,1) m=2 in final here\n",
    "end"
   ]
  },
  {
   "cell_type": "code",
   "execution_count": 18,
   "metadata": {},
   "outputs": [
    {
     "data": {
      "text/plain": [
       "update_C_forward (generic function with 1 method)"
      ]
     },
     "execution_count": 18,
     "metadata": {},
     "output_type": "execute_result"
    }
   ],
   "source": [
    "# Update somatic potentials & calculate firing rates.\n",
    "function update_C_forward(final::FinalLayer, net::Network)\n",
    "    final.C = k_D.*final.B\n",
    "    final.lambda_C = lambda_max*sigma.(final.C)\n",
    "end"
   ]
  },
  {
   "cell_type": "code",
   "execution_count": 19,
   "metadata": {},
   "outputs": [
    {
     "data": {
      "text/plain": [
       "update_I (generic function with 1 method)"
      ]
     },
     "execution_count": 19,
     "metadata": {},
     "output_type": "execute_result"
    }
   ],
   "source": [
    "# Update injected perisomatic currents.\n",
    "# b_input : Target input, eg. if the target label is 8,\n",
    "# b_input = np.array([0, 0, 0, 0, 0, 0, 0, 0, 1, 0]).\n",
    "function update_I(final::FinalLayer, b_input)\n",
    "    g_E = b_input\n",
    "    g_I = -g_E .+ 1\n",
    "    final.k_D2 = g_D./((g_L + g_D) .+ g_E + g_I)\n",
    "    final.k_E  = g_E./((g_L + g_D) .+ g_E + g_I)\n",
    "    final.k_I  = g_I./((g_L + g_D) .+ g_E + g_I)\n",
    "end"
   ]
  },
  {
   "cell_type": "code",
   "execution_count": 20,
   "metadata": {},
   "outputs": [
    {
     "data": {
      "text/plain": [
       "update_C_target (generic function with 1 method)"
      ]
     },
     "execution_count": 20,
     "metadata": {},
     "output_type": "execute_result"
    }
   ],
   "source": [
    "# Update somatic potentials & calculate firing rates.\n",
    "function update_C_target(final::FinalLayer, net::Network)\n",
    "    final.C = final.k_D2.*final.B + final.k_E*E_E + final.k_I*E_I\n",
    "    final.lambda_C = lambda_max*sigma.(final.C)\n",
    "end"
   ]
  },
  {
   "cell_type": "markdown",
   "metadata": {},
   "source": [
    "## Callable Objects"
   ]
  },
  {
   "cell_type": "code",
   "execution_count": 21,
   "metadata": {},
   "outputs": [],
   "source": [
    "# hidden layer out_f / out_t\n",
    "# Perform a forward phase pass. / Perform a target phase pass.\n",
    "# f_input Feedforward input. (784, 1) here\n",
    "# b_input Feedback input. (10,1) here\n",
    "\n",
    "function (hidden::HiddenLayer)(net::Network, f_input, b_input)\n",
    "    update_B(hidden, net, f_input)\n",
    "    update_A(hidden, net, b_input)\n",
    "    update_C(hidden, net)\n",
    "end"
   ]
  },
  {
   "cell_type": "code",
   "execution_count": 22,
   "metadata": {},
   "outputs": [],
   "source": [
    "# hidden layer plateau_f / plateau_t\n",
    "# Calculate forward phase apical plateau potentials.\n",
    "\n",
    "function (hidden::HiddenLayer)(t_f)\n",
    "    if t_f == \"f\"\n",
    "        # calculate apical calcium spike nonlinearity\n",
    "        hidden.alpha_f = sigma.(hidden.A)\n",
    "    end\n",
    "    if t_f == \"t\"\n",
    "        # calculate apical calcium spike nonlinearity\n",
    "        hidden.alpha_t = sigma.(hidden.A)\n",
    "    end\n",
    "end"
   ]
  },
  {
   "cell_type": "code",
   "execution_count": 23,
   "metadata": {},
   "outputs": [],
   "source": [
    "# hidden layer update_W\n",
    "# Update feedforward weights.\n",
    "\n",
    "function (hidden::HiddenLayer)(net::Network)\n",
    "    hidden.E = (hidden.alpha_t - hidden.alpha_f).*((-k_B)*lambda_max*deriv_sigma.(hidden.C))\n",
    "    hidden.delta_W = hidden.E * hidden.PSP_B'   #((500,1)*(1,784) = (500,784)\n",
    "    net.W[hidden.m] += -net.f_etas[hidden.m]*P_hidden*hidden.delta_W\n",
    "    hidden.delta_b = hidden.E\n",
    "    net.b[hidden.m] += -net.f_etas[hidden.m]*P_hidden*hidden.delta_b\n",
    "end"
   ]
  },
  {
   "cell_type": "code",
   "execution_count": 24,
   "metadata": {},
   "outputs": [],
   "source": [
    "# final layer out_f\n",
    "# Perform a forward phase pass.\n",
    "# f_input Feedforward input. (500, 1) here\n",
    "\n",
    "function (final::FinalLayer)(net::Network, f_input)\n",
    "    update_B(final, net, f_input)\n",
    "    update_C_forward(final, net)\n",
    "end"
   ]
  },
  {
   "cell_type": "code",
   "execution_count": 25,
   "metadata": {},
   "outputs": [],
   "source": [
    "# final layer out_t\n",
    "# Perform a target phase pass.\n",
    "# f_input (ndarray) : Feedforward input.\n",
    "# b_input (ndarray) : Target input.\n",
    "\n",
    "function (final::FinalLayer)(net::Network, f_input, b_input)\n",
    "    update_B(final, net, f_input)\n",
    "    update_I(final, b_input)\n",
    "    update_C_target(final, net)\n",
    "end"
   ]
  },
  {
   "cell_type": "code",
   "execution_count": 26,
   "metadata": {},
   "outputs": [],
   "source": [
    "# final layer update_W\n",
    "# Update feedforward weights.\n",
    "\n",
    "function (final::FinalLayer)(net::Network)\n",
    "    final.E = (final.lambda_C - lambda_max*sigma.(final.C_f)).*((-k_D)*lambda_max*deriv_sigma.(final.C_f))\n",
    "    final.delta_W = final.E * final.PSP_B'   #(10,1)*(1,500) = (10,500)\n",
    "    net.W[final.m] += -net.f_etas[final.m]*P_final*final.delta_W\n",
    "    final.delta_b = final.E\n",
    "    net.b[final.m] += -net.f_etas[final.m]*P_final*final.delta_b\n",
    "end"
   ]
  },
  {
   "cell_type": "code",
   "execution_count": 27,
   "metadata": {},
   "outputs": [],
   "source": [
    "# net f_phase\n",
    "# Perform a forward phase.\n",
    "# x : Input array of size (X, 1) where X is the size of the input, eg. (784, 1).\n",
    "function (net::Network)(x)\n",
    "    for time in 1:l_f_phase\n",
    "        # do a forward pass <--> net out_f -- line 530\n",
    "        net.hiddenLayer(net, x, net.finalLayer.lambda_C) # hidden layer out_f\n",
    "        net.finalLayer(net, net.hiddenLayer.lambda_C) # final layer out_f\n",
    "    end\n",
    "    # calculate plateau potentials for hidden layer neurons\n",
    "    net.hiddenLayer(\"f\") #hidden layer plateau_f\n",
    "    # record C(soma) forward potential\n",
    "    net.finalLayer.C_f = net.finalLayer.C\n",
    "end"
   ]
  },
  {
   "cell_type": "code",
   "execution_count": 28,
   "metadata": {},
   "outputs": [],
   "source": [
    "# net t_phase\n",
    "# Perform a target phase.\n",
    "# x : Input array of size (X, 1) where X is the size of the input, eg. (784, 1).\n",
    "# t : Target array of size (T, 1) where T is the size of the target, eg. (10, 1).\n",
    "\n",
    "function (net::Network)(x, t)\n",
    "    for time in 1:l_t_phase\n",
    "        # do a target pass <--> net out_t\n",
    "        net.hiddenLayer(net, x, net.finalLayer.lambda_C) # hidden layer out_t\n",
    "        net.finalLayer(net, net.hiddenLayer.lambda_C, t) # final layer out_t\n",
    "    end\n",
    "    # calculate plateau potentials for hidden layer neurons\n",
    "    net.hiddenLayer(\"t\") #hidden layer plateau_t\n",
    "    # update weights \n",
    "    net.finalLayer(net)       #final layer update_W\n",
    "    net.hiddenLayer(net)      #hidden layer update_W\n",
    "    net.loss = mean((net.finalLayer.lambda_C - lambda_max*sigma.(net.finalLayer.C_f)).^2)\n",
    "    # reset averages\n",
    "    net.finalLayer.C_f .*= 0\n",
    "end"
   ]
  },
  {
   "cell_type": "markdown",
   "metadata": {},
   "source": [
    "## Training Sub-Functions"
   ]
  },
  {
   "cell_type": "code",
   "execution_count": 29,
   "metadata": {},
   "outputs": [
    {
     "data": {
      "text/plain": [
       "clear_vars (generic function with 1 method)"
      ]
     },
     "execution_count": 29,
     "metadata": {},
     "output_type": "execute_result"
    }
   ],
   "source": [
    "function clear_vars(net::Network)\n",
    "    net.hiddenLayer.A .*= 0\n",
    "    net.hiddenLayer.B .*= 0\n",
    "    net.hiddenLayer.C .*= 0\n",
    "    net.hiddenLayer.lambda_C .*= 0\n",
    "\n",
    "    net.hiddenLayer.PSP_B .*= 0\n",
    "\n",
    "    net.hiddenLayer.E .*= 0\n",
    "    net.hiddenLayer.delta_W .*= 0\n",
    "    net.hiddenLayer.delta_b .*= 0\n",
    "\n",
    "    net.hiddenLayer.alpha_f .*= 0\n",
    "    net.hiddenLayer.alpha_t .*= 0\n",
    "    \n",
    "    net.finalLayer.B .*= 0\n",
    "    net.finalLayer.C .*= 0\n",
    "    net.finalLayer.lambda_C .*= 0\n",
    "\n",
    "    net.finalLayer.PSP_B .*= 0\n",
    "\n",
    "    net.finalLayer.E .*= 0\n",
    "    net.finalLayer.delta_W .*= 0\n",
    "    net.finalLayer.delta_b .*= 0\n",
    "\n",
    "    net.finalLayer.C_f .*= 0\n",
    "end"
   ]
  },
  {
   "cell_type": "code",
   "execution_count": 30,
   "metadata": {},
   "outputs": [
    {
     "data": {
      "text/plain": [
       "test_weights (generic function with 1 method)"
      ]
     },
     "execution_count": 30,
     "metadata": {},
     "output_type": "execute_result"
    }
   ],
   "source": [
    "# net test_weights\n",
    "# Test the network's current weights on the test set. The network's layers are copied\n",
    "#      and restored to their previous state after testing.\n",
    "# n_test : The number of test examples to use.\n",
    "\n",
    "function test_weights(net::Network, n_test, x_test, t_test, l_f_phase, l_f_phase_test)\n",
    "    # save old length of forward phase\n",
    "    old_l_f_phase = l_f_phase\n",
    "\n",
    "    # set new length of forward phase\n",
    "    l_f_phase = l_f_phase_test\n",
    "\n",
    "    # initialize count of correct classifications\n",
    "    num_correct = 0\n",
    "\n",
    "    # shuffle testing data\n",
    "    order = randperm(size(x_test)[2]) #randperm(10000)\n",
    "    x_test = x_test[:,order] \n",
    "    t_test = t_test[:,order]\n",
    "    \n",
    "    for i in 1:n_test\n",
    "        # clear all layer variables\n",
    "        clear_vars(net)\n",
    "\n",
    "        # get testing example data\n",
    "        x = lambda_max*x_test[:, i]\n",
    "        t = t_test[:, i]\n",
    "\n",
    "        # do a forward phase & get the unit with maximum average somatic potential\n",
    "        net(x) # net f_phase\n",
    "        sel_num = argmax(net.finalLayer.C_f)[1]\n",
    "\n",
    "        # get the target number from testing example data\n",
    "        target_num = argmax(t)\n",
    "\n",
    "        # increment correct classification counter if they match\n",
    "        if sel_num == target_num\n",
    "            num_correct += 1\n",
    "        end\n",
    "    end\n",
    "    \n",
    "    # calculate percent error\n",
    "    err_rate = (1.0 - num_correct/n_test)*100.0\n",
    "\n",
    "    l_f_phase = old_l_f_phase\n",
    "\n",
    "    clear_vars(net)\n",
    "    \n",
    "    return err_rate\n",
    "end"
   ]
  },
  {
   "cell_type": "markdown",
   "metadata": {},
   "source": [
    "## Training"
   ]
  },
  {
   "cell_type": "code",
   "execution_count": 31,
   "metadata": {},
   "outputs": [
    {
     "data": {
      "text/plain": [
       "load_MNIST (generic function with 1 method)"
      ]
     },
     "execution_count": 31,
     "metadata": {},
     "output_type": "execute_result"
    }
   ],
   "source": [
    "function load_MNIST()\n",
    "    x_train = MNIST.convert2features(MNIST.traintensor(Float64))\n",
    "    t_train = MNIST.trainlabels()\n",
    "    t_train = onehotbatch(t_train, [0, 1, 2, 3, 4, 5, 6, 7, 8, 9])    \n",
    "    x_test = MNIST.convert2features(MNIST.testtensor(Float64))\n",
    "    t_test = MNIST.testlabels()\n",
    "    t_test = onehotbatch(t_test, [0, 1, 2, 3, 4, 5, 6, 7, 8, 9]) \n",
    "    return x_train, t_train, x_test, t_test\n",
    "end"
   ]
  },
  {
   "cell_type": "code",
   "execution_count": 32,
   "metadata": {},
   "outputs": [
    {
     "data": {
      "text/plain": [
       "train (generic function with 3 methods)"
      ]
     },
     "execution_count": 32,
     "metadata": {},
     "output_type": "execute_result"
    }
   ],
   "source": [
    "# net train\n",
    "function train(net::Network, n_epochs = 10, n_training_examples = 60000)\n",
    "    \n",
    "    x_train, t_train, x_test, t_test = load_MNIST()\n",
    "    \n",
    "    current_epoch = 1\n",
    "    \n",
    "    # generate phase lengths for all training examples [2 2 2 ..]\n",
    "    l_f_phases = zeros(n_epochs*n_training_examples) .+ l_f_phase # [2 2 2 2 ..] in length 10*60000\n",
    "    l_t_phases = zeros(n_epochs*n_training_examples) .+ l_t_phase\n",
    "    \n",
    "    #record_training_labels:\n",
    "    training_labels = zeros(n_epochs*n_training_examples)\n",
    "    \n",
    "    # don't do an initial weight test\n",
    "    println(\"Start of epoch $(current_epoch)\")\n",
    "    \n",
    "    # start time used for timing how long each 1000 examples take\n",
    "    start_time = nothing\n",
    "    \n",
    "    #record_training_error\n",
    "    num_correct = 0\n",
    "    \n",
    "    for k in 1:n_epochs\n",
    "        # shuffle the training data\n",
    "        order = randperm(size(x_train)[2]) #randperm(60000)\n",
    "        x_train = x_train[:,order] \n",
    "        t_train = t_train[:,order]\n",
    "                  \n",
    "        for i in 1:n_training_examples   # n become i here\n",
    "            # set start time\n",
    "            if start_time == nothing\n",
    "                start_time = time()\n",
    "            end\n",
    "            \n",
    "            # get training example data\n",
    "            x = lambda_max*x_train[:,i]\n",
    "            t = t_train[:,i]\n",
    "            \n",
    "            # do forward phase\n",
    "            net(x) # net f_phase\n",
    "            \n",
    "            sel_num = argmax(net.finalLayer.C_f)[1] #axis=-1\n",
    "\n",
    "            # get the target number from testing example data\n",
    "            target_num = argmax(t)\n",
    "\n",
    "            # increment correct classification counter if they match\n",
    "            if sel_num == target_num\n",
    "                num_correct += 1\n",
    "            end\n",
    "            \n",
    "            # do target phase\n",
    "            net(x, t) # net t_phase\n",
    "            \n",
    "            #record_training_labels\n",
    "            training_labels[(k-1)*n_training_examples + i] = argmax(t)\n",
    "            \n",
    "            if i % 1000 == 0\n",
    "                if i != n_training_examples\n",
    "                    # we're partway through an epoch; do a quick weight test\n",
    "                    test_err = test_weights(net, n_quick_test, x_test, t_test, l_f_phase, l_f_phase_test)\n",
    "                    @printf(\"Epoch %d, example %d/%d. QE: %g \", current_epoch, i, n_training_examples, test_err)\n",
    "                else\n",
    "                    # we've reached the end of an epoch; do a full weight test\n",
    "                    test_err = test_weights(net, n_full_test, x_test, t_test, l_f_phase, l_f_phase_test)\n",
    "                    @printf(\"FE: %g \", test_err)\n",
    "                    \n",
    "                    # calculate percent training error for this epoch\n",
    "                    err_rate = (1.0 - num_correct/n_training_examples)*100.0\n",
    "                    @printf(\"TE: %g \", err_rate)\n",
    "\n",
    "                    num_correct = 0\n",
    "                end\n",
    "                # get end time & reset start time\n",
    "                end_time = time()\n",
    "                time_elapsed = end_time - start_time\n",
    "                @printf(\"T: %g\\n\", time_elapsed)\n",
    "                start_time = nothing\n",
    "            end\n",
    "        end\n",
    "        # update latest epoch counter\n",
    "        current_epoch += 1\n",
    "    end\n",
    "end"
   ]
  },
  {
   "cell_type": "code",
   "execution_count": 33,
   "metadata": {},
   "outputs": [
    {
     "name": "stdout",
     "output_type": "stream",
     "text": [
      "Start of epoch 1\n",
      "Epoch 1, example 1000/60000. QE: 55 T: 7.92246\n",
      "Epoch 1, example 2000/60000. QE: 19 T: 2.50032\n",
      "Epoch 1, example 3000/60000. QE: 8 T: 2.51372\n",
      "Epoch 1, example 4000/60000. QE: 14 T: 2.53755\n",
      "Epoch 1, example 5000/60000. QE: 19 T: 2.39769\n",
      "Epoch 1, example 6000/60000. QE: 6 T: 2.44325\n",
      "Epoch 1, example 7000/60000. QE: 16 T: 2.40583\n",
      "Epoch 1, example 8000/60000. QE: 10 T: 2.50334\n",
      "Epoch 1, example 9000/60000. QE: 12 T: 2.50936\n",
      "Epoch 1, example 10000/60000. QE: 14 T: 2.55051\n",
      "Epoch 1, example 11000/60000. QE: 11 T: 2.51475\n",
      "Epoch 1, example 12000/60000. QE: 14 T: 2.49869\n",
      "Epoch 1, example 13000/60000. QE: 12 T: 2.50939\n",
      "Epoch 1, example 14000/60000. QE: 15 T: 2.52497\n",
      "Epoch 1, example 15000/60000. QE: 10 T: 2.50193\n",
      "Epoch 1, example 16000/60000. QE: 11 T: 2.49888\n",
      "Epoch 1, example 17000/60000. QE: 10 T: 2.53122\n",
      "Epoch 1, example 18000/60000. QE: 8 T: 2.51316\n",
      "Epoch 1, example 19000/60000. QE: 10 T: 2.51531\n",
      "Epoch 1, example 20000/60000. QE: 8 T: 2.50245\n",
      "Epoch 1, example 21000/60000. QE: 6 T: 2.5089\n",
      "Epoch 1, example 22000/60000. QE: 8 T: 2.52514\n",
      "Epoch 1, example 23000/60000. QE: 10 T: 2.50928\n",
      "Epoch 1, example 24000/60000. QE: 11 T: 2.56351\n",
      "Epoch 1, example 25000/60000. QE: 6 T: 2.49819\n",
      "Epoch 1, example 26000/60000. QE: 6 T: 2.51227\n",
      "Epoch 1, example 27000/60000. QE: 8 T: 2.49254\n",
      "Epoch 1, example 28000/60000. QE: 11 T: 2.49502\n",
      "Epoch 1, example 29000/60000. QE: 14 T: 2.5241\n",
      "Epoch 1, example 30000/60000. QE: 8 T: 2.51882\n",
      "Epoch 1, example 31000/60000. QE: 11 T: 2.49897\n",
      "Epoch 1, example 32000/60000. QE: 10 T: 2.52006\n",
      "Epoch 1, example 33000/60000. QE: 7 T: 2.5295\n",
      "Epoch 1, example 34000/60000. QE: 3 T: 2.5198\n",
      "Epoch 1, example 35000/60000. QE: 5 T: 2.50457\n",
      "Epoch 1, example 36000/60000. QE: 8 T: 2.49291\n",
      "Epoch 1, example 37000/60000. QE: 10 T: 2.48585\n",
      "Epoch 1, example 38000/60000. QE: 10 T: 2.53443\n",
      "Epoch 1, example 39000/60000. QE: 13 T: 2.49942\n",
      "Epoch 1, example 40000/60000. QE: 4 T: 2.49887\n",
      "Epoch 1, example 41000/60000. QE: 11 T: 2.49734\n",
      "Epoch 1, example 42000/60000. QE: 8 T: 2.51879\n",
      "Epoch 1, example 43000/60000. QE: 9 T: 2.49852\n",
      "Epoch 1, example 44000/60000. QE: 8 T: 2.50519\n",
      "Epoch 1, example 45000/60000. QE: 5 T: 2.49443\n",
      "Epoch 1, example 46000/60000. QE: 6 T: 2.52246\n",
      "Epoch 1, example 47000/60000. QE: 10 T: 2.48183\n",
      "Epoch 1, example 48000/60000. QE: 4 T: 2.49719\n",
      "Epoch 1, example 49000/60000. QE: 5 T: 2.50936\n",
      "Epoch 1, example 50000/60000. QE: 6 T: 2.50505\n",
      "Epoch 1, example 51000/60000. QE: 6 T: 2.48371\n",
      "Epoch 1, example 52000/60000. QE: 5 T: 2.51582\n",
      "Epoch 1, example 53000/60000. QE: 6 T: 2.4788\n",
      "Epoch 1, example 54000/60000. QE: 6 T: 2.51452\n",
      "Epoch 1, example 55000/60000. QE: 6 T: 2.48586\n",
      "Epoch 1, example 56000/60000. QE: 11 T: 2.50524\n",
      "Epoch 1, example 57000/60000. QE: 9 T: 2.48475\n",
      "Epoch 1, example 58000/60000. QE: 10 T: 2.52106\n",
      "Epoch 1, example 59000/60000. QE: 3 T: 2.48084\n",
      "FE: 6.35 TE: 10.9117 T: 7.94547\n",
      "Epoch 2, example 1000/60000. QE: 4 T: 2.7698\n",
      "Epoch 2, example 2000/60000. QE: 10 T: 2.82726\n",
      "Epoch 2, example 3000/60000. QE: 3 T: 2.87084\n",
      "Epoch 2, example 4000/60000. QE: 8 T: 2.80412\n",
      "Epoch 2, example 5000/60000. QE: 5 T: 2.80373\n",
      "Epoch 2, example 6000/60000. QE: 5 T: 2.80827\n",
      "Epoch 2, example 7000/60000. QE: 4 T: 2.90008\n",
      "Epoch 2, example 8000/60000. QE: 8 T: 2.88415\n",
      "Epoch 2, example 9000/60000. QE: 6 T: 2.89962\n",
      "Epoch 2, example 10000/60000. QE: 5 T: 2.83761\n",
      "Epoch 2, example 11000/60000. QE: 3 T: 2.86237\n",
      "Epoch 2, example 12000/60000. QE: 9 T: 2.82419\n",
      "Epoch 2, example 13000/60000. QE: 10 T: 2.89124\n",
      "Epoch 2, example 14000/60000. QE: 7 T: 2.83441\n",
      "Epoch 2, example 15000/60000. QE: 4 T: 2.86621\n",
      "Epoch 2, example 16000/60000. QE: 9 T: 2.83357\n",
      "Epoch 2, example 17000/60000. QE: 10 T: 2.88626\n",
      "Epoch 2, example 18000/60000. QE: 5 T: 2.8292\n",
      "Epoch 2, example 19000/60000. QE: 6 T: 2.86822\n",
      "Epoch 2, example 20000/60000. QE: 7 T: 2.80973\n",
      "Epoch 2, example 21000/60000. QE: 1 T: 2.87844\n",
      "Epoch 2, example 22000/60000. QE: 6 T: 2.81064\n",
      "Epoch 2, example 23000/60000. QE: 1 T: 2.86861\n",
      "Epoch 2, example 24000/60000. QE: 2 T: 2.83654\n",
      "Epoch 2, example 25000/60000. QE: 4 T: 2.85386\n",
      "Epoch 2, example 26000/60000. QE: 5 T: 2.81517\n",
      "Epoch 2, example 27000/60000. QE: 6 T: 2.84942\n",
      "Epoch 2, example 28000/60000. QE: 6 T: 2.84363\n",
      "Epoch 2, example 29000/60000. QE: 1 T: 2.85397\n",
      "Epoch 2, example 30000/60000. QE: 7 T: 2.82154\n",
      "Epoch 2, example 31000/60000. QE: 4 T: 2.8663\n",
      "Epoch 2, example 32000/60000. QE: 8 T: 2.86153\n",
      "Epoch 2, example 33000/60000. QE: 5 T: 2.86047\n",
      "Epoch 2, example 34000/60000. QE: 4 T: 2.8134\n",
      "Epoch 2, example 35000/60000. QE: 9 T: 2.90831\n",
      "Epoch 2, example 36000/60000. QE: 3 T: 2.813\n",
      "Epoch 2, example 37000/60000. QE: 5 T: 2.88139\n",
      "Epoch 2, example 38000/60000. QE: 4 T: 2.82192\n",
      "Epoch 2, example 39000/60000. QE: 3 T: 2.87707\n",
      "Epoch 2, example 40000/60000. QE: 3 T: 2.81267\n",
      "Epoch 2, example 41000/60000. QE: 3 T: 2.84975\n",
      "Epoch 2, example 42000/60000. QE: 10 T: 2.84877\n",
      "Epoch 2, example 43000/60000. QE: 10 T: 2.85245\n",
      "Epoch 2, example 44000/60000. QE: 10 T: 2.82516\n",
      "Epoch 2, example 45000/60000. QE: 6 T: 2.85094\n",
      "Epoch 2, example 46000/60000. QE: 8 T: 2.83043\n",
      "Epoch 2, example 47000/60000. QE: 7 T: 2.87461\n",
      "Epoch 2, example 48000/60000. QE: 8 T: 2.83595\n",
      "Epoch 2, example 49000/60000. QE: 5 T: 2.8823\n",
      "Epoch 2, example 50000/60000. QE: 6 T: 2.82067\n",
      "Epoch 2, example 51000/60000. QE: 7 T: 2.93377\n",
      "Epoch 2, example 52000/60000. QE: 0 T: 2.81617\n",
      "Epoch 2, example 53000/60000. QE: 5 T: 2.88401\n",
      "Epoch 2, example 54000/60000. QE: 7 T: 2.8172\n",
      "Epoch 2, example 55000/60000. QE: 5 T: 2.86113\n",
      "Epoch 2, example 56000/60000. QE: 7 T: 2.84838\n",
      "Epoch 2, example 57000/60000. QE: 2 T: 2.85051\n",
      "Epoch 2, example 58000/60000. QE: 4 T: 2.82426\n",
      "Epoch 2, example 59000/60000. QE: 7 T: 2.85676\n",
      "FE: 4.91 TE: 5.485 T: 8.40622\n",
      "Epoch 3, example 1000/60000. QE: 4 T: 3.29035\n",
      "Epoch 3, example 2000/60000. QE: 4 T: 2.46594\n",
      "Epoch 3, example 3000/60000. QE: 4 T: 2.46759\n",
      "Epoch 3, example 4000/60000. QE: 1 T: 2.4587\n",
      "Epoch 3, example 5000/60000. QE: 8 T: 2.48373\n",
      "Epoch 3, example 6000/60000. QE: 5 T: 2.45658\n",
      "Epoch 3, example 7000/60000. QE: 6 T: 2.47176\n",
      "Epoch 3, example 8000/60000. QE: 10 T: 2.45586\n",
      "Epoch 3, example 9000/60000. QE: 5 T: 2.50952\n",
      "Epoch 3, example 10000/60000. QE: 2 T: 2.45244\n",
      "Epoch 3, example 11000/60000. QE: 6 T: 2.46317\n",
      "Epoch 3, example 12000/60000. QE: 6 T: 2.44894\n",
      "Epoch 3, example 13000/60000. QE: 4 T: 2.49611\n",
      "Epoch 3, example 14000/60000. QE: 7 T: 2.45964\n",
      "Epoch 3, example 15000/60000. QE: 4 T: 2.46426\n",
      "Epoch 3, example 16000/60000. QE: 3 T: 2.46305\n",
      "Epoch 3, example 17000/60000. QE: 6 T: 2.4993\n",
      "Epoch 3, example 18000/60000. QE: 2 T: 2.46125\n",
      "Epoch 3, example 19000/60000. QE: 2 T: 2.46233\n",
      "Epoch 3, example 20000/60000. QE: 4 T: 2.45405\n",
      "Epoch 3, example 21000/60000. QE: 11 T: 2.48793\n",
      "Epoch 3, example 22000/60000. QE: 6 T: 2.45522\n",
      "Epoch 3, example 23000/60000. QE: 9 T: 2.46553\n",
      "Epoch 3, example 24000/60000. QE: 4 T: 2.45511\n",
      "Epoch 3, example 25000/60000. QE: 4 T: 2.48343\n",
      "Epoch 3, example 26000/60000. QE: 6 T: 2.46089\n",
      "Epoch 3, example 27000/60000. QE: 6 T: 2.46043\n",
      "Epoch 3, example 28000/60000. QE: 7 T: 2.46324\n",
      "Epoch 3, example 29000/60000. QE: 4 T: 2.48691\n",
      "Epoch 3, example 30000/60000. QE: 1 T: 2.46131\n",
      "Epoch 3, example 31000/60000. QE: 5 T: 2.46314\n",
      "Epoch 3, example 32000/60000. QE: 4 T: 2.46251\n",
      "Epoch 3, example 33000/60000. QE: 4 T: 2.50994\n",
      "Epoch 3, example 34000/60000. QE: 4 T: 2.45576\n",
      "Epoch 3, example 35000/60000. QE: 6 T: 2.52732\n",
      "Epoch 3, example 36000/60000. QE: 2 T: 2.45989\n",
      "Epoch 3, example 37000/60000. QE: 9 T: 2.50466\n",
      "Epoch 3, example 38000/60000. QE: 2 T: 2.4688\n",
      "Epoch 3, example 39000/60000. QE: 4 T: 2.46521\n",
      "Epoch 3, example 40000/60000. QE: 5 T: 2.45689\n",
      "Epoch 3, example 41000/60000. QE: 3 T: 2.49276\n",
      "Epoch 3, example 42000/60000. QE: 3 T: 2.45308\n",
      "Epoch 3, example 43000/60000. QE: 4 T: 2.46299\n",
      "Epoch 3, example 44000/60000. QE: 2 T: 2.46049\n",
      "Epoch 3, example 45000/60000. QE: 7 T: 2.47634\n",
      "Epoch 3, example 46000/60000. QE: 5 T: 2.45068\n",
      "Epoch 3, example 47000/60000. QE: 3 T: 2.4589\n",
      "Epoch 3, example 48000/60000. QE: 7 T: 2.45479\n",
      "Epoch 3, example 49000/60000. QE: 3 T: 2.47862\n",
      "Epoch 3, example 50000/60000. QE: 6 T: 2.4678\n",
      "Epoch 3, example 51000/60000. QE: 4 T: 2.45982\n",
      "Epoch 3, example 52000/60000. QE: 9 T: 2.46064\n",
      "Epoch 3, example 53000/60000. QE: 2 T: 2.47193\n",
      "Epoch 3, example 54000/60000. QE: 5 T: 2.47064\n",
      "Epoch 3, example 55000/60000. QE: 0 T: 2.4598\n"
     ]
    },
    {
     "name": "stdout",
     "output_type": "stream",
     "text": [
      "Epoch 3, example 56000/60000. QE: 5 T: 2.47381\n",
      "Epoch 3, example 57000/60000. QE: 5 T: 2.47782\n",
      "Epoch 3, example 58000/60000. QE: 3 T: 2.49352\n",
      "Epoch 3, example 59000/60000. QE: 5 T: 2.46505\n",
      "FE: 4.15 TE: 4.14833 T: 8.05062\n",
      "Epoch 4, example 1000/60000. QE: 4 T: 2.75898\n",
      "Epoch 4, example 2000/60000. QE: 7 T: 2.7854\n",
      "Epoch 4, example 3000/60000. QE: 5 T: 2.85717\n",
      "Epoch 4, example 4000/60000. QE: 2 T: 2.7687\n",
      "Epoch 4, example 5000/60000. QE: 3 T: 2.77612\n",
      "Epoch 4, example 6000/60000. QE: 5 T: 2.77565\n",
      "Epoch 4, example 7000/60000. QE: 5 T: 2.85781\n",
      "Epoch 4, example 8000/60000. QE: 1 T: 2.78904\n",
      "Epoch 4, example 9000/60000. QE: 7 T: 2.82148\n",
      "Epoch 4, example 10000/60000. QE: 5 T: 2.80928\n",
      "Epoch 4, example 11000/60000. QE: 8 T: 2.82145\n",
      "Epoch 4, example 12000/60000. QE: 5 T: 2.78201\n",
      "Epoch 4, example 13000/60000. QE: 4 T: 2.81598\n",
      "Epoch 4, example 14000/60000. QE: 8 T: 2.80061\n",
      "Epoch 4, example 15000/60000. QE: 2 T: 2.83079\n",
      "Epoch 4, example 16000/60000. QE: 2 T: 2.78767\n",
      "Epoch 4, example 17000/60000. QE: 8 T: 2.84606\n",
      "Epoch 4, example 18000/60000. QE: 3 T: 2.85934\n",
      "Epoch 4, example 19000/60000. QE: 5 T: 2.83113\n",
      "Epoch 4, example 20000/60000. QE: 6 T: 2.78146\n",
      "Epoch 4, example 21000/60000. QE: 7 T: 2.882\n",
      "Epoch 4, example 22000/60000. QE: 6 T: 2.77213\n",
      "Epoch 4, example 23000/60000. QE: 2 T: 2.83357\n",
      "Epoch 4, example 24000/60000. QE: 4 T: 2.80167\n",
      "Epoch 4, example 25000/60000. QE: 4 T: 2.84928\n",
      "Epoch 4, example 26000/60000. QE: 2 T: 2.79728\n",
      "Epoch 4, example 27000/60000. QE: 7 T: 2.82096\n",
      "Epoch 4, example 28000/60000. QE: 4 T: 2.80699\n",
      "Epoch 4, example 29000/60000. QE: 5 T: 2.8162\n",
      "Epoch 4, example 30000/60000. QE: 1 T: 2.79102\n",
      "Epoch 4, example 31000/60000. QE: 8 T: 2.84061\n",
      "Epoch 4, example 32000/60000. QE: 6 T: 2.77591\n",
      "Epoch 4, example 33000/60000. QE: 3 T: 2.82479\n",
      "Epoch 4, example 34000/60000. QE: 3 T: 2.78266\n",
      "Epoch 4, example 35000/60000. QE: 3 T: 2.84473\n",
      "Epoch 4, example 36000/60000. QE: 2 T: 2.78141\n",
      "Epoch 4, example 37000/60000. QE: 4 T: 2.83621\n",
      "Epoch 4, example 38000/60000. QE: 6 T: 2.78462\n",
      "Epoch 4, example 39000/60000. QE: 4 T: 2.87409\n",
      "Epoch 4, example 40000/60000. QE: 5 T: 2.78515\n",
      "Epoch 4, example 41000/60000. QE: 2 T: 2.85496\n",
      "Epoch 4, example 42000/60000. QE: 6 T: 2.81134\n",
      "Epoch 4, example 43000/60000. QE: 3 T: 2.83451\n",
      "Epoch 4, example 44000/60000. QE: 3 T: 2.8058\n",
      "Epoch 4, example 45000/60000. QE: 4 T: 2.82879\n",
      "Epoch 4, example 46000/60000. QE: 4 T: 2.80923\n",
      "Epoch 4, example 47000/60000. QE: 3 T: 2.84172\n",
      "Epoch 4, example 48000/60000. QE: 3 T: 2.79593\n",
      "Epoch 4, example 49000/60000. QE: 1 T: 2.8507\n",
      "Epoch 4, example 50000/60000. QE: 2 T: 2.7824\n",
      "Epoch 4, example 51000/60000. QE: 2 T: 2.82398\n",
      "Epoch 4, example 52000/60000. QE: 1 T: 2.7834\n",
      "Epoch 4, example 53000/60000. QE: 4 T: 2.8725\n",
      "Epoch 4, example 54000/60000. QE: 5 T: 2.78427\n",
      "Epoch 4, example 55000/60000. QE: 2 T: 2.85512\n",
      "Epoch 4, example 56000/60000. QE: 0 T: 2.80496\n",
      "Epoch 4, example 57000/60000. QE: 2 T: 2.84845\n",
      "Epoch 4, example 58000/60000. QE: 2 T: 2.80774\n",
      "Epoch 4, example 59000/60000. QE: 3 T: 2.82582\n",
      "FE: 3.76 TE: 3.38667 T: 8.47301\n",
      "Epoch 5, example 1000/60000. QE: 2 T: 3.12948\n",
      "Epoch 5, example 2000/60000. QE: 4 T: 2.47098\n",
      "Epoch 5, example 3000/60000. QE: 1 T: 2.46713\n",
      "Epoch 5, example 4000/60000. QE: 4 T: 2.45833\n",
      "Epoch 5, example 5000/60000. QE: 3 T: 2.49346\n",
      "Epoch 5, example 6000/60000. QE: 4 T: 2.45172\n",
      "Epoch 5, example 7000/60000. QE: 6 T: 2.46255\n",
      "Epoch 5, example 8000/60000. QE: 5 T: 2.46698\n",
      "Epoch 5, example 9000/60000. QE: 1 T: 2.48137\n",
      "Epoch 5, example 10000/60000. QE: 8 T: 2.47171\n",
      "Epoch 5, example 11000/60000. QE: 5 T: 2.4778\n",
      "Epoch 5, example 12000/60000. QE: 5 T: 2.46525\n",
      "Epoch 5, example 13000/60000. QE: 2 T: 2.50904\n",
      "Epoch 5, example 14000/60000. QE: 9 T: 2.46973\n",
      "Epoch 5, example 15000/60000. QE: 1 T: 2.463\n",
      "Epoch 5, example 16000/60000. QE: 2 T: 2.45441\n",
      "Epoch 5, example 17000/60000. QE: 4 T: 2.50521\n",
      "Epoch 5, example 18000/60000. QE: 2 T: 2.45574\n",
      "Epoch 5, example 19000/60000. QE: 3 T: 2.46851\n",
      "Epoch 5, example 20000/60000. QE: 2 T: 2.46483\n",
      "Epoch 5, example 21000/60000. QE: 4 T: 2.49629\n",
      "Epoch 5, example 22000/60000. QE: 4 T: 2.45701\n",
      "Epoch 5, example 23000/60000. QE: 1 T: 2.46195\n",
      "Epoch 5, example 24000/60000. QE: 3 T: 2.45745\n",
      "Epoch 5, example 25000/60000. QE: 8 T: 2.48917\n",
      "Epoch 5, example 26000/60000. QE: 3 T: 2.47545\n",
      "Epoch 5, example 27000/60000. QE: 1 T: 2.46282\n",
      "Epoch 5, example 28000/60000. QE: 3 T: 2.46163\n",
      "Epoch 5, example 29000/60000. QE: 2 T: 2.4789\n",
      "Epoch 5, example 30000/60000. QE: 5 T: 2.46274\n",
      "Epoch 5, example 31000/60000. QE: 1 T: 2.47149\n",
      "Epoch 5, example 32000/60000. QE: 0 T: 2.47289\n",
      "Epoch 5, example 33000/60000. QE: 6 T: 2.46997\n",
      "Epoch 5, example 34000/60000. QE: 1 T: 2.48704\n",
      "Epoch 5, example 35000/60000. QE: 4 T: 2.4595\n",
      "Epoch 5, example 36000/60000. QE: 5 T: 2.46861\n",
      "Epoch 5, example 37000/60000. QE: 5 T: 2.49067\n",
      "Epoch 5, example 38000/60000. QE: 2 T: 2.48909\n",
      "Epoch 5, example 39000/60000. QE: 2 T: 2.4588\n",
      "Epoch 5, example 40000/60000. QE: 6 T: 2.4751\n",
      "Epoch 5, example 41000/60000. QE: 2 T: 2.47922\n",
      "Epoch 5, example 42000/60000. QE: 2 T: 2.48446\n",
      "Epoch 5, example 43000/60000. QE: 3 T: 2.46194\n",
      "Epoch 5, example 44000/60000. QE: 5 T: 2.46771\n",
      "Epoch 5, example 45000/60000. QE: 5 T: 2.4672\n",
      "Epoch 5, example 46000/60000. QE: 2 T: 2.49121\n",
      "Epoch 5, example 47000/60000. QE: 5 T: 2.5361\n",
      "Epoch 5, example 48000/60000. QE: 4 T: 2.4558\n",
      "Epoch 5, example 49000/60000. QE: 3 T: 2.44945\n",
      "Epoch 5, example 50000/60000. QE: 3 T: 2.48653\n",
      "Epoch 5, example 51000/60000. QE: 1 T: 2.46131\n",
      "Epoch 5, example 52000/60000. QE: 1 T: 2.47348\n",
      "Epoch 5, example 53000/60000. QE: 5 T: 2.46896\n",
      "Epoch 5, example 54000/60000. QE: 3 T: 2.4814\n",
      "Epoch 5, example 55000/60000. QE: 3 T: 2.46106\n",
      "Epoch 5, example 56000/60000. QE: 0 T: 2.46582\n",
      "Epoch 5, example 57000/60000. QE: 4 T: 2.45131\n",
      "Epoch 5, example 58000/60000. QE: 3 T: 2.48512\n",
      "Epoch 5, example 59000/60000. QE: 4 T: 2.46218\n",
      "FE: 3.23 TE: 2.90333 T: 8.10072\n",
      "Epoch 6, example 1000/60000. QE: 7 T: 2.75735\n",
      "Epoch 6, example 2000/60000. QE: 2 T: 2.79255\n",
      "Epoch 6, example 3000/60000. QE: 4 T: 2.88914\n",
      "Epoch 6, example 4000/60000. QE: 2 T: 2.77869\n",
      "Epoch 6, example 5000/60000. QE: 2 T: 2.77695\n",
      "Epoch 6, example 6000/60000. QE: 4 T: 2.77518\n",
      "Epoch 6, example 7000/60000. QE: 3 T: 2.8537\n",
      "Epoch 6, example 8000/60000. QE: 3 T: 2.7774\n",
      "Epoch 6, example 9000/60000. QE: 3 T: 2.82699\n",
      "Epoch 6, example 10000/60000. QE: 3 T: 2.80569\n",
      "Epoch 6, example 11000/60000. QE: 6 T: 2.82604\n",
      "Epoch 6, example 12000/60000. QE: 6 T: 2.79092\n",
      "Epoch 6, example 13000/60000. QE: 1 T: 2.82039\n",
      "Epoch 6, example 14000/60000. QE: 5 T: 2.80336\n",
      "Epoch 6, example 15000/60000. QE: 3 T: 2.81772\n",
      "Epoch 6, example 16000/60000. QE: 2 T: 2.78372\n",
      "Epoch 6, example 17000/60000. QE: 3 T: 2.84281\n",
      "Epoch 6, example 18000/60000. QE: 3 T: 2.79455\n",
      "Epoch 6, example 19000/60000. QE: 8 T: 2.82684\n",
      "Epoch 6, example 20000/60000. QE: 4 T: 2.77793\n",
      "Epoch 6, example 21000/60000. QE: 1 T: 2.84929\n",
      "Epoch 6, example 22000/60000. QE: 1 T: 2.7959\n",
      "Epoch 6, example 23000/60000. QE: 2 T: 2.84655\n",
      "Epoch 6, example 24000/60000. QE: 5 T: 2.78505\n",
      "Epoch 6, example 25000/60000. QE: 1 T: 2.87726\n",
      "Epoch 6, example 26000/60000. QE: 2 T: 2.80935\n",
      "Epoch 6, example 27000/60000. QE: 5 T: 2.82572\n",
      "Epoch 6, example 28000/60000. QE: 2 T: 2.8248\n",
      "Epoch 6, example 29000/60000. QE: 1 T: 2.9099\n",
      "Epoch 6, example 30000/60000. QE: 2 T: 2.81892\n",
      "Epoch 6, example 31000/60000. QE: 5 T: 2.82512\n",
      "Epoch 6, example 32000/60000. QE: 4 T: 2.82178\n",
      "Epoch 6, example 33000/60000. QE: 3 T: 2.87201\n",
      "Epoch 6, example 34000/60000. QE: 3 T: 2.79062\n",
      "Epoch 6, example 35000/60000. QE: 3 T: 2.86377\n",
      "Epoch 6, example 36000/60000. QE: 4 T: 2.79199\n",
      "Epoch 6, example 37000/60000. QE: 1 T: 2.8486\n",
      "Epoch 6, example 38000/60000. QE: 1 T: 2.78826\n",
      "Epoch 6, example 39000/60000. QE: 3 T: 2.86824\n",
      "Epoch 6, example 40000/60000. QE: 1 T: 2.7928\n",
      "Epoch 6, example 41000/60000. QE: 3 T: 2.82936\n",
      "Epoch 6, example 42000/60000. QE: 2 T: 2.81877\n",
      "Epoch 6, example 43000/60000. QE: 3 T: 2.83796\n",
      "Epoch 6, example 44000/60000. QE: 1 T: 2.79964\n",
      "Epoch 6, example 45000/60000. QE: 1 T: 2.83449\n",
      "Epoch 6, example 46000/60000. QE: 4 T: 2.81318\n",
      "Epoch 6, example 47000/60000. QE: 6 T: 2.84047\n",
      "Epoch 6, example 48000/60000. QE: 0 T: 2.81609\n",
      "Epoch 6, example 49000/60000. QE: 3 T: 2.87772\n",
      "Epoch 6, example 50000/60000. QE: 4 T: 2.78839\n",
      "Epoch 6, example 51000/60000. QE: 5 T: 2.84273\n",
      "Epoch 6, example 52000/60000. QE: 4 T: 2.78815\n"
     ]
    },
    {
     "name": "stdout",
     "output_type": "stream",
     "text": [
      "Epoch 6, example 53000/60000. QE: 5 T: 2.84759\n",
      "Epoch 6, example 54000/60000. QE: 1 T: 2.80027\n",
      "Epoch 6, example 55000/60000. QE: 3 T: 2.85\n",
      "Epoch 6, example 56000/60000. QE: 2 T: 2.81594\n",
      "Epoch 6, example 57000/60000. QE: 5 T: 2.82191\n",
      "Epoch 6, example 58000/60000. QE: 3 T: 2.79479\n",
      "Epoch 6, example 59000/60000. QE: 0 T: 2.82635\n",
      "FE: 3.01 TE: 2.505 T: 8.33362\n",
      "Epoch 7, example 1000/60000. QE: 2 T: 3.06512\n",
      "Epoch 7, example 2000/60000. QE: 2 T: 2.44711\n",
      "Epoch 7, example 3000/60000. QE: 3 T: 2.43604\n",
      "Epoch 7, example 4000/60000. QE: 3 T: 2.4275\n",
      "Epoch 7, example 5000/60000. QE: 2 T: 2.44913\n",
      "Epoch 7, example 6000/60000. QE: 2 T: 2.41962\n",
      "Epoch 7, example 7000/60000. QE: 3 T: 2.43051\n",
      "Epoch 7, example 8000/60000. QE: 3 T: 2.43329\n",
      "Epoch 7, example 9000/60000. QE: 1 T: 2.41679\n",
      "Epoch 7, example 10000/60000. QE: 2 T: 2.44832\n",
      "Epoch 7, example 11000/60000. QE: 5 T: 2.49678\n",
      "Epoch 7, example 12000/60000. QE: 2 T: 2.417\n",
      "Epoch 7, example 13000/60000. QE: 3 T: 2.41492\n",
      "Epoch 7, example 14000/60000. QE: 4 T: 2.46157\n",
      "Epoch 7, example 15000/60000. QE: 2 T: 2.40675\n",
      "Epoch 7, example 16000/60000. QE: 2 T: 2.42715\n",
      "Epoch 7, example 17000/60000. QE: 0 T: 2.42209\n",
      "Epoch 7, example 18000/60000. QE: 2 T: 2.44641\n",
      "Epoch 7, example 19000/60000. QE: 8 T: 2.4194\n",
      "Epoch 7, example 20000/60000. QE: 2 T: 2.43803\n",
      "Epoch 7, example 21000/60000. QE: 5 T: 2.42026\n",
      "Epoch 7, example 22000/60000. QE: 4 T: 2.44529\n",
      "Epoch 7, example 23000/60000. QE: 3 T: 2.41973\n",
      "Epoch 7, example 24000/60000. QE: 5 T: 2.41537\n",
      "Epoch 7, example 25000/60000. QE: 6 T: 2.41392\n",
      "Epoch 7, example 26000/60000. QE: 4 T: 2.45114\n",
      "Epoch 7, example 27000/60000. QE: 6 T: 2.40317\n",
      "Epoch 7, example 28000/60000. QE: 2 T: 2.41504\n",
      "Epoch 7, example 29000/60000. QE: 3 T: 2.41149\n",
      "Epoch 7, example 30000/60000. QE: 2 T: 2.4359\n",
      "Epoch 7, example 31000/60000. QE: 0 T: 2.41072\n",
      "Epoch 7, example 32000/60000. QE: 2 T: 2.41662\n",
      "Epoch 7, example 33000/60000. QE: 3 T: 2.40689\n",
      "Epoch 7, example 34000/60000. QE: 0 T: 2.43873\n",
      "Epoch 7, example 35000/60000. QE: 3 T: 2.39918\n",
      "Epoch 7, example 36000/60000. QE: 3 T: 2.3977\n",
      "Epoch 7, example 37000/60000. QE: 1 T: 2.39802\n",
      "Epoch 7, example 38000/60000. QE: 1 T: 2.42642\n",
      "Epoch 7, example 39000/60000. QE: 2 T: 2.40664\n",
      "Epoch 7, example 40000/60000. QE: 2 T: 2.40217\n",
      "Epoch 7, example 41000/60000. QE: 4 T: 2.41748\n",
      "Epoch 7, example 42000/60000. QE: 8 T: 2.39981\n",
      "Epoch 7, example 43000/60000. QE: 1 T: 2.43837\n",
      "Epoch 7, example 44000/60000. QE: 2 T: 2.39282\n",
      "Epoch 7, example 45000/60000. QE: 5 T: 2.39799\n",
      "Epoch 7, example 46000/60000. QE: 1 T: 2.39865\n",
      "Epoch 7, example 47000/60000. QE: 1 T: 2.42035\n",
      "Epoch 7, example 48000/60000. QE: 2 T: 2.38646\n",
      "Epoch 7, example 49000/60000. QE: 1 T: 2.38814\n",
      "Epoch 7, example 50000/60000. QE: 2 T: 2.38435\n",
      "Epoch 7, example 51000/60000. QE: 6 T: 2.41501\n",
      "Epoch 7, example 52000/60000. QE: 1 T: 2.39002\n",
      "Epoch 7, example 53000/60000. QE: 3 T: 2.4074\n",
      "Epoch 7, example 54000/60000. QE: 3 T: 2.39326\n",
      "Epoch 7, example 55000/60000. QE: 2 T: 2.42684\n",
      "Epoch 7, example 56000/60000. QE: 4 T: 2.40124\n",
      "Epoch 7, example 57000/60000. QE: 2 T: 2.39991\n",
      "Epoch 7, example 58000/60000. QE: 5 T: 2.38737\n",
      "Epoch 7, example 59000/60000. QE: 2 T: 2.41604\n",
      "FE: 2.72 TE: 2.26 T: 7.80738\n",
      "Epoch 8, example 1000/60000. QE: 0 T: 2.74226\n",
      "Epoch 8, example 2000/60000. QE: 0 T: 2.75065\n",
      "Epoch 8, example 3000/60000. QE: 6 T: 2.81538\n",
      "Epoch 8, example 4000/60000. QE: 10 T: 2.75257\n",
      "Epoch 8, example 5000/60000. QE: 4 T: 2.77241\n",
      "Epoch 8, example 6000/60000. QE: 0 T: 2.75204\n",
      "Epoch 8, example 7000/60000. QE: 6 T: 2.79365\n",
      "Epoch 8, example 8000/60000. QE: 2 T: 2.77227\n",
      "Epoch 8, example 9000/60000. QE: 1 T: 2.79808\n",
      "Epoch 8, example 10000/60000. QE: 1 T: 2.74681\n",
      "Epoch 8, example 11000/60000. QE: 5 T: 2.7865\n",
      "Epoch 8, example 12000/60000. QE: 5 T: 2.77691\n",
      "Epoch 8, example 13000/60000. QE: 2 T: 2.78957\n",
      "Epoch 8, example 14000/60000. QE: 6 T: 2.7537\n",
      "Epoch 8, example 15000/60000. QE: 6 T: 2.81131\n",
      "Epoch 8, example 16000/60000. QE: 2 T: 2.76587\n",
      "Epoch 8, example 17000/60000. QE: 4 T: 2.80615\n",
      "Epoch 8, example 18000/60000. QE: 2 T: 2.76499\n",
      "Epoch 8, example 19000/60000. QE: 1 T: 2.81163\n",
      "Epoch 8, example 20000/60000. QE: 1 T: 2.74472\n",
      "Epoch 8, example 21000/60000. QE: 1 T: 2.79055\n",
      "Epoch 8, example 22000/60000. QE: 5 T: 2.75107\n",
      "Epoch 8, example 23000/60000. QE: 2 T: 2.82381\n",
      "Epoch 8, example 24000/60000. QE: 3 T: 2.7494\n",
      "Epoch 8, example 25000/60000. QE: 3 T: 2.78816\n",
      "Epoch 8, example 26000/60000. QE: 4 T: 2.78263\n",
      "Epoch 8, example 27000/60000. QE: 1 T: 2.78169\n",
      "Epoch 8, example 28000/60000. QE: 1 T: 2.75038\n",
      "Epoch 8, example 29000/60000. QE: 1 T: 2.78779\n",
      "Epoch 8, example 30000/60000. QE: 3 T: 2.78902\n",
      "Epoch 8, example 31000/60000. QE: 2 T: 2.79245\n",
      "Epoch 8, example 32000/60000. QE: 3 T: 2.75638\n",
      "Epoch 8, example 33000/60000. QE: 4 T: 2.82837\n",
      "Epoch 8, example 34000/60000. QE: 2 T: 2.75101\n",
      "Epoch 8, example 35000/60000. QE: 2 T: 2.79556\n",
      "Epoch 8, example 36000/60000. QE: 5 T: 2.75422\n",
      "Epoch 8, example 37000/60000. QE: 2 T: 2.82848\n",
      "Epoch 8, example 38000/60000. QE: 1 T: 2.75128\n",
      "Epoch 8, example 39000/60000. QE: 3 T: 2.80482\n",
      "Epoch 8, example 40000/60000. QE: 3 T: 2.76004\n",
      "Epoch 8, example 41000/60000. QE: 2 T: 2.83047\n",
      "Epoch 8, example 42000/60000. QE: 2 T: 2.8355\n",
      "Epoch 8, example 43000/60000. QE: 1 T: 2.80793\n",
      "Epoch 8, example 44000/60000. QE: 3 T: 2.77769\n",
      "Epoch 8, example 45000/60000. QE: 1 T: 2.79727\n",
      "Epoch 8, example 46000/60000. QE: 2 T: 2.7663\n",
      "Epoch 8, example 47000/60000. QE: 1 T: 2.796\n",
      "Epoch 8, example 48000/60000. QE: 2 T: 2.78787\n",
      "Epoch 8, example 49000/60000. QE: 5 T: 2.7987\n",
      "Epoch 8, example 50000/60000. QE: 2 T: 2.76097\n",
      "Epoch 8, example 51000/60000. QE: 4 T: 2.83549\n",
      "Epoch 8, example 52000/60000. QE: 3 T: 2.76004\n",
      "Epoch 8, example 53000/60000. QE: 2 T: 2.79737\n",
      "Epoch 8, example 54000/60000. QE: 3 T: 2.75902\n",
      "Epoch 8, example 55000/60000. QE: 2 T: 2.82462\n",
      "Epoch 8, example 56000/60000. QE: 3 T: 2.74805\n",
      "Epoch 8, example 57000/60000. QE: 0 T: 2.81195\n",
      "Epoch 8, example 58000/60000. QE: 2 T: 2.75911\n",
      "Epoch 8, example 59000/60000. QE: 3 T: 2.81778\n",
      "FE: 2.38 TE: 1.95667 T: 8.29913\n",
      "Epoch 9, example 1000/60000. QE: 1 T: 2.99024\n",
      "Epoch 9, example 2000/60000. QE: 3 T: 2.40081\n",
      "Epoch 9, example 3000/60000. QE: 2 T: 2.38455\n",
      "Epoch 9, example 4000/60000. QE: 2 T: 2.40845\n",
      "Epoch 9, example 5000/60000. QE: 3 T: 2.3911\n",
      "Epoch 9, example 6000/60000. QE: 2 T: 2.39012\n",
      "Epoch 9, example 7000/60000. QE: 2 T: 2.38684\n",
      "Epoch 9, example 8000/60000. QE: 2 T: 2.4217\n",
      "Epoch 9, example 9000/60000. QE: 1 T: 2.39014\n",
      "Epoch 9, example 10000/60000. QE: 5 T: 2.39977\n",
      "Epoch 9, example 11000/60000. QE: 3 T: 2.39637\n",
      "Epoch 9, example 12000/60000. QE: 4 T: 2.41242\n",
      "Epoch 9, example 13000/60000. QE: 5 T: 2.38757\n",
      "Epoch 9, example 14000/60000. QE: 2 T: 2.39937\n",
      "Epoch 9, example 15000/60000. QE: 2 T: 2.38873\n",
      "Epoch 9, example 16000/60000. QE: 2 T: 2.41518\n",
      "Epoch 9, example 17000/60000. QE: 1 T: 2.3997\n",
      "Epoch 9, example 18000/60000. QE: 4 T: 2.38583\n",
      "Epoch 9, example 19000/60000. QE: 3 T: 2.41\n",
      "Epoch 9, example 20000/60000. QE: 2 T: 2.39734\n",
      "Epoch 9, example 21000/60000. QE: 4 T: 2.40819\n",
      "Epoch 9, example 22000/60000. QE: 4 T: 2.40325\n",
      "Epoch 9, example 23000/60000. QE: 4 T: 2.41615\n",
      "Epoch 9, example 24000/60000. QE: 4 T: 2.38825\n",
      "Epoch 9, example 25000/60000. QE: 4 T: 2.41786\n",
      "Epoch 9, example 26000/60000. QE: 1 T: 2.447\n",
      "Epoch 9, example 27000/60000. QE: 3 T: 2.3706\n",
      "Epoch 9, example 28000/60000. QE: 4 T: 2.3891\n",
      "Epoch 9, example 29000/60000. QE: 1 T: 2.4095\n",
      "Epoch 9, example 30000/60000. QE: 3 T: 2.38704\n",
      "Epoch 9, example 31000/60000. QE: 2 T: 2.39978\n",
      "Epoch 9, example 32000/60000. QE: 4 T: 2.38714\n",
      "Epoch 9, example 33000/60000. QE: 2 T: 2.40225\n",
      "Epoch 9, example 34000/60000. QE: 1 T: 2.38385\n",
      "Epoch 9, example 35000/60000. QE: 8 T: 2.39862\n",
      "Epoch 9, example 36000/60000. QE: 5 T: 2.39016\n",
      "Epoch 9, example 37000/60000. QE: 1 T: 2.41034\n",
      "Epoch 9, example 38000/60000. QE: 1 T: 2.39039\n",
      "Epoch 9, example 39000/60000. QE: 1 T: 2.38041\n",
      "Epoch 9, example 40000/60000. QE: 2 T: 2.36886\n",
      "Epoch 9, example 41000/60000. QE: 3 T: 2.40705\n",
      "Epoch 9, example 42000/60000. QE: 2 T: 2.38656\n",
      "Epoch 9, example 43000/60000. QE: 6 T: 2.38763\n",
      "Epoch 9, example 44000/60000. QE: 6 T: 2.39771\n",
      "Epoch 9, example 45000/60000. QE: 5 T: 2.37316\n",
      "Epoch 9, example 46000/60000. QE: 1 T: 2.40954\n",
      "Epoch 9, example 47000/60000. QE: 3 T: 2.38736\n",
      "Epoch 9, example 48000/60000. QE: 2 T: 2.3894\n",
      "Epoch 9, example 49000/60000. QE: 2 T: 2.38327\n"
     ]
    },
    {
     "name": "stdout",
     "output_type": "stream",
     "text": [
      "Epoch 9, example 50000/60000. QE: 5 T: 2.42302\n",
      "Epoch 9, example 51000/60000. QE: 8 T: 2.37428\n",
      "Epoch 9, example 52000/60000. QE: 2 T: 2.38873\n",
      "Epoch 9, example 53000/60000. QE: 2 T: 2.39706\n",
      "Epoch 9, example 54000/60000. QE: 4 T: 2.40309\n",
      "Epoch 9, example 55000/60000. QE: 1 T: 2.38318\n",
      "Epoch 9, example 56000/60000. QE: 2 T: 2.40381\n",
      "Epoch 9, example 57000/60000. QE: 4 T: 2.39701\n",
      "Epoch 9, example 58000/60000. QE: 1 T: 2.41698\n",
      "Epoch 9, example 59000/60000. QE: 4 T: 2.38959\n",
      "FE: 2.66 TE: 1.76167 T: 7.76282\n",
      "Epoch 10, example 1000/60000. QE: 4 T: 2.71042\n",
      "Epoch 10, example 2000/60000. QE: 3 T: 2.75736\n",
      "Epoch 10, example 3000/60000. QE: 2 T: 2.79842\n",
      "Epoch 10, example 4000/60000. QE: 5 T: 2.76951\n",
      "Epoch 10, example 5000/60000. QE: 2 T: 2.74027\n",
      "Epoch 10, example 6000/60000. QE: 4 T: 2.76256\n",
      "Epoch 10, example 7000/60000. QE: 6 T: 2.81131\n",
      "Epoch 10, example 8000/60000. QE: 2 T: 2.74745\n",
      "Epoch 10, example 9000/60000. QE: 3 T: 2.79512\n",
      "Epoch 10, example 10000/60000. QE: 7 T: 2.75098\n",
      "Epoch 10, example 11000/60000. QE: 0 T: 2.82692\n",
      "Epoch 10, example 12000/60000. QE: 2 T: 2.75631\n",
      "Epoch 10, example 13000/60000. QE: 2 T: 2.85911\n",
      "Epoch 10, example 14000/60000. QE: 3 T: 2.74408\n",
      "Epoch 10, example 15000/60000. QE: 4 T: 2.80737\n",
      "Epoch 10, example 16000/60000. QE: 2 T: 2.75855\n",
      "Epoch 10, example 17000/60000. QE: 5 T: 2.79891\n",
      "Epoch 10, example 18000/60000. QE: 0 T: 2.77079\n",
      "Epoch 10, example 19000/60000. QE: 3 T: 2.78216\n",
      "Epoch 10, example 20000/60000. QE: 1 T: 2.76278\n",
      "Epoch 10, example 21000/60000. QE: 1 T: 2.79931\n",
      "Epoch 10, example 22000/60000. QE: 5 T: 2.78\n",
      "Epoch 10, example 23000/60000. QE: 4 T: 2.78617\n",
      "Epoch 10, example 24000/60000. QE: 3 T: 2.74535\n",
      "Epoch 10, example 25000/60000. QE: 5 T: 2.81216\n",
      "Epoch 10, example 26000/60000. QE: 1 T: 2.75345\n",
      "Epoch 10, example 27000/60000. QE: 2 T: 2.78945\n",
      "Epoch 10, example 28000/60000. QE: 1 T: 2.747\n",
      "Epoch 10, example 29000/60000. QE: 2 T: 2.80757\n",
      "Epoch 10, example 30000/60000. QE: 4 T: 2.76355\n",
      "Epoch 10, example 31000/60000. QE: 1 T: 2.80107\n",
      "Epoch 10, example 32000/60000. QE: 2 T: 2.76504\n",
      "Epoch 10, example 33000/60000. QE: 2 T: 2.81905\n",
      "Epoch 10, example 34000/60000. QE: 2 T: 2.76472\n",
      "Epoch 10, example 35000/60000. QE: 2 T: 2.78773\n",
      "Epoch 10, example 36000/60000. QE: 3 T: 2.76957\n",
      "Epoch 10, example 37000/60000. QE: 1 T: 2.78646\n",
      "Epoch 10, example 38000/60000. QE: 2 T: 2.75307\n",
      "Epoch 10, example 39000/60000. QE: 4 T: 2.78448\n",
      "Epoch 10, example 40000/60000. QE: 3 T: 2.77041\n",
      "Epoch 10, example 41000/60000. QE: 5 T: 2.79115\n",
      "Epoch 10, example 42000/60000. QE: 2 T: 2.77444\n",
      "Epoch 10, example 43000/60000. QE: 6 T: 2.81674\n",
      "Epoch 10, example 44000/60000. QE: 4 T: 2.75826\n",
      "Epoch 10, example 45000/60000. QE: 4 T: 2.79881\n",
      "Epoch 10, example 46000/60000. QE: 2 T: 2.75701\n",
      "Epoch 10, example 47000/60000. QE: 6 T: 2.81264\n",
      "Epoch 10, example 48000/60000. QE: 2 T: 2.75384\n",
      "Epoch 10, example 49000/60000. QE: 1 T: 2.80793\n",
      "Epoch 10, example 50000/60000. QE: 5 T: 2.75323\n",
      "Epoch 10, example 51000/60000. QE: 1 T: 2.80524\n",
      "Epoch 10, example 52000/60000. QE: 1 T: 2.76724\n",
      "Epoch 10, example 53000/60000. QE: 1 T: 2.78714\n",
      "Epoch 10, example 54000/60000. QE: 2 T: 2.7709\n",
      "Epoch 10, example 55000/60000. QE: 4 T: 2.86168\n",
      "Epoch 10, example 56000/60000. QE: 5 T: 2.76201\n",
      "Epoch 10, example 57000/60000. QE: 3 T: 2.79597\n",
      "Epoch 10, example 58000/60000. QE: 3 T: 2.76902\n",
      "Epoch 10, example 59000/60000. QE: 3 T: 2.7902\n",
      "FE: 2.54 TE: 1.605 T: 8.25634\n"
     ]
    }
   ],
   "source": [
    "n = (500, 10) #for now building everything for having one hidden layer\n",
    "n_in  = 784\n",
    "net = Network(n, n_in)\n",
    "train(net)"
   ]
  },
  {
   "cell_type": "code",
   "execution_count": null,
   "metadata": {},
   "outputs": [],
   "source": []
  }
 ],
 "metadata": {
  "kernelspec": {
   "display_name": "Julia 1.3.1",
   "language": "julia",
   "name": "julia-1.3"
  },
  "language_info": {
   "file_extension": ".jl",
   "mimetype": "application/julia",
   "name": "julia",
   "version": "1.3.1"
  }
 },
 "nbformat": 4,
 "nbformat_minor": 2
}

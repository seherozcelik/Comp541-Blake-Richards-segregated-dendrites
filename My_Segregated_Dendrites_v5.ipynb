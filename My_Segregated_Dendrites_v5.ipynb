{
 "cells": [
  {
   "cell_type": "markdown",
   "metadata": {},
   "source": [
    "## Imports"
   ]
  },
  {
   "cell_type": "code",
   "execution_count": 1,
   "metadata": {},
   "outputs": [
    {
     "name": "stdout",
     "output_type": "stream",
     "text": [
      "\u001b[32m\u001b[1m  Updating\u001b[22m\u001b[39m registry at `~/.julia/registries/General`\n",
      "\u001b[32m\u001b[1m Resolving\u001b[22m\u001b[39m package versions...\n"
     ]
    },
    {
     "name": "stderr",
     "output_type": "stream",
     "text": [
      "┌ Warning: Some registries failed to update:\n",
      "│     — `~/.julia/registries/General` — registry dirty\n",
      "└ @ Pkg.Types /buildworker/worker/package_linux64/build/usr/share/julia/stdlib/v1.3/Pkg/src/Types.jl:1199\n"
     ]
    },
    {
     "name": "stdout",
     "output_type": "stream",
     "text": [
      "\u001b[32m\u001b[1m  Updating\u001b[22m\u001b[39m `/scratch/users/sozcelik19/.julia/environments/v1.3/Project.toml`\n",
      "\u001b[90m [no changes]\u001b[39m\n",
      "\u001b[32m\u001b[1m  Updating\u001b[22m\u001b[39m `/scratch/users/sozcelik19/.julia/environments/v1.3/Manifest.toml`\n",
      "\u001b[90m [no changes]\u001b[39m\n",
      "\u001b[32m\u001b[1m Resolving\u001b[22m\u001b[39m package versions...\n",
      "\u001b[32m\u001b[1m  Updating\u001b[22m\u001b[39m `/scratch/users/sozcelik19/.julia/environments/v1.3/Project.toml`\n",
      "\u001b[90m [no changes]\u001b[39m\n",
      "\u001b[32m\u001b[1m  Updating\u001b[22m\u001b[39m `/scratch/users/sozcelik19/.julia/environments/v1.3/Manifest.toml`\n",
      "\u001b[90m [no changes]\u001b[39m\n",
      "\u001b[32m\u001b[1m Resolving\u001b[22m\u001b[39m package versions...\n",
      "\u001b[32m\u001b[1m  Updating\u001b[22m\u001b[39m `/scratch/users/sozcelik19/.julia/environments/v1.3/Project.toml`\n",
      "\u001b[90m [no changes]\u001b[39m\n",
      "\u001b[32m\u001b[1m  Updating\u001b[22m\u001b[39m `/scratch/users/sozcelik19/.julia/environments/v1.3/Manifest.toml`\n",
      "\u001b[90m [no changes]\u001b[39m\n"
     ]
    }
   ],
   "source": [
    "using MLDatasets\n",
    "using Random\n",
    "import Pkg\n",
    "Pkg.add(\"Flux\")\n",
    "using Flux: onehotbatch\n",
    "Pkg.add(\"PoissonRandom\")\n",
    "using PoissonRandom\n",
    "Pkg.add(\"Distributions\")\n",
    "using Distributions\n",
    "using Statistics\n",
    "using Printf"
   ]
  },
  {
   "cell_type": "code",
   "execution_count": 2,
   "metadata": {},
   "outputs": [
    {
     "data": {
      "text/plain": [
       "100"
      ]
     },
     "execution_count": 2,
     "metadata": {},
     "output_type": "execute_result"
    }
   ],
   "source": [
    "n_full_test  = 10000 # number of examples to use for full tests  (every epoch)\n",
    "n_quick_test = 100   # number of examples to use for quick tests (every 1000 examples)"
   ]
  },
  {
   "cell_type": "markdown",
   "metadata": {},
   "source": [
    "## Global Variables"
   ]
  },
  {
   "cell_type": "code",
   "execution_count": 3,
   "metadata": {},
   "outputs": [
    {
     "data": {
      "text/plain": [
       "0.2"
      ]
     },
     "execution_count": 3,
     "metadata": {},
     "output_type": "execute_result"
    }
   ],
   "source": [
    "# global variables\n",
    "l_f_phase      = 2  # length of forward phase (time steps)\n",
    "l_t_phase      = 2  # length of target phase (time steps)\n",
    "l_f_phase_test = 2  # length of forward phase for tests (time steps)\n",
    "dt          = 1.0    # time step (ms)\n",
    "lambda_max  = 0.2*dt # maximum spike rate (spikes per time step)\n",
    "# integration_time = 1 # time steps of integration of neuronal variables used for plasticity\n",
    "# we don't use integration time, this makes index start from 0 where julia indexes start from 1 - directly use 1 inst 0"
   ]
  },
  {
   "cell_type": "code",
   "execution_count": 4,
   "metadata": {},
   "outputs": [
    {
     "data": {
      "text/plain": [
       "499.9999999999999"
      ]
     },
     "execution_count": 4,
     "metadata": {},
     "output_type": "execute_result"
    }
   ],
   "source": [
    "# kernel parameters\n",
    "tau_L = 10.0 # leak time constant\n",
    "\n",
    "# conductance parameters\n",
    "g_B = 0.6                                   # basal conductance\n",
    "g_L = 1.0/tau_L                             # leak conductance\n",
    "g_D = g_B                                   # dendritic conductance in output layer\n",
    "\n",
    "E_E = 8                                     # excitation reversal potential\n",
    "E_I = -8                                    # inhibition reversal potential\n",
    "\n",
    "# steady state constants\n",
    "k_B = g_B/(g_L + g_B)\n",
    "k_D = g_D/(g_L + g_D)\n",
    "k_I = 1.0/(g_L + g_D)\n",
    "\n",
    "# weight update constants\n",
    "P_hidden = 20.0/lambda_max      # hidden layer error signal scaling factor\n",
    "P_final  = 20.0/(lambda_max^2)  # final layer error signal scaling factor"
   ]
  },
  {
   "cell_type": "markdown",
   "metadata": {},
   "source": [
    "## Functions"
   ]
  },
  {
   "cell_type": "code",
   "execution_count": 5,
   "metadata": {},
   "outputs": [
    {
     "data": {
      "text/plain": [
       "sigma (generic function with 1 method)"
      ]
     },
     "execution_count": 5,
     "metadata": {},
     "output_type": "execute_result"
    }
   ],
   "source": [
    "# sigmoid function\n",
    "function sigma(x) \n",
    "    return 1 / (1 + exp(-x))\n",
    "end"
   ]
  },
  {
   "cell_type": "code",
   "execution_count": 6,
   "metadata": {},
   "outputs": [
    {
     "data": {
      "text/plain": [
       "deriv_sigma (generic function with 1 method)"
      ]
     },
     "execution_count": 6,
     "metadata": {},
     "output_type": "execute_result"
    }
   ],
   "source": [
    "# derivative sigmoid function\n",
    "function deriv_sigma(x)\n",
    "    return exp(-x) / (1 + exp(-x))^2\n",
    "end"
   ]
  },
  {
   "cell_type": "markdown",
   "metadata": {},
   "source": [
    "## Objects"
   ]
  },
  {
   "cell_type": "code",
   "execution_count": 7,
   "metadata": {},
   "outputs": [],
   "source": [
    "mutable struct HiddenLayer\n",
    "    m # The layer number, eg. m = 1 for the first hidden layer.\n",
    "    PSP_B # post-synaptic potentials\n",
    "    B\n",
    "    A\n",
    "    C\n",
    "    lambda_C\n",
    "    alpha_f\n",
    "    alpha_t\n",
    "    E\n",
    "    delta_W\n",
    "    delta_b\n",
    "end"
   ]
  },
  {
   "cell_type": "code",
   "execution_count": 8,
   "metadata": {},
   "outputs": [],
   "source": [
    "mutable struct FinalLayer\n",
    "    m # The layer number, ie. m = M where M is the total number of layers.\n",
    "    lambda_C # something about soma\n",
    "    PSP_B # post-synaptic potentials\n",
    "    B\n",
    "    C\n",
    "    C_f\n",
    "    k_D2\n",
    "    k_E\n",
    "    k_I\n",
    "    E\n",
    "    delta_W\n",
    "    delta_b\n",
    "end"
   ]
  },
  {
   "cell_type": "code",
   "execution_count": 9,
   "metadata": {},
   "outputs": [],
   "source": [
    "mutable struct Network\n",
    "    n # Tuple - Number of units in each layer of the network, eg. (500, 10) here.\n",
    "    hiddenLayer::HiddenLayer\n",
    "    finalLayer::FinalLayer\n",
    "    W\n",
    "    b\n",
    "    Y\n",
    "    f_etas\n",
    "    loss\n",
    "end"
   ]
  },
  {
   "cell_type": "markdown",
   "metadata": {},
   "source": [
    "## Initialization Sub-Functions"
   ]
  },
  {
   "cell_type": "code",
   "execution_count": 10,
   "metadata": {},
   "outputs": [
    {
     "data": {
      "text/plain": [
       "initializeWbY (generic function with 1 method)"
      ]
     },
     "execution_count": 10,
     "metadata": {},
     "output_type": "execute_result"
    }
   ],
   "source": [
    "function initializeWbY(ln, n, n_in)\n",
    "    W = Array{Any}(undef, ln)\n",
    "    b = Array{Any}(undef, ln)\n",
    "    Y = Array{Any}(undef, ln-1)\n",
    "    \n",
    "    # weight optimization parameters\n",
    "    V_avg = 3   # desired average of dendritic potential\n",
    "    V_sd  = 3   # desired standard deviation of dendritic potential\n",
    "    b_avg = 0.8  # desired average of bias\n",
    "    b_sd  = 0.001 # desired standard deviation of bias\n",
    "    nu    = lambda_max*0.25  # slope of linear region of activation function\n",
    "    V_sm  = V_sd^2 + V_avg^2 # second moment of dendritic potential\n",
    "    \n",
    "    for m in 2:-1:1\n",
    "        # get number of units in the layer below\n",
    "        if m != 1\n",
    "            N = n[m-1] #500 W2\n",
    "        else\n",
    "            N = n_in  #784 W1\n",
    "        end\n",
    "            \n",
    "        # generate feedforward weights & biases\n",
    "        # calculate weight variables needed to get desired average & standard deviations of somatic potentials\n",
    "        W_avg = (V_avg - b_avg)/(nu*N*V_avg) \n",
    "        W_sm  = (V_sm + (nu^2)*(N - N^2)*(W_avg^2)*(V_avg^2) - 2*N*nu*b_avg*V_avg*W_avg - (b_avg^2))/(N*(nu^2)*V_sm)\n",
    "        W_sd  = sqrt(W_sm - W_avg^2)\n",
    " \n",
    "        W[m] = W_avg .+ 3.465*W_sd*rand(Uniform(-1,1), n[m], N) # (500,784) , (10,500)\n",
    "        b[m] = b_avg .+ 3.465*b_sd*rand(Uniform(-1,1), n[m], 1) # (500,1) , (10,1)\n",
    "        \n",
    "        if m != 1\n",
    "            Y[m-1] = W_avg .+ 3.465*W_sd*rand(Uniform(-1,1), N, n[end]) # (500,10)\n",
    "        end\n",
    "    end\n",
    "        \n",
    "    return W, b, Y\n",
    "end"
   ]
  },
  {
   "cell_type": "markdown",
   "metadata": {},
   "source": [
    "## Initializations"
   ]
  },
  {
   "cell_type": "code",
   "execution_count": 11,
   "metadata": {},
   "outputs": [
    {
     "data": {
      "text/plain": [
       "HiddenLayer"
      ]
     },
     "execution_count": 11,
     "metadata": {},
     "output_type": "execute_result"
    }
   ],
   "source": [
    "# f_input_size - The size of feedforward input, eg. 784 for MNIST input. (784, 1) here.\n",
    "# b_input_size - The size of feedback input. This is the same as the number of units in the next layer. (10,1) here.\n",
    "function HiddenLayer(m, n, f_input_size, b_input_size, size_W) # m=1\n",
    "    PSP_B = zeros(f_input_size, 1)              # (784,1) m=1 in hidden here\n",
    "    B = zeros(n[m], 1)                          # (500,1) m=1 in hidden here\n",
    "    A = zeros(n[m], 1)\n",
    "    C = zeros(n[m], 1)\n",
    "    lambda_C = zeros(n[m], 1)\n",
    "    alpha_f = zeros(n[m], 1)\n",
    "    alpha_t = zeros(n[m], 1)\n",
    "    E = zeros(n[m], 1)\n",
    "    delta_W = zeros(size_W)\n",
    "    delta_b = zeros(n[m], 1)\n",
    "    return HiddenLayer(m, PSP_B, B, A, C, lambda_C, alpha_f, alpha_t, E, delta_W, delta_b)\n",
    "end"
   ]
  },
  {
   "cell_type": "code",
   "execution_count": 12,
   "metadata": {},
   "outputs": [
    {
     "data": {
      "text/plain": [
       "FinalLayer"
      ]
     },
     "execution_count": 12,
     "metadata": {},
     "output_type": "execute_result"
    }
   ],
   "source": [
    "# f_input_size - The size of feedforward input. This is the same as the number of units in the previous layer. (500,1)\n",
    "function FinalLayer(m, n, f_input_size, size_W) # m=2\n",
    "    lambda_C = zeros(n[m], 1)                   # (10,1) m=2 in final here\n",
    "    PSP_B = zeros(f_input_size, 1)              # (500,1) in size \n",
    "    B = zeros(n[m], 1)                                \n",
    "    C = zeros(n[m], 1)\n",
    "    C_f = zeros(n[m], 1)\n",
    "    k_D2 = zeros(n[m], 1)\n",
    "    k_E = zeros(n[m], 1)\n",
    "    k_I = zeros(n[m], 1)\n",
    "    E = zeros(n[m], 1)\n",
    "    delta_W = zeros(size_W)\n",
    "    delta_b = zeros(n[m], 1)\n",
    "    return FinalLayer(m, lambda_C, PSP_B, B, C, C_f, k_D2, k_E, k_I, E, delta_W, delta_b)\n",
    "end"
   ]
  },
  {
   "cell_type": "code",
   "execution_count": 13,
   "metadata": {},
   "outputs": [
    {
     "data": {
      "text/plain": [
       "Network"
      ]
     },
     "execution_count": 13,
     "metadata": {},
     "output_type": "execute_result"
    }
   ],
   "source": [
    "function Network(n, n_in)\n",
    "    W, b, Y = initializeWbY(length(n), n, n_in)\n",
    "    hiddenLayer = HiddenLayer(1, n, n_in, n[end], size(W[1]))\n",
    "    finalLayer = FinalLayer(2, n, n[end-1], size(W[2]))\n",
    "    f_etas = (0.21, 0.21)       #Learning rates for each layer's feedforward weights\n",
    "    loss = 0\n",
    "    return Network(n, hiddenLayer, finalLayer, W, b, Y, f_etas, loss)\n",
    "end"
   ]
  },
  {
   "cell_type": "markdown",
   "metadata": {},
   "source": [
    "## Callable Objects Sub-Functions"
   ]
  },
  {
   "cell_type": "code",
   "execution_count": 14,
   "metadata": {},
   "outputs": [
    {
     "data": {
      "text/plain": [
       "update_B (generic function with 1 method)"
      ]
     },
     "execution_count": 14,
     "metadata": {},
     "output_type": "execute_result"
    }
   ],
   "source": [
    "# Update basal potentials.\n",
    "# f_input Feedforward input. (784, 1) here\n",
    "function update_B(hidden::HiddenLayer, net::Network, f_input)\n",
    "    hidden.PSP_B = f_input\n",
    "    hidden.B = net.W[hidden.m]*f_input .+ net.b[hidden.m] # (500,784) * (784,1) .+ (500,1) m=1 in hidden here\n",
    "end"
   ]
  },
  {
   "cell_type": "code",
   "execution_count": 15,
   "metadata": {},
   "outputs": [
    {
     "data": {
      "text/plain": [
       "update_A (generic function with 1 method)"
      ]
     },
     "execution_count": 15,
     "metadata": {},
     "output_type": "execute_result"
    }
   ],
   "source": [
    "# Update apical potentials.\n",
    "# b_input Feedback input. (10,1) here\n",
    "function update_A(hidden::HiddenLayer, net::Network, b_input)\n",
    "    hidden.A = net.Y[hidden.m]*b_input # (500,10) * (10,1) m=1 in hidden here\n",
    "end"
   ]
  },
  {
   "cell_type": "code",
   "execution_count": 16,
   "metadata": {},
   "outputs": [
    {
     "data": {
      "text/plain": [
       "update_C (generic function with 1 method)"
      ]
     },
     "execution_count": 16,
     "metadata": {},
     "output_type": "execute_result"
    }
   ],
   "source": [
    "# Update somatic potentials & calculate firing rates.\n",
    "function update_C(hidden::HiddenLayer, net::Network)\n",
    "    hidden.C = k_B*hidden.B\n",
    "    hidden.lambda_C = lambda_max*sigma.(hidden.C)\n",
    "end"
   ]
  },
  {
   "cell_type": "code",
   "execution_count": 17,
   "metadata": {},
   "outputs": [
    {
     "data": {
      "text/plain": [
       "update_B (generic function with 2 methods)"
      ]
     },
     "execution_count": 17,
     "metadata": {},
     "output_type": "execute_result"
    }
   ],
   "source": [
    "# Update basal potentials.\n",
    "# f_input Feedforward input. (500, 1) here\n",
    "function update_B(final::FinalLayer, net::Network, f_input)\n",
    "    final.PSP_B = f_input\n",
    "    final.B = net.W[final.m]*f_input .+ net.b[final.m] # (10,500) * (500, 1) .+ (10,1) m=2 in final here\n",
    "end"
   ]
  },
  {
   "cell_type": "code",
   "execution_count": 18,
   "metadata": {},
   "outputs": [
    {
     "data": {
      "text/plain": [
       "update_C_forward (generic function with 1 method)"
      ]
     },
     "execution_count": 18,
     "metadata": {},
     "output_type": "execute_result"
    }
   ],
   "source": [
    "# Update somatic potentials & calculate firing rates.\n",
    "function update_C_forward(final::FinalLayer, net::Network)\n",
    "    final.C = k_D.*final.B\n",
    "    final.lambda_C = lambda_max*sigma.(final.C)\n",
    "end"
   ]
  },
  {
   "cell_type": "code",
   "execution_count": 19,
   "metadata": {},
   "outputs": [
    {
     "data": {
      "text/plain": [
       "update_I (generic function with 1 method)"
      ]
     },
     "execution_count": 19,
     "metadata": {},
     "output_type": "execute_result"
    }
   ],
   "source": [
    "# Update injected perisomatic currents.\n",
    "# b_input : Target input, eg. if the target label is 8,\n",
    "# b_input = np.array([0, 0, 0, 0, 0, 0, 0, 0, 1, 0]).\n",
    "function update_I(final::FinalLayer, b_input)\n",
    "    g_E = b_input\n",
    "    g_I = -g_E .+ 1\n",
    "    final.k_D2 = g_D./((g_L + g_D) .+ g_E + g_I)\n",
    "    final.k_E  = g_E./((g_L + g_D) .+ g_E + g_I)\n",
    "    final.k_I  = g_I./((g_L + g_D) .+ g_E + g_I)\n",
    "end"
   ]
  },
  {
   "cell_type": "code",
   "execution_count": 20,
   "metadata": {},
   "outputs": [
    {
     "data": {
      "text/plain": [
       "update_C_target (generic function with 1 method)"
      ]
     },
     "execution_count": 20,
     "metadata": {},
     "output_type": "execute_result"
    }
   ],
   "source": [
    "# Update somatic potentials & calculate firing rates.\n",
    "function update_C_target(final::FinalLayer, net::Network)\n",
    "    final.C = final.k_D2.*final.B + final.k_E*E_E + final.k_I*E_I\n",
    "    final.lambda_C = lambda_max*sigma.(final.C)\n",
    "end"
   ]
  },
  {
   "cell_type": "markdown",
   "metadata": {},
   "source": [
    "## Callable Objects"
   ]
  },
  {
   "cell_type": "code",
   "execution_count": 21,
   "metadata": {},
   "outputs": [],
   "source": [
    "# hidden layer out_f / out_t\n",
    "# Perform a forward phase pass. / Perform a target phase pass.\n",
    "# f_input Feedforward input. (784, 1) here\n",
    "# b_input Feedback input. (10,1) here\n",
    "\n",
    "function (hidden::HiddenLayer)(net::Network, f_input, b_input)\n",
    "    update_B(hidden, net, f_input)\n",
    "    update_A(hidden, net, b_input)\n",
    "    update_C(hidden, net)\n",
    "end"
   ]
  },
  {
   "cell_type": "code",
   "execution_count": 22,
   "metadata": {},
   "outputs": [],
   "source": [
    "# hidden layer plateau_f / plateau_t\n",
    "# Calculate forward phase apical plateau potentials.\n",
    "\n",
    "function (hidden::HiddenLayer)(t_f)\n",
    "    if t_f == \"f\"\n",
    "        # calculate apical calcium spike nonlinearity\n",
    "        hidden.alpha_f = sigma.(hidden.A)\n",
    "    end\n",
    "    if t_f == \"t\"\n",
    "        # calculate apical calcium spike nonlinearity\n",
    "        hidden.alpha_t = sigma.(hidden.A)\n",
    "    end\n",
    "end"
   ]
  },
  {
   "cell_type": "code",
   "execution_count": 23,
   "metadata": {},
   "outputs": [],
   "source": [
    "# hidden layer update_W\n",
    "# Update feedforward weights.\n",
    "\n",
    "function (hidden::HiddenLayer)(net::Network)\n",
    "    hidden.E = (hidden.alpha_t - hidden.alpha_f).*((-k_B)*lambda_max*deriv_sigma.(hidden.C))\n",
    "    hidden.delta_W = hidden.E * hidden.PSP_B'   #((500,1)*(1,784) = (500,784)\n",
    "    net.W[hidden.m] += -net.f_etas[hidden.m]*P_hidden*hidden.delta_W\n",
    "    hidden.delta_b = hidden.E\n",
    "    net.b[hidden.m] += -net.f_etas[hidden.m]*P_hidden*hidden.delta_b\n",
    "end"
   ]
  },
  {
   "cell_type": "code",
   "execution_count": 24,
   "metadata": {},
   "outputs": [],
   "source": [
    "# final layer out_f\n",
    "# Perform a forward phase pass.\n",
    "# f_input Feedforward input. (500, 1) here\n",
    "\n",
    "function (final::FinalLayer)(net::Network, f_input)\n",
    "    update_B(final, net, f_input)\n",
    "    update_C_forward(final, net)\n",
    "end"
   ]
  },
  {
   "cell_type": "code",
   "execution_count": 25,
   "metadata": {},
   "outputs": [],
   "source": [
    "# final layer out_t\n",
    "# Perform a target phase pass.\n",
    "# f_input (ndarray) : Feedforward input.\n",
    "# b_input (ndarray) : Target input.\n",
    "\n",
    "function (final::FinalLayer)(net::Network, f_input, b_input)\n",
    "    update_B(final, net, f_input)\n",
    "    update_I(final, b_input)\n",
    "    update_C_target(final, net)\n",
    "end"
   ]
  },
  {
   "cell_type": "code",
   "execution_count": 26,
   "metadata": {},
   "outputs": [],
   "source": [
    "# final layer update_W\n",
    "# Update feedforward weights.\n",
    "\n",
    "function (final::FinalLayer)(net::Network)\n",
    "    final.E = (final.lambda_C - lambda_max*sigma.(final.C_f)).*((-k_D)*lambda_max*deriv_sigma.(final.C_f))\n",
    "    final.delta_W = final.E * final.PSP_B'   #(10,1)*(1,500) = (10,500)\n",
    "    net.W[final.m] += -net.f_etas[final.m]*P_final*final.delta_W\n",
    "    final.delta_b = final.E\n",
    "    net.b[final.m] += -net.f_etas[final.m]*P_final*final.delta_b\n",
    "end"
   ]
  },
  {
   "cell_type": "code",
   "execution_count": 27,
   "metadata": {},
   "outputs": [],
   "source": [
    "# net f_phase\n",
    "# Perform a forward phase.\n",
    "# x : Input array of size (X, 1) where X is the size of the input, eg. (784, 1).\n",
    "function (net::Network)(x)\n",
    "    for time in 1:l_f_phase\n",
    "        # do a forward pass <--> net out_f -- line 530\n",
    "        net.hiddenLayer(net, x, net.finalLayer.lambda_C) # hidden layer out_f\n",
    "        net.finalLayer(net, net.hiddenLayer.lambda_C) # final layer out_f\n",
    "    end\n",
    "    # calculate plateau potentials for hidden layer neurons\n",
    "    net.hiddenLayer(\"f\") #hidden layer plateau_f\n",
    "    # record C(soma) forward potential\n",
    "    net.finalLayer.C_f = net.finalLayer.C\n",
    "end"
   ]
  },
  {
   "cell_type": "code",
   "execution_count": 28,
   "metadata": {},
   "outputs": [],
   "source": [
    "# net t_phase\n",
    "# Perform a target phase.\n",
    "# x : Input array of size (X, 1) where X is the size of the input, eg. (784, 1).\n",
    "# t : Target array of size (T, 1) where T is the size of the target, eg. (10, 1).\n",
    "\n",
    "function (net::Network)(x, t)\n",
    "    for time in 1:l_t_phase\n",
    "        # do a target pass <--> net out_t\n",
    "        net.hiddenLayer(net, x, net.finalLayer.lambda_C) # hidden layer out_t\n",
    "        net.finalLayer(net, net.hiddenLayer.lambda_C, t) # final layer out_t\n",
    "    end\n",
    "    # calculate plateau potentials for hidden layer neurons\n",
    "    net.hiddenLayer(\"t\") #hidden layer plateau_t\n",
    "    # update weights \n",
    "    net.finalLayer(net)       #final layer update_W\n",
    "    net.hiddenLayer(net)      #hidden layer update_W\n",
    "    net.loss = mean((net.finalLayer.lambda_C - lambda_max*sigma.(net.finalLayer.C_f)).^2)\n",
    "    # reset averages\n",
    "    net.finalLayer.C_f .*= 0\n",
    "end"
   ]
  },
  {
   "cell_type": "markdown",
   "metadata": {},
   "source": [
    "## Training Sub-Functions"
   ]
  },
  {
   "cell_type": "code",
   "execution_count": 29,
   "metadata": {},
   "outputs": [
    {
     "data": {
      "text/plain": [
       "clear_vars (generic function with 1 method)"
      ]
     },
     "execution_count": 29,
     "metadata": {},
     "output_type": "execute_result"
    }
   ],
   "source": [
    "function clear_vars(net::Network)\n",
    "    net.hiddenLayer.A .*= 0\n",
    "    net.hiddenLayer.B .*= 0\n",
    "    net.hiddenLayer.C .*= 0\n",
    "    net.hiddenLayer.lambda_C .*= 0\n",
    "\n",
    "    net.hiddenLayer.PSP_B .*= 0\n",
    "\n",
    "    net.hiddenLayer.E .*= 0\n",
    "    net.hiddenLayer.delta_W .*= 0\n",
    "    net.hiddenLayer.delta_b .*= 0\n",
    "\n",
    "    net.hiddenLayer.alpha_f .*= 0\n",
    "    net.hiddenLayer.alpha_t .*= 0\n",
    "    \n",
    "    net.finalLayer.B .*= 0\n",
    "    net.finalLayer.C .*= 0\n",
    "    net.finalLayer.lambda_C .*= 0\n",
    "\n",
    "    net.finalLayer.PSP_B .*= 0\n",
    "\n",
    "    net.finalLayer.E .*= 0\n",
    "    net.finalLayer.delta_W .*= 0\n",
    "    net.finalLayer.delta_b .*= 0\n",
    "\n",
    "    net.finalLayer.C_f .*= 0\n",
    "end"
   ]
  },
  {
   "cell_type": "code",
   "execution_count": 30,
   "metadata": {},
   "outputs": [
    {
     "data": {
      "text/plain": [
       "test_weights (generic function with 1 method)"
      ]
     },
     "execution_count": 30,
     "metadata": {},
     "output_type": "execute_result"
    }
   ],
   "source": [
    "# net test_weights\n",
    "# Test the network's current weights on the test set. The network's layers are copied\n",
    "#      and restored to their previous state after testing.\n",
    "# n_test : The number of test examples to use.\n",
    "\n",
    "function test_weights(net::Network, n_test, x_test, t_test, l_f_phase, l_f_phase_test)\n",
    "    # save old length of forward phase\n",
    "    old_l_f_phase = l_f_phase\n",
    "\n",
    "    # set new length of forward phase\n",
    "    l_f_phase = l_f_phase_test\n",
    "\n",
    "    # initialize count of correct classifications\n",
    "    num_correct = 0\n",
    "\n",
    "    # shuffle testing data\n",
    "    order = randperm(size(x_test)[2]) #randperm(10000)\n",
    "    x_test = x_test[:,order] \n",
    "    t_test = t_test[:,order]\n",
    "    \n",
    "    for i in 1:n_test\n",
    "        # clear all layer variables\n",
    "        clear_vars(net)\n",
    "\n",
    "        # get testing example data\n",
    "        x = lambda_max*x_test[:, i]\n",
    "        t = t_test[:, i]\n",
    "\n",
    "        # do a forward phase & get the unit with maximum average somatic potential\n",
    "        net(x) # net f_phase\n",
    "        sel_num = argmax(net.finalLayer.C_f)[1]\n",
    "\n",
    "        # get the target number from testing example data\n",
    "        target_num = argmax(t)\n",
    "\n",
    "        # increment correct classification counter if they match\n",
    "        if sel_num == target_num\n",
    "            num_correct += 1\n",
    "        end\n",
    "    end\n",
    "    \n",
    "    # calculate percent error\n",
    "    err_rate = (1.0 - num_correct/n_test)*100.0\n",
    "\n",
    "    l_f_phase = old_l_f_phase\n",
    "\n",
    "    clear_vars(net)\n",
    "    \n",
    "    return err_rate\n",
    "end"
   ]
  },
  {
   "cell_type": "markdown",
   "metadata": {},
   "source": [
    "## Training"
   ]
  },
  {
   "cell_type": "code",
   "execution_count": 31,
   "metadata": {},
   "outputs": [
    {
     "data": {
      "text/plain": [
       "load_MNIST (generic function with 1 method)"
      ]
     },
     "execution_count": 31,
     "metadata": {},
     "output_type": "execute_result"
    }
   ],
   "source": [
    "function load_MNIST()\n",
    "    x_train = MNIST.convert2features(MNIST.traintensor(Float64))\n",
    "    t_train = MNIST.trainlabels()\n",
    "    t_train = onehotbatch(t_train, [0, 1, 2, 3, 4, 5, 6, 7, 8, 9])    \n",
    "    x_test = MNIST.convert2features(MNIST.testtensor(Float64))\n",
    "    t_test = MNIST.testlabels()\n",
    "    t_test = onehotbatch(t_test, [0, 1, 2, 3, 4, 5, 6, 7, 8, 9]) \n",
    "    return x_train, t_train, x_test, t_test\n",
    "end"
   ]
  },
  {
   "cell_type": "code",
   "execution_count": 32,
   "metadata": {},
   "outputs": [
    {
     "data": {
      "text/plain": [
       "train (generic function with 3 methods)"
      ]
     },
     "execution_count": 32,
     "metadata": {},
     "output_type": "execute_result"
    }
   ],
   "source": [
    "# net train\n",
    "function train(net::Network, n_epochs = 10, n_training_examples = 60000)\n",
    "    \n",
    "    x_train, t_train, x_test, t_test = load_MNIST()\n",
    "    \n",
    "    current_epoch = 1\n",
    "    \n",
    "    # don't do an initial weight test\n",
    "    println(\"Start of epoch $(current_epoch)\")\n",
    "    \n",
    "    # start time used for timing how long each 1000 examples take\n",
    "    start_time = nothing\n",
    "    \n",
    "    #record_training_error\n",
    "    num_correct = 0\n",
    "    \n",
    "    for k in 1:n_epochs\n",
    "        # shuffle the training data\n",
    "        order = randperm(size(x_train)[2]) #randperm(60000)\n",
    "        x_train = x_train[:,order] \n",
    "        t_train = t_train[:,order]\n",
    "                  \n",
    "        for i in 1:n_training_examples   # n become i here\n",
    "            # set start time\n",
    "            if start_time == nothing\n",
    "                start_time = time()\n",
    "            end\n",
    "            \n",
    "            # get training example data\n",
    "            x = lambda_max*x_train[:,i]\n",
    "            t = t_train[:,i]\n",
    "            \n",
    "            # do forward phase\n",
    "            net(x) # net f_phase\n",
    "            \n",
    "            sel_num = argmax(net.finalLayer.C_f)[1] #axis=-1\n",
    "\n",
    "            # get the target number from testing example data\n",
    "            target_num = argmax(t)\n",
    "\n",
    "            # increment correct classification counter if they match\n",
    "            if sel_num == target_num\n",
    "                num_correct += 1\n",
    "            end\n",
    "            \n",
    "            # do target phase\n",
    "            net(x, t) # net t_phase\n",
    "            \n",
    "            if i % 1000 == 0\n",
    "                if i != n_training_examples\n",
    "                    # we're partway through an epoch; do a quick weight test\n",
    "                    test_err = test_weights(net, n_quick_test, x_test, t_test, l_f_phase, l_f_phase_test)\n",
    "                    @printf(\"Epoch %d, example %d/%d. QE: %g \", current_epoch, i, n_training_examples, test_err)\n",
    "                else\n",
    "                    # we've reached the end of an epoch; do a full weight test\n",
    "                    test_err = test_weights(net, n_full_test, x_test, t_test, l_f_phase, l_f_phase_test)\n",
    "                    @printf(\"FE: %g \", test_err)\n",
    "                    \n",
    "                    # calculate percent training error for this epoch\n",
    "                    err_rate = (1.0 - num_correct/n_training_examples)*100.0\n",
    "                    @printf(\"TE: %g \", err_rate)\n",
    "\n",
    "                    num_correct = 0\n",
    "                end\n",
    "                # get end time & reset start time\n",
    "                end_time = time()\n",
    "                time_elapsed = end_time - start_time\n",
    "                @printf(\"T: %g\\n\", time_elapsed)\n",
    "                start_time = nothing\n",
    "            end\n",
    "        end\n",
    "        # update latest epoch counter\n",
    "        current_epoch += 1\n",
    "    end\n",
    "end"
   ]
  },
  {
   "cell_type": "code",
   "execution_count": 33,
   "metadata": {},
   "outputs": [
    {
     "name": "stdout",
     "output_type": "stream",
     "text": [
      "Start of epoch 1\n",
      "Epoch 1, example 1000/60000. QE: 43 T: 8.09017\n",
      "Epoch 1, example 2000/60000. QE: 26 T: 2.93339\n",
      "Epoch 1, example 3000/60000. QE: 26 T: 2.94019\n",
      "Epoch 1, example 4000/60000. QE: 9 T: 2.98339\n",
      "Epoch 1, example 5000/60000. QE: 15 T: 2.95337\n",
      "Epoch 1, example 6000/60000. QE: 11 T: 2.97685\n",
      "Epoch 1, example 7000/60000. QE: 12 T: 2.94982\n",
      "Epoch 1, example 8000/60000. QE: 8 T: 2.95944\n",
      "Epoch 1, example 9000/60000. QE: 10 T: 2.94299\n",
      "Epoch 1, example 10000/60000. QE: 22 T: 2.93902\n",
      "Epoch 1, example 11000/60000. QE: 15 T: 2.97003\n",
      "Epoch 1, example 12000/60000. QE: 10 T: 2.93835\n",
      "Epoch 1, example 13000/60000. QE: 10 T: 2.95084\n",
      "Epoch 1, example 14000/60000. QE: 14 T: 2.97163\n",
      "Epoch 1, example 15000/60000. QE: 9 T: 2.9543\n",
      "Epoch 1, example 16000/60000. QE: 8 T: 2.97375\n",
      "Epoch 1, example 17000/60000. QE: 12 T: 2.92212\n",
      "Epoch 1, example 18000/60000. QE: 7 T: 2.95167\n",
      "Epoch 1, example 19000/60000. QE: 9 T: 2.92571\n",
      "Epoch 1, example 20000/60000. QE: 10 T: 2.92601\n",
      "Epoch 1, example 21000/60000. QE: 12 T: 2.97221\n",
      "Epoch 1, example 22000/60000. QE: 6 T: 2.91402\n",
      "Epoch 1, example 23000/60000. QE: 6 T: 3.0046\n",
      "Epoch 1, example 24000/60000. QE: 8 T: 2.96119\n",
      "Epoch 1, example 25000/60000. QE: 6 T: 2.95791\n",
      "Epoch 1, example 26000/60000. QE: 10 T: 2.92886\n",
      "Epoch 1, example 27000/60000. QE: 9 T: 2.94627\n",
      "Epoch 1, example 28000/60000. QE: 8 T: 2.96202\n",
      "Epoch 1, example 29000/60000. QE: 8 T: 2.9322\n",
      "Epoch 1, example 30000/60000. QE: 4 T: 2.94755\n",
      "Epoch 1, example 31000/60000. QE: 13 T: 2.96267\n",
      "Epoch 1, example 32000/60000. QE: 6 T: 2.94268\n",
      "Epoch 1, example 33000/60000. QE: 13 T: 2.93593\n",
      "Epoch 1, example 34000/60000. QE: 7 T: 2.91696\n",
      "Epoch 1, example 35000/60000. QE: 4 T: 2.95699\n",
      "Epoch 1, example 36000/60000. QE: 5 T: 2.94634\n",
      "Epoch 1, example 37000/60000. QE: 7 T: 2.94081\n",
      "Epoch 1, example 38000/60000. QE: 5 T: 2.94893\n",
      "Epoch 1, example 39000/60000. QE: 3 T: 2.93264\n",
      "Epoch 1, example 40000/60000. QE: 12 T: 2.92966\n",
      "Epoch 1, example 41000/60000. QE: 6 T: 2.96094\n",
      "Epoch 1, example 42000/60000. QE: 7 T: 2.9212\n",
      "Epoch 1, example 43000/60000. QE: 10 T: 2.94169\n",
      "Epoch 1, example 44000/60000. QE: 5 T: 2.93883\n",
      "Epoch 1, example 45000/60000. QE: 7 T: 2.98461\n",
      "Epoch 1, example 46000/60000. QE: 8 T: 2.92573\n",
      "Epoch 1, example 47000/60000. QE: 10 T: 2.9436\n",
      "Epoch 1, example 48000/60000. QE: 12 T: 2.97356\n",
      "Epoch 1, example 49000/60000. QE: 6 T: 2.92114\n",
      "Epoch 1, example 50000/60000. QE: 10 T: 2.91901\n",
      "Epoch 1, example 51000/60000. QE: 4 T: 2.92737\n",
      "Epoch 1, example 52000/60000. QE: 3 T: 2.96814\n",
      "Epoch 1, example 53000/60000. QE: 8 T: 2.90756\n",
      "Epoch 1, example 54000/60000. QE: 8 T: 2.90991\n",
      "Epoch 1, example 55000/60000. QE: 6 T: 2.97049\n",
      "Epoch 1, example 56000/60000. QE: 10 T: 2.92994\n",
      "Epoch 1, example 57000/60000. QE: 7 T: 2.92816\n",
      "Epoch 1, example 58000/60000. QE: 5 T: 2.93433\n",
      "Epoch 1, example 59000/60000. QE: 4 T: 2.9505\n",
      "FE: 5.94 TE: 11.0167 T: 8.54866\n",
      "Epoch 2, example 1000/60000. QE: 3 T: 2.57627\n",
      "Epoch 2, example 2000/60000. QE: 5 T: 2.53358\n",
      "Epoch 2, example 3000/60000. QE: 10 T: 2.49891\n",
      "Epoch 2, example 4000/60000. QE: 3 T: 2.55295\n",
      "Epoch 2, example 5000/60000. QE: 6 T: 2.47809\n",
      "Epoch 2, example 6000/60000. QE: 6 T: 2.51799\n",
      "Epoch 2, example 7000/60000. QE: 5 T: 2.51315\n",
      "Epoch 2, example 8000/60000. QE: 10 T: 2.50668\n",
      "Epoch 2, example 9000/60000. QE: 7 T: 2.48489\n",
      "Epoch 2, example 10000/60000. QE: 9 T: 2.56812\n",
      "Epoch 2, example 11000/60000. QE: 6 T: 2.46323\n",
      "Epoch 2, example 12000/60000. QE: 0 T: 2.56692\n",
      "Epoch 2, example 13000/60000. QE: 3 T: 2.4815\n",
      "Epoch 2, example 14000/60000. QE: 4 T: 2.52894\n",
      "Epoch 2, example 15000/60000. QE: 5 T: 2.47902\n",
      "Epoch 2, example 16000/60000. QE: 3 T: 2.54301\n",
      "Epoch 2, example 17000/60000. QE: 4 T: 2.45478\n",
      "Epoch 2, example 18000/60000. QE: 7 T: 2.51484\n",
      "Epoch 2, example 19000/60000. QE: 5 T: 2.51008\n",
      "Epoch 2, example 20000/60000. QE: 7 T: 2.50572\n",
      "Epoch 2, example 21000/60000. QE: 3 T: 2.48638\n",
      "Epoch 2, example 22000/60000. QE: 8 T: 2.50788\n",
      "Epoch 2, example 23000/60000. QE: 4 T: 2.46975\n",
      "Epoch 2, example 24000/60000. QE: 5 T: 2.52393\n",
      "Epoch 2, example 25000/60000. QE: 4 T: 2.52043\n",
      "Epoch 2, example 26000/60000. QE: 7 T: 2.49218\n",
      "Epoch 2, example 27000/60000. QE: 5 T: 2.50067\n",
      "Epoch 2, example 28000/60000. QE: 3 T: 2.55002\n",
      "Epoch 2, example 29000/60000. QE: 8 T: 2.46775\n",
      "Epoch 2, example 30000/60000. QE: 6 T: 2.50777\n",
      "Epoch 2, example 31000/60000. QE: 5 T: 2.51416\n",
      "Epoch 2, example 32000/60000. QE: 5 T: 2.52149\n",
      "Epoch 2, example 33000/60000. QE: 5 T: 2.52017\n",
      "Epoch 2, example 34000/60000. QE: 2 T: 2.50528\n",
      "Epoch 2, example 35000/60000. QE: 4 T: 2.53117\n",
      "Epoch 2, example 36000/60000. QE: 3 T: 2.49489\n",
      "Epoch 2, example 37000/60000. QE: 9 T: 2.49598\n",
      "Epoch 2, example 38000/60000. QE: 6 T: 2.52767\n",
      "Epoch 2, example 39000/60000. QE: 6 T: 2.48475\n",
      "Epoch 2, example 40000/60000. QE: 4 T: 2.56966\n",
      "Epoch 2, example 41000/60000. QE: 5 T: 2.45899\n",
      "Epoch 2, example 42000/60000. QE: 2 T: 2.5158\n",
      "Epoch 2, example 43000/60000. QE: 4 T: 2.53613\n",
      "Epoch 2, example 44000/60000. QE: 3 T: 2.50926\n",
      "Epoch 2, example 45000/60000. QE: 5 T: 2.50926\n",
      "Epoch 2, example 46000/60000. QE: 4 T: 2.47691\n",
      "Epoch 2, example 47000/60000. QE: 3 T: 2.50212\n",
      "Epoch 2, example 48000/60000. QE: 3 T: 2.54989\n",
      "Epoch 2, example 49000/60000. QE: 3 T: 2.47711\n",
      "Epoch 2, example 50000/60000. QE: 5 T: 2.53953\n",
      "Epoch 2, example 51000/60000. QE: 5 T: 2.46035\n",
      "Epoch 2, example 52000/60000. QE: 6 T: 2.53623\n",
      "Epoch 2, example 53000/60000. QE: 3 T: 2.50994\n",
      "Epoch 2, example 54000/60000. QE: 5 T: 2.48815\n",
      "Epoch 2, example 55000/60000. QE: 4 T: 2.53342\n",
      "Epoch 2, example 56000/60000. QE: 7 T: 2.49705\n",
      "Epoch 2, example 57000/60000. QE: 4 T: 2.49169\n",
      "Epoch 2, example 58000/60000. QE: 4 T: 2.50625\n",
      "Epoch 2, example 59000/60000. QE: 5 T: 2.44813\n",
      "FE: 4.7 TE: 5.49667 T: 8.00918\n",
      "Epoch 3, example 1000/60000. QE: 4 T: 3.61215\n",
      "Epoch 3, example 2000/60000. QE: 2 T: 2.8948\n",
      "Epoch 3, example 3000/60000. QE: 7 T: 2.88829\n",
      "Epoch 3, example 4000/60000. QE: 3 T: 2.92328\n",
      "Epoch 3, example 5000/60000. QE: 3 T: 2.88437\n",
      "Epoch 3, example 6000/60000. QE: 6 T: 2.8948\n",
      "Epoch 3, example 7000/60000. QE: 4 T: 2.91019\n",
      "Epoch 3, example 8000/60000. QE: 5 T: 2.9601\n",
      "Epoch 3, example 9000/60000. QE: 12 T: 2.92705\n",
      "Epoch 3, example 10000/60000. QE: 4 T: 2.93092\n",
      "Epoch 3, example 11000/60000. QE: 6 T: 2.94346\n",
      "Epoch 3, example 12000/60000. QE: 4 T: 2.9062\n",
      "Epoch 3, example 13000/60000. QE: 4 T: 2.92016\n",
      "Epoch 3, example 14000/60000. QE: 1 T: 2.92336\n",
      "Epoch 3, example 15000/60000. QE: 4 T: 2.97449\n",
      "Epoch 3, example 16000/60000. QE: 1 T: 2.94353\n",
      "Epoch 3, example 17000/60000. QE: 2 T: 2.91296\n",
      "Epoch 3, example 18000/60000. QE: 4 T: 2.94925\n",
      "Epoch 3, example 19000/60000. QE: 3 T: 2.92654\n",
      "Epoch 3, example 20000/60000. QE: 3 T: 2.90955\n",
      "Epoch 3, example 21000/60000. QE: 5 T: 2.89687\n",
      "Epoch 3, example 22000/60000. QE: 6 T: 2.951\n",
      "Epoch 3, example 23000/60000. QE: 8 T: 2.91454\n",
      "Epoch 3, example 24000/60000. QE: 5 T: 2.90834\n",
      "Epoch 3, example 25000/60000. QE: 1 T: 2.95428\n",
      "Epoch 3, example 26000/60000. QE: 8 T: 2.9422\n",
      "Epoch 3, example 27000/60000. QE: 5 T: 2.92857\n",
      "Epoch 3, example 28000/60000. QE: 3 T: 2.95685\n",
      "Epoch 3, example 29000/60000. QE: 5 T: 2.90815\n",
      "Epoch 3, example 30000/60000. QE: 10 T: 2.92345\n",
      "Epoch 3, example 31000/60000. QE: 6 T: 2.90283\n",
      "Epoch 3, example 32000/60000. QE: 2 T: 2.93205\n",
      "Epoch 3, example 33000/60000. QE: 4 T: 2.90484\n",
      "Epoch 3, example 34000/60000. QE: 1 T: 2.90781\n",
      "Epoch 3, example 35000/60000. QE: 6 T: 2.94447\n",
      "Epoch 3, example 36000/60000. QE: 5 T: 2.93976\n",
      "Epoch 3, example 37000/60000. QE: 4 T: 2.92432\n",
      "Epoch 3, example 38000/60000. QE: 4 T: 2.92533\n",
      "Epoch 3, example 39000/60000. QE: 3 T: 2.981\n",
      "Epoch 3, example 40000/60000. QE: 6 T: 2.93455\n",
      "Epoch 3, example 41000/60000. QE: 2 T: 2.988\n",
      "Epoch 3, example 42000/60000. QE: 4 T: 2.95135\n",
      "Epoch 3, example 43000/60000. QE: 4 T: 2.91703\n",
      "Epoch 3, example 44000/60000. QE: 2 T: 2.94412\n",
      "Epoch 3, example 45000/60000. QE: 6 T: 2.93103\n",
      "Epoch 3, example 46000/60000. QE: 3 T: 2.9162\n",
      "Epoch 3, example 47000/60000. QE: 8 T: 2.91213\n",
      "Epoch 3, example 48000/60000. QE: 5 T: 2.9318\n",
      "Epoch 3, example 49000/60000. QE: 1 T: 2.94133\n",
      "Epoch 3, example 50000/60000. QE: 4 T: 2.91306\n",
      "Epoch 3, example 51000/60000. QE: 5 T: 2.93027\n",
      "Epoch 3, example 52000/60000. QE: 5 T: 2.93541\n",
      "Epoch 3, example 53000/60000. QE: 4 T: 2.91634\n",
      "Epoch 3, example 54000/60000. QE: 4 T: 2.93395\n",
      "Epoch 3, example 55000/60000. QE: 7 T: 2.92019\n",
      "Epoch 3, example 56000/60000. QE: 6 T: 2.96608\n"
     ]
    },
    {
     "name": "stdout",
     "output_type": "stream",
     "text": [
      "Epoch 3, example 57000/60000. QE: 5 T: 2.92443\n",
      "Epoch 3, example 58000/60000. QE: 2 T: 2.92144\n",
      "Epoch 3, example 59000/60000. QE: 7 T: 2.94228\n",
      "FE: 3.69 TE: 4.12333 T: 8.58565\n",
      "Epoch 4, example 1000/60000. QE: 4 T: 2.57894\n",
      "Epoch 4, example 2000/60000. QE: 2 T: 2.51224\n",
      "Epoch 4, example 3000/60000. QE: 6 T: 2.56899\n",
      "Epoch 4, example 4000/60000. QE: 5 T: 2.52994\n",
      "Epoch 4, example 5000/60000. QE: 7 T: 2.55679\n",
      "Epoch 4, example 6000/60000. QE: 8 T: 2.52152\n",
      "Epoch 4, example 7000/60000. QE: 3 T: 2.55929\n",
      "Epoch 4, example 8000/60000. QE: 2 T: 2.53883\n",
      "Epoch 4, example 9000/60000. QE: 3 T: 2.5618\n",
      "Epoch 4, example 10000/60000. QE: 5 T: 2.52461\n",
      "Epoch 4, example 11000/60000. QE: 8 T: 2.56923\n",
      "Epoch 4, example 12000/60000. QE: 4 T: 2.54778\n",
      "Epoch 4, example 13000/60000. QE: 5 T: 2.56031\n",
      "Epoch 4, example 14000/60000. QE: 3 T: 2.51235\n",
      "Epoch 4, example 15000/60000. QE: 6 T: 2.5495\n",
      "Epoch 4, example 16000/60000. QE: 4 T: 2.52759\n",
      "Epoch 4, example 17000/60000. QE: 2 T: 2.57243\n",
      "Epoch 4, example 18000/60000. QE: 3 T: 2.51404\n",
      "Epoch 4, example 19000/60000. QE: 6 T: 2.54761\n",
      "Epoch 4, example 20000/60000. QE: 6 T: 2.52473\n",
      "Epoch 4, example 21000/60000. QE: 2 T: 2.53258\n",
      "Epoch 4, example 22000/60000. QE: 7 T: 2.51527\n",
      "Epoch 4, example 23000/60000. QE: 4 T: 2.55248\n",
      "Epoch 4, example 24000/60000. QE: 3 T: 2.53274\n",
      "Epoch 4, example 25000/60000. QE: 5 T: 2.58619\n",
      "Epoch 4, example 26000/60000. QE: 5 T: 2.53393\n",
      "Epoch 4, example 27000/60000. QE: 4 T: 2.57376\n",
      "Epoch 4, example 28000/60000. QE: 3 T: 2.5558\n",
      "Epoch 4, example 29000/60000. QE: 6 T: 2.55885\n",
      "Epoch 4, example 30000/60000. QE: 2 T: 2.52865\n",
      "Epoch 4, example 31000/60000. QE: 2 T: 2.59804\n",
      "Epoch 4, example 32000/60000. QE: 2 T: 2.52987\n",
      "Epoch 4, example 33000/60000. QE: 5 T: 2.57841\n",
      "Epoch 4, example 34000/60000. QE: 4 T: 2.52988\n",
      "Epoch 4, example 35000/60000. QE: 4 T: 2.56679\n",
      "Epoch 4, example 36000/60000. QE: 4 T: 2.53732\n",
      "Epoch 4, example 37000/60000. QE: 3 T: 2.55666\n",
      "Epoch 4, example 38000/60000. QE: 4 T: 2.52396\n",
      "Epoch 4, example 39000/60000. QE: 4 T: 2.5562\n",
      "Epoch 4, example 40000/60000. QE: 2 T: 2.52899\n",
      "Epoch 4, example 41000/60000. QE: 3 T: 2.55009\n",
      "Epoch 4, example 42000/60000. QE: 5 T: 2.51092\n",
      "Epoch 4, example 43000/60000. QE: 7 T: 2.5649\n",
      "Epoch 4, example 44000/60000. QE: 2 T: 2.55249\n",
      "Epoch 4, example 45000/60000. QE: 4 T: 2.55356\n",
      "Epoch 4, example 46000/60000. QE: 4 T: 2.5313\n",
      "Epoch 4, example 47000/60000. QE: 2 T: 2.55503\n",
      "Epoch 4, example 48000/60000. QE: 3 T: 2.54469\n",
      "Epoch 4, example 49000/60000. QE: 7 T: 2.58527\n",
      "Epoch 4, example 50000/60000. QE: 5 T: 2.5147\n",
      "Epoch 4, example 51000/60000. QE: 6 T: 2.55418\n",
      "Epoch 4, example 52000/60000. QE: 3 T: 2.55769\n",
      "Epoch 4, example 53000/60000. QE: 2 T: 2.55476\n",
      "Epoch 4, example 54000/60000. QE: 5 T: 2.5353\n",
      "Epoch 4, example 55000/60000. QE: 3 T: 2.58396\n",
      "Epoch 4, example 56000/60000. QE: 8 T: 2.50621\n",
      "Epoch 4, example 57000/60000. QE: 3 T: 2.57544\n",
      "Epoch 4, example 58000/60000. QE: 0 T: 2.51389\n",
      "Epoch 4, example 59000/60000. QE: 3 T: 2.57528\n",
      "FE: 3.29 TE: 3.495 T: 8.17156\n",
      "Epoch 5, example 1000/60000. QE: 5 T: 3.48718\n",
      "Epoch 5, example 2000/60000. QE: 4 T: 2.89979\n",
      "Epoch 5, example 3000/60000. QE: 6 T: 2.87404\n",
      "Epoch 5, example 4000/60000. QE: 1 T: 2.94824\n",
      "Epoch 5, example 5000/60000. QE: 2 T: 2.92681\n",
      "Epoch 5, example 6000/60000. QE: 1 T: 2.92936\n",
      "Epoch 5, example 7000/60000. QE: 4 T: 2.91796\n",
      "Epoch 5, example 8000/60000. QE: 3 T: 2.95105\n",
      "Epoch 5, example 9000/60000. QE: 5 T: 2.9225\n",
      "Epoch 5, example 10000/60000. QE: 3 T: 2.98444\n",
      "Epoch 5, example 11000/60000. QE: 1 T: 2.92001\n",
      "Epoch 5, example 12000/60000. QE: 4 T: 2.89\n",
      "Epoch 5, example 13000/60000. QE: 2 T: 2.9012\n",
      "Epoch 5, example 14000/60000. QE: 3 T: 2.91705\n",
      "Epoch 5, example 15000/60000. QE: 9 T: 2.91681\n",
      "Epoch 5, example 16000/60000. QE: 4 T: 2.91114\n",
      "Epoch 5, example 17000/60000. QE: 5 T: 2.91109\n",
      "Epoch 5, example 18000/60000. QE: 1 T: 2.93909\n",
      "Epoch 5, example 19000/60000. QE: 2 T: 2.9354\n",
      "Epoch 5, example 20000/60000. QE: 6 T: 2.93695\n",
      "Epoch 5, example 21000/60000. QE: 5 T: 2.92159\n",
      "Epoch 5, example 22000/60000. QE: 5 T: 2.93702\n",
      "Epoch 5, example 23000/60000. QE: 3 T: 2.90414\n",
      "Epoch 5, example 24000/60000. QE: 1 T: 2.89394\n",
      "Epoch 5, example 25000/60000. QE: 4 T: 2.9369\n",
      "Epoch 5, example 26000/60000. QE: 3 T: 2.92834\n",
      "Epoch 5, example 27000/60000. QE: 3 T: 2.9196\n",
      "Epoch 5, example 28000/60000. QE: 3 T: 2.94107\n",
      "Epoch 5, example 29000/60000. QE: 6 T: 2.89254\n",
      "Epoch 5, example 30000/60000. QE: 1 T: 2.92314\n",
      "Epoch 5, example 31000/60000. QE: 2 T: 2.89511\n",
      "Epoch 5, example 32000/60000. QE: 3 T: 2.92982\n",
      "Epoch 5, example 33000/60000. QE: 3 T: 2.90506\n",
      "Epoch 5, example 34000/60000. QE: 5 T: 2.88744\n",
      "Epoch 5, example 35000/60000. QE: 6 T: 2.92582\n",
      "Epoch 5, example 36000/60000. QE: 3 T: 2.92815\n",
      "Epoch 5, example 37000/60000. QE: 0 T: 2.91595\n",
      "Epoch 5, example 38000/60000. QE: 4 T: 2.92414\n",
      "Epoch 5, example 39000/60000. QE: 2 T: 2.90832\n",
      "Epoch 5, example 40000/60000. QE: 2 T: 2.93514\n",
      "Epoch 5, example 41000/60000. QE: 3 T: 2.91838\n",
      "Epoch 5, example 42000/60000. QE: 3 T: 2.93527\n",
      "Epoch 5, example 43000/60000. QE: 2 T: 2.92589\n",
      "Epoch 5, example 44000/60000. QE: 6 T: 2.9423\n",
      "Epoch 5, example 45000/60000. QE: 2 T: 2.92543\n",
      "Epoch 5, example 46000/60000. QE: 3 T: 2.94447\n",
      "Epoch 5, example 47000/60000. QE: 3 T: 2.9018\n",
      "Epoch 5, example 48000/60000. QE: 2 T: 2.9387\n",
      "Epoch 5, example 49000/60000. QE: 3 T: 2.96082\n",
      "Epoch 5, example 50000/60000. QE: 2 T: 2.94137\n",
      "Epoch 5, example 51000/60000. QE: 3 T: 2.93426\n",
      "Epoch 5, example 52000/60000. QE: 3 T: 2.95377\n",
      "Epoch 5, example 53000/60000. QE: 5 T: 2.90244\n",
      "Epoch 5, example 54000/60000. QE: 3 T: 2.91863\n",
      "Epoch 5, example 55000/60000. QE: 3 T: 2.91334\n",
      "Epoch 5, example 56000/60000. QE: 6 T: 2.96544\n",
      "Epoch 5, example 57000/60000. QE: 3 T: 2.93344\n",
      "Epoch 5, example 58000/60000. QE: 2 T: 2.90299\n",
      "Epoch 5, example 59000/60000. QE: 3 T: 2.94723\n",
      "FE: 2.89 TE: 2.83833 T: 8.53651\n",
      "Epoch 6, example 1000/60000. QE: 2 T: 2.53438\n",
      "Epoch 6, example 2000/60000. QE: 3 T: 2.49758\n",
      "Epoch 6, example 3000/60000. QE: 2 T: 2.54255\n",
      "Epoch 6, example 4000/60000. QE: 4 T: 2.51249\n",
      "Epoch 6, example 5000/60000. QE: 8 T: 2.53605\n",
      "Epoch 6, example 6000/60000. QE: 1 T: 2.48481\n",
      "Epoch 6, example 7000/60000. QE: 5 T: 2.54404\n",
      "Epoch 6, example 8000/60000. QE: 6 T: 2.50855\n",
      "Epoch 6, example 9000/60000. QE: 1 T: 2.53722\n",
      "Epoch 6, example 10000/60000. QE: 4 T: 2.54038\n",
      "Epoch 6, example 11000/60000. QE: 4 T: 2.56684\n",
      "Epoch 6, example 12000/60000. QE: 1 T: 2.53946\n",
      "Epoch 6, example 13000/60000. QE: 0 T: 2.5678\n",
      "Epoch 6, example 14000/60000. QE: 3 T: 2.52238\n",
      "Epoch 6, example 15000/60000. QE: 1 T: 2.57287\n",
      "Epoch 6, example 16000/60000. QE: 4 T: 2.54455\n",
      "Epoch 6, example 17000/60000. QE: 2 T: 2.5613\n",
      "Epoch 6, example 18000/60000. QE: 2 T: 2.51752\n",
      "Epoch 6, example 19000/60000. QE: 2 T: 2.5583\n",
      "Epoch 6, example 20000/60000. QE: 5 T: 2.5328\n",
      "Epoch 6, example 21000/60000. QE: 3 T: 2.56976\n",
      "Epoch 6, example 22000/60000. QE: 5 T: 2.51427\n",
      "Epoch 6, example 23000/60000. QE: 4 T: 2.55463\n",
      "Epoch 6, example 24000/60000. QE: 7 T: 2.53131\n",
      "Epoch 6, example 25000/60000. QE: 3 T: 2.55846\n",
      "Epoch 6, example 26000/60000. QE: 5 T: 2.51132\n",
      "Epoch 6, example 27000/60000. QE: 7 T: 2.59502\n",
      "Epoch 6, example 28000/60000. QE: 1 T: 2.52864\n",
      "Epoch 6, example 29000/60000. QE: 2 T: 2.56565\n",
      "Epoch 6, example 30000/60000. QE: 4 T: 2.55013\n",
      "Epoch 6, example 31000/60000. QE: 2 T: 2.56002\n",
      "Epoch 6, example 32000/60000. QE: 4 T: 2.55003\n",
      "Epoch 6, example 33000/60000. QE: 1 T: 2.58665\n",
      "Epoch 6, example 34000/60000. QE: 3 T: 2.52931\n",
      "Epoch 6, example 35000/60000. QE: 5 T: 2.56755\n",
      "Epoch 6, example 36000/60000. QE: 3 T: 2.55284\n",
      "Epoch 6, example 37000/60000. QE: 5 T: 2.54877\n",
      "Epoch 6, example 38000/60000. QE: 0 T: 2.52413\n",
      "Epoch 6, example 39000/60000. QE: 2 T: 2.57536\n",
      "Epoch 6, example 40000/60000. QE: 1 T: 2.60449\n",
      "Epoch 6, example 41000/60000. QE: 1 T: 2.56196\n",
      "Epoch 6, example 42000/60000. QE: 2 T: 2.5261\n",
      "Epoch 6, example 43000/60000. QE: 2 T: 2.56047\n",
      "Epoch 6, example 44000/60000. QE: 4 T: 2.54978\n",
      "Epoch 6, example 45000/60000. QE: 4 T: 2.57759\n",
      "Epoch 6, example 46000/60000. QE: 2 T: 2.52256\n",
      "Epoch 6, example 47000/60000. QE: 4 T: 2.56623\n",
      "Epoch 6, example 48000/60000. QE: 5 T: 2.52401\n",
      "Epoch 6, example 49000/60000. QE: 3 T: 2.55272\n",
      "Epoch 6, example 50000/60000. QE: 0 T: 2.5357\n",
      "Epoch 6, example 51000/60000. QE: 3 T: 2.60181\n",
      "Epoch 6, example 52000/60000. QE: 7 T: 2.51532\n",
      "Epoch 6, example 53000/60000. QE: 1 T: 2.6073\n"
     ]
    },
    {
     "name": "stdout",
     "output_type": "stream",
     "text": [
      "Epoch 6, example 54000/60000. QE: 3 T: 2.52439\n",
      "Epoch 6, example 55000/60000. QE: 2 T: 2.58602\n",
      "Epoch 6, example 56000/60000. QE: 3 T: 2.52032\n",
      "Epoch 6, example 57000/60000. QE: 3 T: 2.55154\n",
      "Epoch 6, example 58000/60000. QE: 2 T: 2.51262\n",
      "Epoch 6, example 59000/60000. QE: 4 T: 2.61122\n",
      "FE: 2.97 TE: 2.515 T: 8.14235\n",
      "Epoch 7, example 1000/60000. QE: 3 T: 3.48975\n",
      "Epoch 7, example 2000/60000. QE: 1 T: 2.89431\n",
      "Epoch 7, example 3000/60000. QE: 2 T: 2.86534\n",
      "Epoch 7, example 4000/60000. QE: 4 T: 2.93008\n",
      "Epoch 7, example 5000/60000. QE: 2 T: 2.88782\n",
      "Epoch 7, example 6000/60000. QE: 7 T: 2.9206\n",
      "Epoch 7, example 7000/60000. QE: 5 T: 2.9144\n",
      "Epoch 7, example 8000/60000. QE: 2 T: 2.94217\n",
      "Epoch 7, example 9000/60000. QE: 4 T: 2.92941\n",
      "Epoch 7, example 10000/60000. QE: 0 T: 2.91838\n",
      "Epoch 7, example 11000/60000. QE: 1 T: 2.94863\n",
      "Epoch 7, example 12000/60000. QE: 2 T: 2.93193\n",
      "Epoch 7, example 13000/60000. QE: 3 T: 2.90002\n",
      "Epoch 7, example 14000/60000. QE: 3 T: 2.91985\n",
      "Epoch 7, example 15000/60000. QE: 0 T: 2.90233\n",
      "Epoch 7, example 16000/60000. QE: 4 T: 2.93513\n",
      "Epoch 7, example 17000/60000. QE: 2 T: 2.90912\n",
      "Epoch 7, example 18000/60000. QE: 3 T: 2.95046\n",
      "Epoch 7, example 19000/60000. QE: 3 T: 2.91926\n",
      "Epoch 7, example 20000/60000. QE: 6 T: 2.94154\n",
      "Epoch 7, example 21000/60000. QE: 3 T: 2.94202\n",
      "Epoch 7, example 22000/60000. QE: 1 T: 2.92893\n",
      "Epoch 7, example 23000/60000. QE: 3 T: 2.91019\n",
      "Epoch 7, example 24000/60000. QE: 5 T: 2.91542\n",
      "Epoch 7, example 25000/60000. QE: 4 T: 2.95255\n",
      "Epoch 7, example 26000/60000. QE: 2 T: 2.94947\n",
      "Epoch 7, example 27000/60000. QE: 5 T: 2.93732\n",
      "Epoch 7, example 28000/60000. QE: 3 T: 2.9706\n",
      "Epoch 7, example 29000/60000. QE: 4 T: 2.91636\n",
      "Epoch 7, example 30000/60000. QE: 3 T: 2.94569\n",
      "Epoch 7, example 31000/60000. QE: 4 T: 2.94849\n",
      "Epoch 7, example 32000/60000. QE: 3 T: 2.93581\n",
      "Epoch 7, example 33000/60000. QE: 4 T: 2.92587\n",
      "Epoch 7, example 34000/60000. QE: 2 T: 2.90588\n",
      "Epoch 7, example 35000/60000. QE: 3 T: 2.94473\n",
      "Epoch 7, example 36000/60000. QE: 5 T: 2.91374\n",
      "Epoch 7, example 37000/60000. QE: 1 T: 2.92655\n",
      "Epoch 7, example 38000/60000. QE: 3 T: 2.95453\n",
      "Epoch 7, example 39000/60000. QE: 3 T: 2.92448\n",
      "Epoch 7, example 40000/60000. QE: 3 T: 2.93516\n",
      "Epoch 7, example 41000/60000. QE: 3 T: 2.9123\n",
      "Epoch 7, example 42000/60000. QE: 2 T: 2.94933\n",
      "Epoch 7, example 43000/60000. QE: 2 T: 2.94024\n",
      "Epoch 7, example 44000/60000. QE: 4 T: 2.9043\n",
      "Epoch 7, example 45000/60000. QE: 0 T: 2.94209\n",
      "Epoch 7, example 46000/60000. QE: 4 T: 2.91062\n",
      "Epoch 7, example 47000/60000. QE: 9 T: 2.94377\n",
      "Epoch 7, example 48000/60000. QE: 1 T: 2.92028\n",
      "Epoch 7, example 49000/60000. QE: 5 T: 2.92849\n",
      "Epoch 7, example 50000/60000. QE: 5 T: 2.91695\n",
      "Epoch 7, example 51000/60000. QE: 6 T: 2.92027\n",
      "Epoch 7, example 52000/60000. QE: 1 T: 2.95389\n",
      "Epoch 7, example 53000/60000. QE: 3 T: 2.92011\n",
      "Epoch 7, example 54000/60000. QE: 3 T: 2.93349\n",
      "Epoch 7, example 55000/60000. QE: 4 T: 2.93039\n",
      "Epoch 7, example 56000/60000. QE: 1 T: 2.92209\n",
      "Epoch 7, example 57000/60000. QE: 5 T: 2.90603\n",
      "Epoch 7, example 58000/60000. QE: 1 T: 2.89509\n",
      "Epoch 7, example 59000/60000. QE: 3 T: 2.91314\n",
      "FE: 3.1 TE: 2.14833 T: 8.57118\n",
      "Epoch 8, example 1000/60000. QE: 2 T: 2.56056\n",
      "Epoch 8, example 2000/60000. QE: 3 T: 2.52741\n",
      "Epoch 8, example 3000/60000. QE: 2 T: 2.54493\n",
      "Epoch 8, example 4000/60000. QE: 4 T: 2.52431\n",
      "Epoch 8, example 5000/60000. QE: 2 T: 2.5721\n",
      "Epoch 8, example 6000/60000. QE: 5 T: 2.55658\n",
      "Epoch 8, example 7000/60000. QE: 5 T: 2.57177\n",
      "Epoch 8, example 8000/60000. QE: 3 T: 2.53873\n",
      "Epoch 8, example 9000/60000. QE: 1 T: 2.53968\n",
      "Epoch 8, example 10000/60000. QE: 2 T: 2.49625\n",
      "Epoch 8, example 11000/60000. QE: 1 T: 2.53298\n",
      "Epoch 8, example 12000/60000. QE: 5 T: 2.52422\n",
      "Epoch 8, example 13000/60000. QE: 1 T: 2.58927\n",
      "Epoch 8, example 14000/60000. QE: 1 T: 2.49793\n",
      "Epoch 8, example 15000/60000. QE: 2 T: 2.53252\n",
      "Epoch 8, example 16000/60000. QE: 2 T: 2.51786\n",
      "Epoch 8, example 17000/60000. QE: 3 T: 2.5396\n",
      "Epoch 8, example 18000/60000. QE: 2 T: 2.50959\n",
      "Epoch 8, example 19000/60000. QE: 4 T: 2.54074\n",
      "Epoch 8, example 20000/60000. QE: 4 T: 2.52426\n",
      "Epoch 8, example 21000/60000. QE: 5 T: 2.53339\n",
      "Epoch 8, example 22000/60000. QE: 3 T: 2.48426\n",
      "Epoch 8, example 23000/60000. QE: 2 T: 2.53506\n",
      "Epoch 8, example 24000/60000. QE: 2 T: 2.52113\n",
      "Epoch 8, example 25000/60000. QE: 2 T: 2.52677\n",
      "Epoch 8, example 26000/60000. QE: 2 T: 2.49181\n",
      "Epoch 8, example 27000/60000. QE: 3 T: 2.52752\n",
      "Epoch 8, example 28000/60000. QE: 3 T: 2.51119\n",
      "Epoch 8, example 29000/60000. QE: 1 T: 2.53515\n",
      "Epoch 8, example 30000/60000. QE: 4 T: 2.49563\n",
      "Epoch 8, example 31000/60000. QE: 1 T: 2.52661\n",
      "Epoch 8, example 32000/60000. QE: 2 T: 2.51102\n",
      "Epoch 8, example 33000/60000. QE: 5 T: 2.52797\n",
      "Epoch 8, example 34000/60000. QE: 1 T: 2.51089\n",
      "Epoch 8, example 35000/60000. QE: 0 T: 2.53115\n",
      "Epoch 8, example 36000/60000. QE: 2 T: 2.51847\n",
      "Epoch 8, example 37000/60000. QE: 3 T: 2.52668\n",
      "Epoch 8, example 38000/60000. QE: 5 T: 2.49729\n",
      "Epoch 8, example 39000/60000. QE: 3 T: 2.57394\n",
      "Epoch 8, example 40000/60000. QE: 1 T: 2.51468\n",
      "Epoch 8, example 41000/60000. QE: 2 T: 2.52785\n",
      "Epoch 8, example 42000/60000. QE: 2 T: 2.51844\n",
      "Epoch 8, example 43000/60000. QE: 2 T: 2.52655\n",
      "Epoch 8, example 44000/60000. QE: 3 T: 2.51311\n",
      "Epoch 8, example 45000/60000. QE: 4 T: 2.53943\n",
      "Epoch 8, example 46000/60000. QE: 1 T: 2.51454\n",
      "Epoch 8, example 47000/60000. QE: 2 T: 2.56292\n",
      "Epoch 8, example 48000/60000. QE: 6 T: 2.52493\n",
      "Epoch 8, example 49000/60000. QE: 4 T: 2.56283\n",
      "Epoch 8, example 50000/60000. QE: 1 T: 2.52345\n",
      "Epoch 8, example 51000/60000. QE: 2 T: 2.55876\n",
      "Epoch 8, example 52000/60000. QE: 0 T: 2.54817\n",
      "Epoch 8, example 53000/60000. QE: 3 T: 2.56212\n",
      "Epoch 8, example 54000/60000. QE: 3 T: 2.52615\n",
      "Epoch 8, example 55000/60000. QE: 5 T: 2.58468\n",
      "Epoch 8, example 56000/60000. QE: 4 T: 2.51187\n",
      "Epoch 8, example 57000/60000. QE: 3 T: 2.53148\n",
      "Epoch 8, example 58000/60000. QE: 4 T: 2.52441\n",
      "Epoch 8, example 59000/60000. QE: 4 T: 2.55225\n",
      "FE: 2.98 TE: 1.92333 T: 8.08349\n",
      "Epoch 9, example 1000/60000. QE: 5 T: 3.49712\n",
      "Epoch 9, example 2000/60000. QE: 1 T: 2.85918\n",
      "Epoch 9, example 3000/60000. QE: 1 T: 2.86292\n",
      "Epoch 9, example 4000/60000. QE: 2 T: 2.93955\n",
      "Epoch 9, example 5000/60000. QE: 6 T: 2.87661\n",
      "Epoch 9, example 6000/60000. QE: 0 T: 2.89491\n",
      "Epoch 9, example 7000/60000. QE: 0 T: 2.88178\n",
      "Epoch 9, example 8000/60000. QE: 4 T: 2.92992\n",
      "Epoch 9, example 9000/60000. QE: 3 T: 2.88624\n",
      "Epoch 9, example 10000/60000. QE: 0 T: 2.91758\n",
      "Epoch 9, example 11000/60000. QE: 3 T: 2.92688\n",
      "Epoch 9, example 12000/60000. QE: 2 T: 2.90827\n",
      "Epoch 9, example 13000/60000. QE: 3 T: 2.8913\n",
      "Epoch 9, example 14000/60000. QE: 2 T: 2.90473\n",
      "Epoch 9, example 15000/60000. QE: 4 T: 2.92584\n",
      "Epoch 9, example 16000/60000. QE: 6 T: 2.90849\n",
      "Epoch 9, example 17000/60000. QE: 2 T: 2.8882\n",
      "Epoch 9, example 18000/60000. QE: 5 T: 2.9292\n",
      "Epoch 9, example 19000/60000. QE: 1 T: 2.88834\n",
      "Epoch 9, example 20000/60000. QE: 3 T: 2.9002\n",
      "Epoch 9, example 21000/60000. QE: 3 T: 2.88972\n",
      "Epoch 9, example 22000/60000. QE: 5 T: 2.9217\n",
      "Epoch 9, example 23000/60000. QE: 3 T: 2.89706\n",
      "Epoch 9, example 24000/60000. QE: 4 T: 2.90072\n",
      "Epoch 9, example 25000/60000. QE: 3 T: 2.92132\n",
      "Epoch 9, example 26000/60000. QE: 4 T: 2.9033\n",
      "Epoch 9, example 27000/60000. QE: 3 T: 2.91821\n",
      "Epoch 9, example 28000/60000. QE: 1 T: 2.94404\n",
      "Epoch 9, example 29000/60000. QE: 3 T: 2.91587\n",
      "Epoch 9, example 30000/60000. QE: 4 T: 2.95916\n",
      "Epoch 9, example 31000/60000. QE: 2 T: 2.93421\n",
      "Epoch 9, example 32000/60000. QE: 4 T: 2.94461\n",
      "Epoch 9, example 33000/60000. QE: 5 T: 2.93014\n",
      "Epoch 9, example 34000/60000. QE: 1 T: 2.92626\n",
      "Epoch 9, example 35000/60000. QE: 2 T: 2.95028\n",
      "Epoch 9, example 36000/60000. QE: 1 T: 2.91539\n",
      "Epoch 9, example 37000/60000. QE: 3 T: 2.93656\n",
      "Epoch 9, example 38000/60000. QE: 4 T: 2.91247\n",
      "Epoch 9, example 39000/60000. QE: 6 T: 2.95197\n",
      "Epoch 9, example 40000/60000. QE: 2 T: 2.92477\n",
      "Epoch 9, example 41000/60000. QE: 1 T: 2.92794\n",
      "Epoch 9, example 42000/60000. QE: 3 T: 2.95544\n",
      "Epoch 9, example 43000/60000. QE: 2 T: 2.92913\n",
      "Epoch 9, example 44000/60000. QE: 5 T: 2.93874\n",
      "Epoch 9, example 45000/60000. QE: 2 T: 2.92793\n",
      "Epoch 9, example 46000/60000. QE: 4 T: 2.91046\n",
      "Epoch 9, example 47000/60000. QE: 2 T: 2.99747\n",
      "Epoch 9, example 48000/60000. QE: 6 T: 2.93412\n",
      "Epoch 9, example 49000/60000. QE: 4 T: 2.95687\n",
      "Epoch 9, example 50000/60000. QE: 1 T: 2.93095\n"
     ]
    },
    {
     "name": "stdout",
     "output_type": "stream",
     "text": [
      "Epoch 9, example 51000/60000. QE: 1 T: 2.92761\n",
      "Epoch 9, example 52000/60000. QE: 2 T: 2.95896\n",
      "Epoch 9, example 53000/60000. QE: 1 T: 2.92546\n",
      "Epoch 9, example 54000/60000. QE: 3 T: 2.92991\n",
      "Epoch 9, example 55000/60000. QE: 2 T: 2.92624\n",
      "Epoch 9, example 56000/60000. QE: 2 T: 2.93886\n",
      "Epoch 9, example 57000/60000. QE: 3 T: 2.9208\n",
      "Epoch 9, example 58000/60000. QE: 0 T: 2.93324\n",
      "Epoch 9, example 59000/60000. QE: 2 T: 2.96048\n",
      "FE: 2.53 TE: 1.74333 T: 8.56965\n",
      "Epoch 10, example 1000/60000. QE: 3 T: 2.58703\n",
      "Epoch 10, example 2000/60000. QE: 0 T: 2.54021\n",
      "Epoch 10, example 3000/60000. QE: 2 T: 2.57331\n",
      "Epoch 10, example 4000/60000. QE: 5 T: 2.53753\n",
      "Epoch 10, example 5000/60000. QE: 1 T: 2.56007\n",
      "Epoch 10, example 6000/60000. QE: 2 T: 2.54261\n",
      "Epoch 10, example 7000/60000. QE: 2 T: 2.55675\n",
      "Epoch 10, example 8000/60000. QE: 3 T: 2.5458\n",
      "Epoch 10, example 9000/60000. QE: 2 T: 2.55856\n",
      "Epoch 10, example 10000/60000. QE: 4 T: 2.55067\n",
      "Epoch 10, example 11000/60000. QE: 2 T: 2.57193\n",
      "Epoch 10, example 12000/60000. QE: 4 T: 2.54767\n",
      "Epoch 10, example 13000/60000. QE: 2 T: 2.59177\n",
      "Epoch 10, example 14000/60000. QE: 5 T: 2.54826\n",
      "Epoch 10, example 15000/60000. QE: 2 T: 2.56993\n",
      "Epoch 10, example 16000/60000. QE: 5 T: 2.54812\n",
      "Epoch 10, example 17000/60000. QE: 3 T: 2.56826\n",
      "Epoch 10, example 18000/60000. QE: 0 T: 2.5251\n",
      "Epoch 10, example 19000/60000. QE: 4 T: 2.57092\n",
      "Epoch 10, example 20000/60000. QE: 3 T: 2.56708\n",
      "Epoch 10, example 21000/60000. QE: 3 T: 2.55738\n",
      "Epoch 10, example 22000/60000. QE: 0 T: 2.51461\n",
      "Epoch 10, example 23000/60000. QE: 2 T: 2.53076\n",
      "Epoch 10, example 24000/60000. QE: 2 T: 2.52935\n",
      "Epoch 10, example 25000/60000. QE: 6 T: 2.54395\n",
      "Epoch 10, example 26000/60000. QE: 3 T: 2.51352\n",
      "Epoch 10, example 27000/60000. QE: 3 T: 2.52381\n",
      "Epoch 10, example 28000/60000. QE: 2 T: 2.51741\n",
      "Epoch 10, example 29000/60000. QE: 2 T: 2.52628\n",
      "Epoch 10, example 30000/60000. QE: 6 T: 2.49118\n",
      "Epoch 10, example 31000/60000. QE: 3 T: 2.53187\n",
      "Epoch 10, example 32000/60000. QE: 3 T: 2.51992\n",
      "Epoch 10, example 33000/60000. QE: 1 T: 2.54051\n",
      "Epoch 10, example 34000/60000. QE: 3 T: 2.4979\n",
      "Epoch 10, example 35000/60000. QE: 2 T: 2.52953\n",
      "Epoch 10, example 36000/60000. QE: 2 T: 2.52028\n",
      "Epoch 10, example 37000/60000. QE: 3 T: 2.53316\n",
      "Epoch 10, example 38000/60000. QE: 2 T: 2.49465\n",
      "Epoch 10, example 39000/60000. QE: 3 T: 2.55556\n",
      "Epoch 10, example 40000/60000. QE: 1 T: 2.5243\n",
      "Epoch 10, example 41000/60000. QE: 1 T: 2.54224\n",
      "Epoch 10, example 42000/60000. QE: 0 T: 2.52446\n",
      "Epoch 10, example 43000/60000. QE: 3 T: 2.532\n",
      "Epoch 10, example 44000/60000. QE: 0 T: 2.54564\n",
      "Epoch 10, example 45000/60000. QE: 2 T: 2.52716\n",
      "Epoch 10, example 46000/60000. QE: 4 T: 2.49859\n",
      "Epoch 10, example 47000/60000. QE: 6 T: 2.54144\n",
      "Epoch 10, example 48000/60000. QE: 4 T: 2.52274\n",
      "Epoch 10, example 49000/60000. QE: 2 T: 2.526\n",
      "Epoch 10, example 50000/60000. QE: 0 T: 2.49188\n",
      "Epoch 10, example 51000/60000. QE: 3 T: 2.52489\n",
      "Epoch 10, example 52000/60000. QE: 3 T: 2.51665\n",
      "Epoch 10, example 53000/60000. QE: 2 T: 2.52834\n",
      "Epoch 10, example 54000/60000. QE: 2 T: 2.49649\n",
      "Epoch 10, example 55000/60000. QE: 2 T: 2.52751\n",
      "Epoch 10, example 56000/60000. QE: 1 T: 2.52239\n",
      "Epoch 10, example 57000/60000. QE: 4 T: 2.52651\n",
      "Epoch 10, example 58000/60000. QE: 2 T: 2.51417\n",
      "Epoch 10, example 59000/60000. QE: 4 T: 2.51941\n",
      "FE: 2.54 TE: 1.54333 T: 8.13769\n"
     ]
    }
   ],
   "source": [
    "n = (500, 10) #for now building everything for having one hidden layer\n",
    "n_in  = 784\n",
    "net = Network(n, n_in)\n",
    "train(net)"
   ]
  },
  {
   "cell_type": "code",
   "execution_count": null,
   "metadata": {},
   "outputs": [],
   "source": []
  }
 ],
 "metadata": {
  "kernelspec": {
   "display_name": "Julia 1.3.1",
   "language": "julia",
   "name": "julia-1.3"
  },
  "language_info": {
   "file_extension": ".jl",
   "mimetype": "application/julia",
   "name": "julia",
   "version": "1.3.1"
  }
 },
 "nbformat": 4,
 "nbformat_minor": 2
}
